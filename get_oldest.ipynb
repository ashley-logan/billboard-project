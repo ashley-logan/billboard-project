{
 "cells": [
  {
   "cell_type": "code",
   "execution_count": 1,
   "id": "f787be4c",
   "metadata": {},
   "outputs": [],
   "source": [
    "from bs4 import BeautifulSoup\n",
    "import pandas as pd\n",
    "import numpy as np\n",
    "import httpx\n",
    "import asyncio\n",
    "import datetime as dt\n",
    "import time\n",
    "import pylint\n",
    "import lxml\n",
    "import fastparquet\n",
    "import time"
   ]
  },
  {
   "cell_type": "code",
   "execution_count": 3,
   "id": "2faa8f6a",
   "metadata": {},
   "outputs": [],
   "source": [
    "def round_date(date, scalar=1):\n",
    "    while date.weekday() != 5:\n",
    "        date = date + scalar*dt.timedelta(days=1)\n",
    "    return date"
   ]
  },
  {
   "cell_type": "code",
   "execution_count": 4,
   "id": "05b48850",
   "metadata": {},
   "outputs": [],
   "source": [
    "def mod_generator(init_d, delta=1):\n",
    "    init_d = round_date(init_d)\n",
    "    curr = init_d\n",
    "    while True:\n",
    "        yield curr\n",
    "        curr -= dt.timedelta(weeks=delta)"
   ]
  },
  {
   "cell_type": "code",
   "execution_count": 44,
   "id": "74df19ef",
   "metadata": {},
   "outputs": [],
   "source": [
    "def catch_404(client):\n",
    "    start_t = time.time()\n",
    "    prev_t = start_t\n",
    "    intervals = [260, 52, 26, 12, 4, 1]\n",
    "    date = dt.datetime.strptime(\"1963-02-23\", \"%Y-%m-%d\")\n",
    "    for interval in intervals:\n",
    "        gen = mod_generator(init_d=date,delta=interval)\n",
    "        date = next(gen)\n",
    "        while check_page(client.get(date.strftime('%Y-%m-%d')+\"/\")) == date:\n",
    "            if (time.time() - prev_t) >=  30:\n",
    "                prev_t = time.time()\n",
    "                print(f\"Current date of site: {date}\")\n",
    "            date = next(gen)\n",
    "        print(f\"the date {date} isn't equal to {check_page(client.get(date.strftime('%Y-%m-%d')+\"/\"))}, interval {interval} chaning at {time.time()-start_t} seconds\")\n",
    "        date += dt.timedelta(weeks=interval)\n",
    "\n",
    "    return date"
   ]
  },
  {
   "cell_type": "code",
   "execution_count": null,
   "id": "77d948c8",
   "metadata": {},
   "outputs": [],
   "source": [
    "def check_page(soup):\n",
    "    str_d = soup.main.find('div', class_='pmc-paywall').p.string.split(maxsplit=2)[-1]\n",
    "    return dt.datetime.strptime(str_d,'%B %d, %Y')\n",
    "        \n"
   ]
  },
  {
   "cell_type": "code",
   "execution_count": 46,
   "id": "3a3e3162",
   "metadata": {},
   "outputs": [
    {
     "name": "stdout",
     "output_type": "stream",
     "text": [
      "the date 1958-03-01 00:00:00 isn't equal to 1958-08-04 00:00:00, interval 260 chaning at 0.5434670448303223 seconds\n",
      "the date 1961-02-25 00:00:00 isn't equal to 1961-02-27 00:00:00, interval 52 chaning at 1.150543212890625 seconds\n",
      "the date 1961-08-26 00:00:00 isn't equal to 1961-08-28 00:00:00, interval 26 chaning at 1.5880730152130127 seconds\n",
      "the date 1961-12-02 00:00:00 isn't equal to 1961-12-04 00:00:00, interval 12 chaning at 2.025895118713379 seconds\n",
      "the date 1961-12-30 00:00:00 isn't equal to 1962-01-06 00:00:00, interval 4 chaning at 2.5752062797546387 seconds\n",
      "the date 1961-12-30 00:00:00 isn't equal to 1962-01-06 00:00:00, interval 1 chaning at 3.4651572704315186 seconds\n"
     ]
    }
   ],
   "source": [
    "date = round_date(dt.datetime.strptime('1965-05-23','%Y-%m-%d'))\n",
    "with httpx.Client(base_url=\"https://www.billboard.com/charts/hot-100/\",timeout=10.0) as client:\n",
    "    e = catch_404(client) "
   ]
  },
  {
   "cell_type": "code",
   "execution_count": 33,
   "id": "bb52ec14",
   "metadata": {},
   "outputs": [
    {
     "data": {
      "text/plain": [
       "datetime.datetime(1965, 5, 29, 0, 0)"
      ]
     },
     "execution_count": 33,
     "metadata": {},
     "output_type": "execute_result"
    }
   ],
   "source": [
    "e"
   ]
  },
  {
   "cell_type": "code",
   "execution_count": null,
   "id": "b67053ce",
   "metadata": {},
   "outputs": [],
   "source": []
  }
 ],
 "metadata": {
  "kernelspec": {
   "display_name": "projects-env",
   "language": "python",
   "name": "python3"
  },
  "language_info": {
   "codemirror_mode": {
    "name": "ipython",
    "version": 3
   },
   "file_extension": ".py",
   "mimetype": "text/x-python",
   "name": "python",
   "nbconvert_exporter": "python",
   "pygments_lexer": "ipython3",
   "version": "3.13.2"
  }
 },
 "nbformat": 4,
 "nbformat_minor": 5
}
