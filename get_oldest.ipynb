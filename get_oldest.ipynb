{
 "cells": [
  {
   "cell_type": "code",
   "execution_count": 158,
   "id": "f787be4c",
   "metadata": {},
   "outputs": [],
   "source": [
    "import httpx\n",
    "import asyncio\n",
    "import datetime as dt\n",
    "import pylint\n",
    "from lxml import etree\n",
    "import time\n",
    "import re\n",
    "import pandas as pd"
   ]
  },
  {
   "cell_type": "code",
   "execution_count": 159,
   "id": "b618d745",
   "metadata": {},
   "outputs": [],
   "source": [
    "OLDEST = dt.datetime(1958, 8, 4)"
   ]
  },
  {
   "cell_type": "code",
   "execution_count": 160,
   "id": "2faa8f6a",
   "metadata": {},
   "outputs": [],
   "source": [
    "def to_saturday(date, scalar=1):\n",
    "    # rounds the date to a Saturday\n",
    "    while date.weekday() != 5:\n",
    "        date = date + scalar*dt.timedelta(days=1)\n",
    "    return date"
   ]
  },
  {
   "cell_type": "code",
   "execution_count": 161,
   "id": "05b48850",
   "metadata": {},
   "outputs": [],
   "source": [
    "def date_generator(latest_date=to_saturday(dt.datetime.today()), delta=1):\n",
    "    # infintite generator for dates that takes the timedelta as a paramater\n",
    "    latest_date = to_saturday(latest_date)\n",
    "    curr = latest_date\n",
    "    while curr >= OLDEST:\n",
    "        yield curr\n",
    "        curr -= dt.timedelta(weeks=delta)"
   ]
  },
  {
   "cell_type": "code",
   "execution_count": 162,
   "id": "57017fef",
   "metadata": {},
   "outputs": [],
   "source": [
    "def get_url(date):\n",
    "    return date.strftime('%Y-%m-%d') + '/'"
   ]
  },
  {
   "cell_type": "code",
   "execution_count": 163,
   "id": "e926a658",
   "metadata": {},
   "outputs": [],
   "source": [
    "# testing parser feed() and read_events() methods\n",
    "async def html_driver(date, client):\n",
    "    url = get_url(date)\n",
    "    parser = etree.HTMLPullParser(events=(\"start\", \"end\"))\n",
    "    handler = HTMLHandler()\n",
    "    \n",
    "    async with client.stream('GET', url) as response:\n",
    "        async for chunk in response.aiter_text():\n",
    "            parser.feed(chunk)\n",
    "            for event, ele in parser.read_events():\n",
    "                handler.on_event(event, ele)\n",
    "                \n",
    "    data = handler.get_content()\n",
    "    return format_data(date, data)\n",
    "                "
   ]
  },
  {
   "cell_type": "code",
   "execution_count": 164,
   "id": "77d948c8",
   "metadata": {},
   "outputs": [],
   "source": [
    "class HTMLHandler:\n",
    "    PARENT_TAG = 'ul' # parent tag that contains all relevant nodes\n",
    "    CHILD_TAGS = ['span', 'h3'] # tags within parent node that contain relevant data\n",
    "    PARENT_CLASS = 'o-chart-results-list-row //' # beginning of the parent class\n",
    "    TEXT_IGNORE = ['NEW', 'RE-\\nENTRY'] # irrelevant text that shouldn't be returned \n",
    "\n",
    "    def __init__(self):\n",
    "        self.content = [] # returns all of the rows as lists of strings\n",
    "        self.curr_row = [] # holds the data as a list of strings\n",
    "        self.within_parent = False # flag indicating whether the current node is within the parent node\n",
    "\n",
    "    def is_parent(self, tag, ele):\n",
    "        return tag == self.PARENT_TAG and self.PARENT_CLASS in ele.attrib.get('class', '')\n",
    "\n",
    "    def is_child(self, tag):\n",
    "        return self.within_parent and tag in self.CHILD_TAGS\n",
    "\n",
    "    def on_event(self, event, ele):\n",
    "        tag = ele.tag\n",
    "        if event == 'start':\n",
    "            self.on_start(tag, ele)\n",
    "        elif event == 'end':\n",
    "            self.on_end(tag, ele)\n",
    "\n",
    "    def on_start(self, tag, ele):\n",
    "        # when the parser encounters a start tag...\n",
    "        if self.is_parent(tag, ele):\n",
    "            assert not self.curr_row # row should be empty if entering a new parent node\n",
    "            self.within_parent = True\n",
    "\n",
    "    def on_end(self, tag, ele):\n",
    "        if self.is_parent(tag, ele) and self.curr_row:\n",
    "            self.content.append(self.curr_row)\n",
    "            self.curr_row = []\n",
    "            self.within_parent = False\n",
    "        elif self.is_child(tag):\n",
    "            if ele.text:\n",
    "                data = ele.text.strip()\n",
    "                if data and data not in self.TEXT_IGNORE:\n",
    "                    self.curr_row.append(data)\n",
    "        ele.clear()\n",
    "    \n",
    "    def get_content(self):\n",
    "        if self.curr_row:\n",
    "            self.content.append(self.curr_row)\n",
    "            self.curr_row = []\n",
    "        return self.content\n",
    "\n",
    "\n",
    "    \n",
    "\n",
    "    \n"
   ]
  },
  {
   "cell_type": "code",
   "execution_count": 165,
   "id": "0e943074",
   "metadata": {},
   "outputs": [],
   "source": [
    "def format_data(date, parsed_data):\n",
    "    idxs = [-1, 0, 1, 2, 5]\n",
    "    columns = ['date', 'position', 'song', 'artist', 'wks_on_chart']\n",
    "    parsed_data = [row + [date] for row in parsed_data]\n",
    "    return [{column: row[i] for column, i in zip(columns, idxs)} for row in parsed_data]"
   ]
  },
  {
   "cell_type": "code",
   "execution_count": null,
   "id": "0b9be2e6",
   "metadata": {},
   "outputs": [],
   "source": [
    "async def main():\n",
    "    start_time = time.time()\n",
    "    BUFFER_SIZE = 800\n",
    "    dates = date_generator(delta=52)\n",
    "    buffer = []\n",
    "    tasks = []\n",
    "    async with httpx.AsyncClient(\n",
    "        base_url=\"https://www.billboard.com/charts/hot-100/\", timeout=15.0\n",
    "        ) as client:\n",
    "        async with asyncio.TaskGroup() as tg:\n",
    "            tasks = [\n",
    "                tg.create_task(html_driver(\n",
    "                    date, client)) for date in dates\n",
    "                    ]\n",
    "\n",
    "    for future in asyncio.as_completed(tasks):\n",
    "        data = await future\n",
    "        buffer += data\n",
    "    \n",
    "        if len(buffer) >= BUFFER_SIZE:\n",
    "            df = pd.DataFrame(buffer)\n",
    "            buffer.clear()\n",
    "            print(f\"flushed buffer at {time.time() - start_time} seconds\")\n",
    "\n",
    "    if buffer:\n",
    "        df = pd.DataFrame(buffer)\n",
    "        print(f\"final flush at {time.time() - start_time} seconds\")\n",
    "    return results\n",
    "\n",
    "\n"
   ]
  },
  {
   "cell_type": "code",
   "execution_count": 183,
   "id": "23045a3b",
   "metadata": {},
   "outputs": [
    {
     "name": "stdout",
     "output_type": "stream",
     "text": [
      "flushed buffer at 2.262375831604004 seconds\n",
      "flushed buffer at 2.2629051208496094 seconds\n",
      "flushed buffer at 2.2634239196777344 seconds\n",
      "flushed buffer at 2.2639269828796387 seconds\n",
      "flushed buffer at 2.2643980979919434 seconds\n",
      "flushed buffer at 2.2648561000823975 seconds\n",
      "flushed buffer at 2.2653160095214844 seconds\n",
      "flushed buffer at 2.2657721042633057 seconds\n",
      "final flush at 2.266050100326538 seconds\n"
     ]
    }
   ],
   "source": [
    "dfs = await main()\n"
   ]
  },
  {
   "cell_type": "code",
   "execution_count": null,
   "id": "5568a642",
   "metadata": {},
   "outputs": [
    {
     "data": {
      "text/plain": [
       "['1', 'Roses Are Red (My Love)', 'Bobby Vinton', '7']"
      ]
     },
     "execution_count": 186,
     "metadata": {},
     "output_type": "execute_result"
    }
   ],
   "source": []
  },
  {
   "cell_type": "code",
   "execution_count": null,
   "id": "c0076903",
   "metadata": {},
   "outputs": [],
   "source": []
  }
 ],
 "metadata": {
  "kernelspec": {
   "display_name": "projects-env",
   "language": "python",
   "name": "python3"
  },
  "language_info": {
   "codemirror_mode": {
    "name": "ipython",
    "version": 3
   },
   "file_extension": ".py",
   "mimetype": "text/x-python",
   "name": "python",
   "nbconvert_exporter": "python",
   "pygments_lexer": "ipython3",
   "version": "3.13.2"
  }
 },
 "nbformat": 4,
 "nbformat_minor": 5
}
