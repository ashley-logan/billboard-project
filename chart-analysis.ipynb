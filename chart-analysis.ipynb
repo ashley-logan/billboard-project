{
 "cells": [
  {
   "cell_type": "code",
   "execution_count": 13,
   "id": "ef788103-5815-41c3-9ea7-63e5d18103ce",
   "metadata": {},
   "outputs": [
    {
     "name": "stderr",
     "output_type": "stream",
     "text": [
      "Matplotlib is building the font cache; this may take a moment.\n"
     ]
    }
   ],
   "source": [
    "import pandas as pd\n",
    "import numpy as np\n",
    "import datetime as dt\n",
    "import time\n",
    "import pylint\n",
    "from matplotlib import pyplot as plt\n",
    "import fastparquet"
   ]
  },
  {
   "cell_type": "code",
   "execution_count": 2,
   "id": "d9b811d1-2c29-4b20-8ba8-8795a74d6db0",
   "metadata": {},
   "outputs": [],
   "source": [
    "with open(\"charts1995-2000.parquet\",\"rb\") as file:\n",
    "    df = pd.read_parquet(file,engine=\"fastparquet\")"
   ]
  },
  {
   "cell_type": "code",
   "execution_count": 3,
   "id": "25a36794-362b-40f0-b92a-6bd891b20518",
   "metadata": {},
   "outputs": [],
   "source": [
    "def get_range(idx):\n",
    "    dates = idx.get_level_values(\"date\")\n",
    "    return dates.min(),dates.max()"
   ]
  },
  {
   "cell_type": "code",
   "execution_count": 4,
   "id": "e0cc8a8a-549c-4ca2-b59f-2f23648eef10",
   "metadata": {},
   "outputs": [],
   "source": [
    "def expand_artists(df):\n",
    "    localdf = df.copy()\n",
    "    temp = localdf[\"artist\"].str.split('&',expand=True)\n",
    "    localdf.insert(value=temp.iloc[:,0],column=\"artist1\",loc=1)\n",
    "    localdf.insert(value=temp.iloc[:,1],column=\"artist2\",loc=2)\n",
    "    localdf.insert(value=temp.iloc[:,2],column=\"artist3\",loc=3)\n",
    "    localdf = localdf.drop(columns=\"artist\")\n",
    "    temp = localdf[\"artist1\"].str.split(\"Featuring\",expand=True)\n",
    "    localdf.insert(value=temp.iloc[:,1],column=\"feature(s)\",loc=4)\n",
    "    localdf[\"artist1\"] = temp.iloc[:,0]\n",
    "    return localdf\n",
    "    "
   ]
  },
  {
   "cell_type": "code",
   "execution_count": 5,
   "id": "e82c1333-37e5-4236-a267-5a6b40ade06d",
   "metadata": {},
   "outputs": [],
   "source": [
    "def top10(df,col):\n",
    "    local = df.copy()\n",
    "    return local[col].value_counts()[:10]"
   ]
  },
  {
   "cell_type": "code",
   "execution_count": 10,
   "id": "afb64144",
   "metadata": {},
   "outputs": [],
   "source": [
    "df = expand_artists(df)"
   ]
  },
  {
   "cell_type": "code",
   "execution_count": 16,
   "id": "af31b5bc",
   "metadata": {},
   "outputs": [],
   "source": [
    "artists10 = top10(df,\"artist1\")\n",
    "songs10 = top10(df,\"song\")\n",
    "df_rows = df.loc[df['song'].isin(songs10.index)]"
   ]
  },
  {
   "cell_type": "code",
   "execution_count": 21,
   "id": "903b7460",
   "metadata": {},
   "outputs": [
    {
     "ename": "ValueError",
     "evalue": "x and y must have same first dimension, but have shapes (375,) and (43,)",
     "output_type": "error",
     "traceback": [
      "\u001b[31m---------------------------------------------------------------------------\u001b[39m",
      "\u001b[31mValueError\u001b[39m                                Traceback (most recent call last)",
      "\u001b[36mCell\u001b[39m\u001b[36m \u001b[39m\u001b[32mIn[21]\u001b[39m\u001b[32m, line 5\u001b[39m\n\u001b[32m      3\u001b[39m label = song\n\u001b[32m      4\u001b[39m axis_y = [pos \u001b[38;5;28;01mfor\u001b[39;00m pos \u001b[38;5;129;01min\u001b[39;00m df.loc[df[\u001b[33m'\u001b[39m\u001b[33msong\u001b[39m\u001b[33m'\u001b[39m]==song].index.get_level_values(level=\u001b[33m'\u001b[39m\u001b[33mposition\u001b[39m\u001b[33m'\u001b[39m)]\n\u001b[32m----> \u001b[39m\u001b[32m5\u001b[39m \u001b[43mplt\u001b[49m\u001b[43m.\u001b[49m\u001b[43mplot\u001b[49m\u001b[43m(\u001b[49m\u001b[43maxis_x\u001b[49m\u001b[43m,\u001b[49m\u001b[43maxis_y\u001b[49m\u001b[43m)\u001b[49m\n\u001b[32m      6\u001b[39m \u001b[38;5;28;01mbreak\u001b[39;00m\n",
      "\u001b[36mFile \u001b[39m\u001b[32m/opt/homebrew/anaconda3/envs/projects-env/lib/python3.13/site-packages/matplotlib/pyplot.py:3829\u001b[39m, in \u001b[36mplot\u001b[39m\u001b[34m(scalex, scaley, data, *args, **kwargs)\u001b[39m\n\u001b[32m   3821\u001b[39m \u001b[38;5;129m@_copy_docstring_and_deprecators\u001b[39m(Axes.plot)\n\u001b[32m   3822\u001b[39m \u001b[38;5;28;01mdef\u001b[39;00m\u001b[38;5;250m \u001b[39m\u001b[34mplot\u001b[39m(\n\u001b[32m   3823\u001b[39m     *args: \u001b[38;5;28mfloat\u001b[39m | ArrayLike | \u001b[38;5;28mstr\u001b[39m,\n\u001b[32m   (...)\u001b[39m\u001b[32m   3827\u001b[39m     **kwargs,\n\u001b[32m   3828\u001b[39m ) -> \u001b[38;5;28mlist\u001b[39m[Line2D]:\n\u001b[32m-> \u001b[39m\u001b[32m3829\u001b[39m     \u001b[38;5;28;01mreturn\u001b[39;00m \u001b[43mgca\u001b[49m\u001b[43m(\u001b[49m\u001b[43m)\u001b[49m\u001b[43m.\u001b[49m\u001b[43mplot\u001b[49m\u001b[43m(\u001b[49m\n\u001b[32m   3830\u001b[39m \u001b[43m        \u001b[49m\u001b[43m*\u001b[49m\u001b[43margs\u001b[49m\u001b[43m,\u001b[49m\n\u001b[32m   3831\u001b[39m \u001b[43m        \u001b[49m\u001b[43mscalex\u001b[49m\u001b[43m=\u001b[49m\u001b[43mscalex\u001b[49m\u001b[43m,\u001b[49m\n\u001b[32m   3832\u001b[39m \u001b[43m        \u001b[49m\u001b[43mscaley\u001b[49m\u001b[43m=\u001b[49m\u001b[43mscaley\u001b[49m\u001b[43m,\u001b[49m\n\u001b[32m   3833\u001b[39m \u001b[43m        \u001b[49m\u001b[43m*\u001b[49m\u001b[43m*\u001b[49m\u001b[43m(\u001b[49m\u001b[43m{\u001b[49m\u001b[33;43m\"\u001b[39;49m\u001b[33;43mdata\u001b[39;49m\u001b[33;43m\"\u001b[39;49m\u001b[43m:\u001b[49m\u001b[43m \u001b[49m\u001b[43mdata\u001b[49m\u001b[43m}\u001b[49m\u001b[43m \u001b[49m\u001b[38;5;28;43;01mif\u001b[39;49;00m\u001b[43m \u001b[49m\u001b[43mdata\u001b[49m\u001b[43m \u001b[49m\u001b[38;5;129;43;01mis\u001b[39;49;00m\u001b[43m \u001b[49m\u001b[38;5;129;43;01mnot\u001b[39;49;00m\u001b[43m \u001b[49m\u001b[38;5;28;43;01mNone\u001b[39;49;00m\u001b[43m \u001b[49m\u001b[38;5;28;43;01melse\u001b[39;49;00m\u001b[43m \u001b[49m\u001b[43m{\u001b[49m\u001b[43m}\u001b[49m\u001b[43m)\u001b[49m\u001b[43m,\u001b[49m\n\u001b[32m   3834\u001b[39m \u001b[43m        \u001b[49m\u001b[43m*\u001b[49m\u001b[43m*\u001b[49m\u001b[43mkwargs\u001b[49m\u001b[43m,\u001b[49m\n\u001b[32m   3835\u001b[39m \u001b[43m    \u001b[49m\u001b[43m)\u001b[49m\n",
      "\u001b[36mFile \u001b[39m\u001b[32m/opt/homebrew/anaconda3/envs/projects-env/lib/python3.13/site-packages/matplotlib/axes/_axes.py:1777\u001b[39m, in \u001b[36mAxes.plot\u001b[39m\u001b[34m(self, scalex, scaley, data, *args, **kwargs)\u001b[39m\n\u001b[32m   1534\u001b[39m \u001b[38;5;250m\u001b[39m\u001b[33;03m\"\"\"\u001b[39;00m\n\u001b[32m   1535\u001b[39m \u001b[33;03mPlot y versus x as lines and/or markers.\u001b[39;00m\n\u001b[32m   1536\u001b[39m \n\u001b[32m   (...)\u001b[39m\u001b[32m   1774\u001b[39m \u001b[33;03m(``'green'``) or hex strings (``'#008000'``).\u001b[39;00m\n\u001b[32m   1775\u001b[39m \u001b[33;03m\"\"\"\u001b[39;00m\n\u001b[32m   1776\u001b[39m kwargs = cbook.normalize_kwargs(kwargs, mlines.Line2D)\n\u001b[32m-> \u001b[39m\u001b[32m1777\u001b[39m lines = [*\u001b[38;5;28mself\u001b[39m._get_lines(\u001b[38;5;28mself\u001b[39m, *args, data=data, **kwargs)]\n\u001b[32m   1778\u001b[39m \u001b[38;5;28;01mfor\u001b[39;00m line \u001b[38;5;129;01min\u001b[39;00m lines:\n\u001b[32m   1779\u001b[39m     \u001b[38;5;28mself\u001b[39m.add_line(line)\n",
      "\u001b[36mFile \u001b[39m\u001b[32m/opt/homebrew/anaconda3/envs/projects-env/lib/python3.13/site-packages/matplotlib/axes/_base.py:297\u001b[39m, in \u001b[36m_process_plot_var_args.__call__\u001b[39m\u001b[34m(self, axes, data, return_kwargs, *args, **kwargs)\u001b[39m\n\u001b[32m    295\u001b[39m     this += args[\u001b[32m0\u001b[39m],\n\u001b[32m    296\u001b[39m     args = args[\u001b[32m1\u001b[39m:]\n\u001b[32m--> \u001b[39m\u001b[32m297\u001b[39m \u001b[38;5;28;01myield from\u001b[39;00m \u001b[38;5;28;43mself\u001b[39;49m\u001b[43m.\u001b[49m\u001b[43m_plot_args\u001b[49m\u001b[43m(\u001b[49m\n\u001b[32m    298\u001b[39m \u001b[43m    \u001b[49m\u001b[43maxes\u001b[49m\u001b[43m,\u001b[49m\u001b[43m \u001b[49m\u001b[43mthis\u001b[49m\u001b[43m,\u001b[49m\u001b[43m \u001b[49m\u001b[43mkwargs\u001b[49m\u001b[43m,\u001b[49m\u001b[43m \u001b[49m\u001b[43mambiguous_fmt_datakey\u001b[49m\u001b[43m=\u001b[49m\u001b[43mambiguous_fmt_datakey\u001b[49m\u001b[43m,\u001b[49m\n\u001b[32m    299\u001b[39m \u001b[43m    \u001b[49m\u001b[43mreturn_kwargs\u001b[49m\u001b[43m=\u001b[49m\u001b[43mreturn_kwargs\u001b[49m\n\u001b[32m    300\u001b[39m \u001b[43m\u001b[49m\u001b[43m)\u001b[49m\n",
      "\u001b[36mFile \u001b[39m\u001b[32m/opt/homebrew/anaconda3/envs/projects-env/lib/python3.13/site-packages/matplotlib/axes/_base.py:494\u001b[39m, in \u001b[36m_process_plot_var_args._plot_args\u001b[39m\u001b[34m(self, axes, tup, kwargs, return_kwargs, ambiguous_fmt_datakey)\u001b[39m\n\u001b[32m    491\u001b[39m     axes.yaxis.update_units(y)\n\u001b[32m    493\u001b[39m \u001b[38;5;28;01mif\u001b[39;00m x.shape[\u001b[32m0\u001b[39m] != y.shape[\u001b[32m0\u001b[39m]:\n\u001b[32m--> \u001b[39m\u001b[32m494\u001b[39m     \u001b[38;5;28;01mraise\u001b[39;00m \u001b[38;5;167;01mValueError\u001b[39;00m(\u001b[33mf\u001b[39m\u001b[33m\"\u001b[39m\u001b[33mx and y must have same first dimension, but \u001b[39m\u001b[33m\"\u001b[39m\n\u001b[32m    495\u001b[39m                      \u001b[33mf\u001b[39m\u001b[33m\"\u001b[39m\u001b[33mhave shapes \u001b[39m\u001b[38;5;132;01m{\u001b[39;00mx.shape\u001b[38;5;132;01m}\u001b[39;00m\u001b[33m and \u001b[39m\u001b[38;5;132;01m{\u001b[39;00my.shape\u001b[38;5;132;01m}\u001b[39;00m\u001b[33m\"\u001b[39m)\n\u001b[32m    496\u001b[39m \u001b[38;5;28;01mif\u001b[39;00m x.ndim > \u001b[32m2\u001b[39m \u001b[38;5;129;01mor\u001b[39;00m y.ndim > \u001b[32m2\u001b[39m:\n\u001b[32m    497\u001b[39m     \u001b[38;5;28;01mraise\u001b[39;00m \u001b[38;5;167;01mValueError\u001b[39;00m(\u001b[33mf\u001b[39m\u001b[33m\"\u001b[39m\u001b[33mx and y can be no greater than 2D, but have \u001b[39m\u001b[33m\"\u001b[39m\n\u001b[32m    498\u001b[39m                      \u001b[33mf\u001b[39m\u001b[33m\"\u001b[39m\u001b[33mshapes \u001b[39m\u001b[38;5;132;01m{\u001b[39;00mx.shape\u001b[38;5;132;01m}\u001b[39;00m\u001b[33m and \u001b[39m\u001b[38;5;132;01m{\u001b[39;00my.shape\u001b[38;5;132;01m}\u001b[39;00m\u001b[33m\"\u001b[39m)\n",
      "\u001b[31mValueError\u001b[39m: x and y must have same first dimension, but have shapes (375,) and (43,)"
     ]
    },
    {
     "data": {
      "image/png": "[encoded data removed]",
      "text/plain": [
       "<Figure size 640x480 with 1 Axes>"
      ]
     },
     "metadata": {},
     "output_type": "display_data"
    }
   ],
   "source": [
    "axis_x = [val for val in df_rows.index.get_level_values(level='date').sort_values()]\n",
    "for song in songs10.index:\n",
    "    label = song\n",
    "    axis_y = [pos for pos in df.loc[df['song']==song].index.get_level_values(level='position')]\n",
    "    plt.plot(axis_x,axis_y)\n",
    "    break\n"
   ]
  },
  {
   "cell_type": "code",
   "execution_count": 8,
   "id": "7072cce2",
   "metadata": {},
   "outputs": [],
   "source": [
    "def max_weeks(df):\n",
    "    local = df.copy()\n",
    "    sorted = local.groupby(\"song\")[\"wks_on_chart\"].max().sort_values(ascending=False)[:10]\n",
    "    local = local.loc[local[\"song\"].isin(sorted.index)]\n",
    "    local = local.sort_values(by=\"date\")\n",
    "    local = local.drop_duplicates(subset=\"song\")\n",
    "    return local\n",
    "    "
   ]
  },
  {
   "cell_type": "code",
   "execution_count": 9,
   "id": "a36601fc",
   "metadata": {},
   "outputs": [
    {
     "data": {
      "text/html": [
       "<div>\n",
       "<style scoped>\n",
       "    .dataframe tbody tr th:only-of-type {\n",
       "        vertical-align: middle;\n",
       "    }\n",
       "\n",
       "    .dataframe tbody tr th {\n",
       "        vertical-align: top;\n",
       "    }\n",
       "\n",
       "    .dataframe thead th {\n",
       "        text-align: right;\n",
       "    }\n",
       "</style>\n",
       "<table border=\"1\" class=\"dataframe\">\n",
       "  <thead>\n",
       "    <tr style=\"text-align: right;\">\n",
       "      <th></th>\n",
       "      <th></th>\n",
       "      <th>song</th>\n",
       "      <th>artist</th>\n",
       "      <th>award</th>\n",
       "      <th>last_week</th>\n",
       "      <th>peak_pos</th>\n",
       "      <th>wks_on_chart</th>\n",
       "    </tr>\n",
       "    <tr>\n",
       "      <th>date</th>\n",
       "      <th>position</th>\n",
       "      <th></th>\n",
       "      <th></th>\n",
       "      <th></th>\n",
       "      <th></th>\n",
       "      <th></th>\n",
       "      <th></th>\n",
       "    </tr>\n",
       "  </thead>\n",
       "  <tbody>\n",
       "    <tr>\n",
       "      <th rowspan=\"3\" valign=\"top\">1995-11-04</th>\n",
       "      <th>46.0</th>\n",
       "      <td>Macarena (Bayside Boys Mix)</td>\n",
       "      <td>Los Del Rio</td>\n",
       "      <td>False</td>\n",
       "      <td>52.0</td>\n",
       "      <td>45.0</td>\n",
       "      <td>10.0</td>\n",
       "    </tr>\n",
       "    <tr>\n",
       "      <th>44.0</th>\n",
       "      <td>Missing</td>\n",
       "      <td>Everything But The Girl</td>\n",
       "      <td>True</td>\n",
       "      <td>60.0</td>\n",
       "      <td>44.0</td>\n",
       "      <td>13.0</td>\n",
       "    </tr>\n",
       "    <tr>\n",
       "      <th>16.0</th>\n",
       "      <td>Run-Around</td>\n",
       "      <td>Blues Traveler</td>\n",
       "      <td>False</td>\n",
       "      <td>16.0</td>\n",
       "      <td>8.0</td>\n",
       "      <td>33.0</td>\n",
       "    </tr>\n",
       "    <tr>\n",
       "      <th rowspan=\"2\" valign=\"top\">1996-11-30</th>\n",
       "      <th>85.0</th>\n",
       "      <td>Barely Breathing</td>\n",
       "      <td>Duncan Sheik</td>\n",
       "      <td>True</td>\n",
       "      <td>NaN</td>\n",
       "      <td>85.0</td>\n",
       "      <td>1.0</td>\n",
       "    </tr>\n",
       "    <tr>\n",
       "      <th>61.0</th>\n",
       "      <td>Foolish Games/You Were Meant For Me</td>\n",
       "      <td>Jewel</td>\n",
       "      <td>True</td>\n",
       "      <td>NaN</td>\n",
       "      <td>61.0</td>\n",
       "      <td>1.0</td>\n",
       "    </tr>\n",
       "    <tr>\n",
       "      <th>1997-07-26</th>\n",
       "      <th>18.0</th>\n",
       "      <td>How Do I Live</td>\n",
       "      <td>LeAnn Rimes</td>\n",
       "      <td>True</td>\n",
       "      <td>22.0</td>\n",
       "      <td>18.0</td>\n",
       "      <td>6.0</td>\n",
       "    </tr>\n",
       "    <tr>\n",
       "      <th>1997-11-15</th>\n",
       "      <th>15.0</th>\n",
       "      <td>I Don't Want To Wait</td>\n",
       "      <td>Paula Cole</td>\n",
       "      <td>True</td>\n",
       "      <td>15.0</td>\n",
       "      <td>15.0</td>\n",
       "      <td>3.0</td>\n",
       "    </tr>\n",
       "    <tr>\n",
       "      <th rowspan=\"2\" valign=\"top\">1997-12-20</th>\n",
       "      <th>31.0</th>\n",
       "      <td>How's It Going To Be</td>\n",
       "      <td>Third Eye Blind</td>\n",
       "      <td>True</td>\n",
       "      <td>31.0</td>\n",
       "      <td>31.0</td>\n",
       "      <td>3.0</td>\n",
       "    </tr>\n",
       "    <tr>\n",
       "      <th>12.0</th>\n",
       "      <td>Truly Madly Deeply</td>\n",
       "      <td>Savage Garden</td>\n",
       "      <td>True</td>\n",
       "      <td>17.0</td>\n",
       "      <td>12.0</td>\n",
       "      <td>3.0</td>\n",
       "    </tr>\n",
       "    <tr>\n",
       "      <th>1998-02-14</th>\n",
       "      <th>45.0</th>\n",
       "      <td>Too Close</td>\n",
       "      <td>Next</td>\n",
       "      <td>True</td>\n",
       "      <td>NaN</td>\n",
       "      <td>45.0</td>\n",
       "      <td>1.0</td>\n",
       "    </tr>\n",
       "  </tbody>\n",
       "</table>\n",
       "</div>"
      ],
      "text/plain": [
       "                                                    song  \\\n",
       "date       position                                        \n",
       "1995-11-04 46.0              Macarena (Bayside Boys Mix)   \n",
       "           44.0                                  Missing   \n",
       "           16.0                               Run-Around   \n",
       "1996-11-30 85.0                         Barely Breathing   \n",
       "           61.0      Foolish Games/You Were Meant For Me   \n",
       "1997-07-26 18.0                            How Do I Live   \n",
       "1997-11-15 15.0                     I Don't Want To Wait   \n",
       "1997-12-20 31.0                     How's It Going To Be   \n",
       "           12.0                       Truly Madly Deeply   \n",
       "1998-02-14 45.0                                Too Close   \n",
       "\n",
       "                                      artist  award  last_week  peak_pos  \\\n",
       "date       position                                                        \n",
       "1995-11-04 46.0                  Los Del Rio  False       52.0      45.0   \n",
       "           44.0      Everything But The Girl   True       60.0      44.0   \n",
       "           16.0               Blues Traveler  False       16.0       8.0   \n",
       "1996-11-30 85.0                 Duncan Sheik   True        NaN      85.0   \n",
       "           61.0                        Jewel   True        NaN      61.0   \n",
       "1997-07-26 18.0                  LeAnn Rimes   True       22.0      18.0   \n",
       "1997-11-15 15.0                   Paula Cole   True       15.0      15.0   \n",
       "1997-12-20 31.0              Third Eye Blind   True       31.0      31.0   \n",
       "           12.0                Savage Garden   True       17.0      12.0   \n",
       "1998-02-14 45.0                         Next   True        NaN      45.0   \n",
       "\n",
       "                     wks_on_chart  \n",
       "date       position                \n",
       "1995-11-04 46.0              10.0  \n",
       "           44.0              13.0  \n",
       "           16.0              33.0  \n",
       "1996-11-30 85.0               1.0  \n",
       "           61.0               1.0  \n",
       "1997-07-26 18.0               6.0  \n",
       "1997-11-15 15.0               3.0  \n",
       "1997-12-20 31.0               3.0  \n",
       "           12.0               3.0  \n",
       "1998-02-14 45.0               1.0  "
      ]
     },
     "execution_count": 9,
     "metadata": {},
     "output_type": "execute_result"
    }
   ],
   "source": [
    "max_weeks(df)"
   ]
  },
  {
   "cell_type": "code",
   "execution_count": 57,
   "id": "e779d581-dc9e-469d-88a5-c43d8b118919",
   "metadata": {},
   "outputs": [
    {
     "data": {
      "text/plain": [
       "Index(['Shania Twain', 'Garbage', 'Deborah Cox', 'Backstreet Boys',\n",
       "       'Collective Soul', 'Dixie Chicks', 'Faith Hill',\n",
       "       'The Smashing Pumpkins', 'Bush', 'Hootie '],\n",
       "      dtype='object', name='artist1')"
      ]
     },
     "execution_count": 57,
     "metadata": {},
     "output_type": "execute_result"
    }
   ],
   "source": [
    "pos_sum1.index[:10]"
   ]
  },
  {
   "cell_type": "code",
   "execution_count": 66,
   "id": "37e7b511-92ea-47e7-b2a4-2429f43cfa4f",
   "metadata": {},
   "outputs": [],
   "source": [
    "# search = '|'.join(list(pos_sum1.index[:10]))\n",
    "# search\n",
    "top_entries = new_df.loc[new_df[\"artist1\"].isin(pos_sum1.index[:10])]"
   ]
  },
  {
   "cell_type": "code",
   "execution_count": 129,
   "id": "2f6e8b12-8487-4907-882e-2bcf2ced1798",
   "metadata": {},
   "outputs": [],
   "source": [
    "def get_normalized(df):\n",
    "    local = df.copy()\n",
    "    local = local.sort_values(by=\"date\")\n",
    "    local = local.groupby(\"song\")[\"artist1\"].unique()\n",
    "    return local.list.flatten"
   ]
  },
  {
   "cell_type": "code",
   "execution_count": 130,
   "id": "205f7030-8437-4475-bde4-62497aaa432a",
   "metadata": {},
   "outputs": [
    {
     "ename": "NameError",
     "evalue": "name 'ArrowDtype' is not defined",
     "output_type": "error",
     "traceback": [
      "\u001b[31m---------------------------------------------------------------------------\u001b[39m",
      "\u001b[31mNameError\u001b[39m                                 Traceback (most recent call last)",
      "\u001b[36mCell\u001b[39m\u001b[36m \u001b[39m\u001b[32mIn[130]\u001b[39m\u001b[32m, line 1\u001b[39m\n\u001b[32m----> \u001b[39m\u001b[32m1\u001b[39m p = get_normalized(new_df)\n\u001b[32m      2\u001b[39m p\n",
      "\u001b[36mCell\u001b[39m\u001b[36m \u001b[39m\u001b[32mIn[129]\u001b[39m\u001b[32m, line 5\u001b[39m, in \u001b[36mget_normalized\u001b[39m\u001b[34m(df)\u001b[39m\n\u001b[32m      3\u001b[39m local = local.sort_values(by=\u001b[33m\"\u001b[39m\u001b[33mdate\u001b[39m\u001b[33m\"\u001b[39m)\n\u001b[32m      4\u001b[39m local = local.groupby(\u001b[33m\"\u001b[39m\u001b[33msong\u001b[39m\u001b[33m\"\u001b[39m)[\u001b[33m\"\u001b[39m\u001b[33martist1\u001b[39m\u001b[33m\"\u001b[39m].unique()\n\u001b[32m----> \u001b[39m\u001b[32m5\u001b[39m \u001b[38;5;28;01mreturn\u001b[39;00m local.list.flatten\n",
      "\u001b[36mFile \u001b[39m\u001b[32m~/Applications/anaconda3/envs/pandas-workshop/lib/python3.13/site-packages/pandas/core/accessor.py:224\u001b[39m, in \u001b[36mCachedAccessor.__get__\u001b[39m\u001b[34m(self, obj, cls)\u001b[39m\n\u001b[32m    221\u001b[39m \u001b[38;5;28;01mif\u001b[39;00m obj \u001b[38;5;129;01mis\u001b[39;00m \u001b[38;5;28;01mNone\u001b[39;00m:\n\u001b[32m    222\u001b[39m     \u001b[38;5;66;03m# we're accessing the attribute of the class, i.e., Dataset.geo\u001b[39;00m\n\u001b[32m    223\u001b[39m     \u001b[38;5;28;01mreturn\u001b[39;00m \u001b[38;5;28mself\u001b[39m._accessor\n\u001b[32m--> \u001b[39m\u001b[32m224\u001b[39m accessor_obj = \u001b[38;5;28mself\u001b[39m._accessor(obj)\n\u001b[32m    225\u001b[39m \u001b[38;5;66;03m# Replace the property with the accessor object. Inspired by:\u001b[39;00m\n\u001b[32m    226\u001b[39m \u001b[38;5;66;03m# https://www.pydanny.com/cached-property.html\u001b[39;00m\n\u001b[32m    227\u001b[39m \u001b[38;5;66;03m# We need to use object.__setattr__ because we overwrite __setattr__ on\u001b[39;00m\n\u001b[32m    228\u001b[39m \u001b[38;5;66;03m# NDFrame\u001b[39;00m\n\u001b[32m    229\u001b[39m \u001b[38;5;28mobject\u001b[39m.\u001b[34m__setattr__\u001b[39m(obj, \u001b[38;5;28mself\u001b[39m._name, accessor_obj)\n",
      "\u001b[36mFile \u001b[39m\u001b[32m~/Applications/anaconda3/envs/pandas-workshop/lib/python3.13/site-packages/pandas/core/arrays/arrow/accessors.py:73\u001b[39m, in \u001b[36mListAccessor.__init__\u001b[39m\u001b[34m(self, data)\u001b[39m\n\u001b[32m     72\u001b[39m \u001b[38;5;28;01mdef\u001b[39;00m\u001b[38;5;250m \u001b[39m\u001b[34m__init__\u001b[39m(\u001b[38;5;28mself\u001b[39m, data=\u001b[38;5;28;01mNone\u001b[39;00m) -> \u001b[38;5;28;01mNone\u001b[39;00m:\n\u001b[32m---> \u001b[39m\u001b[32m73\u001b[39m     \u001b[38;5;28msuper\u001b[39m().\u001b[34m__init__\u001b[39m(\n\u001b[32m     74\u001b[39m         data,\n\u001b[32m     75\u001b[39m         validation_msg=\u001b[33m\"\u001b[39m\u001b[33mCan only use the \u001b[39m\u001b[33m'\u001b[39m\u001b[33m.list\u001b[39m\u001b[33m'\u001b[39m\u001b[33m accessor with \u001b[39m\u001b[33m\"\u001b[39m\n\u001b[32m     76\u001b[39m         \u001b[33m\"\u001b[39m\u001b[33m'\u001b[39m\u001b[33mlist[pyarrow]\u001b[39m\u001b[33m'\u001b[39m\u001b[33m dtype, not \u001b[39m\u001b[38;5;132;01m{dtype}\u001b[39;00m\u001b[33m.\u001b[39m\u001b[33m\"\u001b[39m,\n\u001b[32m     77\u001b[39m     )\n",
      "\u001b[36mFile \u001b[39m\u001b[32m~/Applications/anaconda3/envs/pandas-workshop/lib/python3.13/site-packages/pandas/core/arrays/arrow/accessors.py:41\u001b[39m, in \u001b[36mArrowAccessor.__init__\u001b[39m\u001b[34m(self, data, validation_msg)\u001b[39m\n\u001b[32m     39\u001b[39m \u001b[38;5;28mself\u001b[39m._data = data\n\u001b[32m     40\u001b[39m \u001b[38;5;28mself\u001b[39m._validation_msg = validation_msg\n\u001b[32m---> \u001b[39m\u001b[32m41\u001b[39m \u001b[38;5;28mself\u001b[39m._validate(data)\n",
      "\u001b[36mFile \u001b[39m\u001b[32m~/Applications/anaconda3/envs/pandas-workshop/lib/python3.13/site-packages/pandas/core/arrays/arrow/accessors.py:49\u001b[39m, in \u001b[36mArrowAccessor._validate\u001b[39m\u001b[34m(self, data)\u001b[39m\n\u001b[32m     47\u001b[39m \u001b[38;5;28;01mdef\u001b[39;00m\u001b[38;5;250m \u001b[39m\u001b[34m_validate\u001b[39m(\u001b[38;5;28mself\u001b[39m, data):\n\u001b[32m     48\u001b[39m     dtype = data.dtype\n\u001b[32m---> \u001b[39m\u001b[32m49\u001b[39m     \u001b[38;5;28;01mif\u001b[39;00m \u001b[38;5;129;01mnot\u001b[39;00m \u001b[38;5;28misinstance\u001b[39m(dtype, ArrowDtype):\n\u001b[32m     50\u001b[39m         \u001b[38;5;66;03m# Raise AttributeError so that inspect can handle non-struct Series.\u001b[39;00m\n\u001b[32m     51\u001b[39m         \u001b[38;5;28;01mraise\u001b[39;00m \u001b[38;5;167;01mAttributeError\u001b[39;00m(\u001b[38;5;28mself\u001b[39m._validation_msg.format(dtype=dtype))\n\u001b[32m     53\u001b[39m     \u001b[38;5;28;01mif\u001b[39;00m \u001b[38;5;129;01mnot\u001b[39;00m \u001b[38;5;28mself\u001b[39m._is_valid_pyarrow_dtype(dtype.pyarrow_dtype):\n\u001b[32m     54\u001b[39m         \u001b[38;5;66;03m# Raise AttributeError so that inspect can handle invalid Series.\u001b[39;00m\n",
      "\u001b[31mNameError\u001b[39m: name 'ArrowDtype' is not defined"
     ]
    }
   ],
   "source": [
    "p = get_normalized(new_df)\n",
    "p\n",
    "# pd.DataFrame(pairs)"
   ]
  },
  {
   "cell_type": "raw",
   "id": "eb02007d-482d-4ec1-abaf-fde68f7b1026",
   "metadata": {},
   "source": [
    "len(p)"
   ]
  },
  {
   "cell_type": "code",
   "execution_count": null,
   "id": "5e7fb91a-3329-431e-8ef0-e7388af3f7fd",
   "metadata": {},
   "outputs": [],
   "source": []
  },
  {
   "cell_type": "code",
   "execution_count": null,
   "id": "cb74ff42-7721-4b46-a29c-8b09e8fc85cd",
   "metadata": {},
   "outputs": [],
   "source": []
  }
 ],
 "metadata": {
  "kernelspec": {
   "display_name": "projects-env",
   "language": "python",
   "name": "python3"
  },
  "language_info": {
   "codemirror_mode": {
    "name": "ipython",
    "version": 3
   },
   "file_extension": ".py",
   "mimetype": "text/x-python",
   "name": "python",
   "nbconvert_exporter": "python",
   "pygments_lexer": "ipython3",
   "version": "3.13.2"
  }
 },
 "nbformat": 4,
 "nbformat_minor": 5
}
