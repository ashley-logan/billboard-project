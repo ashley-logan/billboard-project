{
 "cells": [
  {
   "cell_type": "code",
   "execution_count": 6,
   "id": "9bdcb65d",
   "metadata": {},
   "outputs": [],
   "source": [
    "import polars as pl\n",
    "import json\n",
    "from transform import clean\n"
   ]
  },
  {
   "cell_type": "code",
   "execution_count": 87,
   "id": "f928501c",
   "metadata": {},
   "outputs": [
    {
     "data": {
      "text/plain": [
       "polars.config.Config"
      ]
     },
     "execution_count": 87,
     "metadata": {},
     "output_type": "execute_result"
    }
   ],
   "source": [
    "pl.Config.set_tbl_cols(20)\n",
    "pl.Config.set_tbl_rows(100)\n",
    "pl.Config.set_fmt_str_lengths(70)"
   ]
  },
  {
   "cell_type": "code",
   "execution_count": 7,
   "id": "c272e3d4",
   "metadata": {},
   "outputs": [],
   "source": [
    "df: pl.DataFrame = clean(pl.read_json(\"../data/records05-29_23-57.json\"))"
   ]
  },
  {
   "cell_type": "code",
   "execution_count": 10,
   "id": "064b282f",
   "metadata": {},
   "outputs": [
    {
     "data": {
      "text/html": [
       "<div><style>\n",
       ".dataframe > thead > tr,\n",
       ".dataframe > tbody > tr {\n",
       "  text-align: right;\n",
       "  white-space: pre-wrap;\n",
       "}\n",
       "</style>\n",
       "<small>shape: (5, 5)</small><table border=\"1\" class=\"dataframe\"><thead><tr><th>id</th><th>date</th><th>position</th><th>song</th><th>artist</th></tr><tr><td>u32</td><td>date</td><td>u8</td><td>str</td><td>str</td></tr></thead><tbody><tr><td>0</td><td>1960-01-02</td><td>1</td><td>&quot;El Paso&quot;</td><td>&quot;Marty Robbins&quot;</td></tr><tr><td>1</td><td>1960-01-02</td><td>2</td><td>&quot;Why&quot;</td><td>&quot;Frankie Avalon&quot;</td></tr><tr><td>2</td><td>1960-01-02</td><td>3</td><td>&quot;The Big Hurt&quot;</td><td>&quot;Miss Toni Fisher&quot;</td></tr><tr><td>3</td><td>1960-01-02</td><td>4</td><td>&quot;Running Bear&quot;</td><td>&quot;Johnny Preston&quot;</td></tr><tr><td>4</td><td>1960-01-02</td><td>5</td><td>&quot;Way Down Yonder In New Orleans&quot;</td><td>&quot;Freddie Cannon&quot;</td></tr></tbody></table></div>"
      ],
      "text/plain": [
       "shape: (5, 5)\n",
       "┌─────┬────────────┬──────────┬────────────────────────────────┬──────────────────┐\n",
       "│ id  ┆ date       ┆ position ┆ song                           ┆ artist           │\n",
       "│ --- ┆ ---        ┆ ---      ┆ ---                            ┆ ---              │\n",
       "│ u32 ┆ date       ┆ u8       ┆ str                            ┆ str              │\n",
       "╞═════╪════════════╪══════════╪════════════════════════════════╪══════════════════╡\n",
       "│ 0   ┆ 1960-01-02 ┆ 1        ┆ El Paso                        ┆ Marty Robbins    │\n",
       "│ 1   ┆ 1960-01-02 ┆ 2        ┆ Why                            ┆ Frankie Avalon   │\n",
       "│ 2   ┆ 1960-01-02 ┆ 3        ┆ The Big Hurt                   ┆ Miss Toni Fisher │\n",
       "│ 3   ┆ 1960-01-02 ┆ 4        ┆ Running Bear                   ┆ Johnny Preston   │\n",
       "│ 4   ┆ 1960-01-02 ┆ 5        ┆ Way Down Yonder In New Orleans ┆ Freddie Cannon   │\n",
       "└─────┴────────────┴──────────┴────────────────────────────────┴──────────────────┘"
      ]
     },
     "execution_count": 10,
     "metadata": {},
     "output_type": "execute_result"
    }
   ],
   "source": [
    "df.head()"
   ]
  },
  {
   "cell_type": "code",
   "execution_count": 77,
   "id": "fac1de4c",
   "metadata": {},
   "outputs": [],
   "source": [
    "edge_df = df.unique(subset=[\"artist\"]).filter(\n",
    "    pl.col(\"artist\").str.contains(r\"[\\(\\)\\[\\]]\")\n",
    ")"
   ]
  },
  {
   "cell_type": "code",
   "execution_count": 76,
   "id": "1c838de5",
   "metadata": {},
   "outputs": [
    {
     "data": {
      "text/html": [
       "<div><style>\n",
       ".dataframe > thead > tr,\n",
       ".dataframe > tbody > tr {\n",
       "  text-align: right;\n",
       "  white-space: pre-wrap;\n",
       "}\n",
       "</style>\n",
       "<small>shape: (91, 5)</small><table border=\"1\" class=\"dataframe\"><thead><tr><th>id</th><th>date</th><th>position</th><th>song</th><th>artist</th></tr><tr><td>u32</td><td>date</td><td>u8</td><td>str</td><td>str</td></tr></thead><tbody><tr><td>239575</td><td>2006-12-02</td><td>89</td><td>&quot;When Your Heart Stops Beating&quot;</td><td>&quot;(+44)&quot;</td></tr><tr><td>64393</td><td>1972-05-06</td><td>94</td><td>&quot;Woman&#x27;s Gotta Have It&quot;</td><td>&quot;(The Preacher) Bobby Womack&quot;</td></tr><tr><td>1297</td><td>1960-03-26</td><td>98</td><td>&quot;I Need You Now&quot;</td><td>&quot;100 Strings and Jono (Choir of 40 Voices)&quot;</td></tr><tr><td>315436</td><td>2022-04-02</td><td>50</td><td>&quot;Nobody Like U&quot;</td><td>&quot;4*TOWN (From Disney And Pixar&#x27;s Turning Red)&quot;</td></tr><tr><td>34874</td><td>1966-09-03</td><td>75</td><td>&quot;96 Tears&quot;</td><td>&quot;? (Question Mark) &amp; The Mysterians&quot;</td></tr><tr><td>20995</td><td>1964-01-04</td><td>96</td><td>&quot;Java&quot;</td><td>&quot;Al (He&#x27;s the King) Hirt&quot;</td></tr><tr><td>194779</td><td>1998-01-03</td><td>93</td><td>&quot;What If I Said&quot;</td><td>&quot;Anita Cochran (Duet With Steve Wariner)&quot;</td></tr><tr><td>84183</td><td>1976-03-06</td><td>84</td><td>&quot;Street Talk&quot;</td><td>&quot;B.C.G. (B.C. Generation)&quot;</td></tr><tr><td>177861</td><td>1994-10-08</td><td>75</td><td>&quot;U Will Know (From &quot;Jason&#x27;s Lyric&quot;)&quot;</td><td>&quot;B.M.U. (Black Men United)&quot;</td></tr><tr><td>188334</td><td>1996-10-12</td><td>48</td><td>&quot;No Diggity&quot;</td><td>&quot;BLACKstreet (Featuring Dr. Dre)&quot;</td></tr><tr><td>&hellip;</td><td>&hellip;</td><td>&hellip;</td><td>&hellip;</td><td>&hellip;</td></tr><tr><td>28183</td><td>1965-05-22</td><td>84</td><td>&quot;It&#x27;s Wonderful To Be In Love&quot;</td><td>&quot;The Ovations (Featuring Louis Williams)&quot;</td></tr><tr><td>53399</td><td>1970-03-28</td><td>100</td><td>&quot;Which Way You Goin&#x27; Billy?&quot;</td><td>&quot;The Poppy Family (Featuring Susan Jacks)&quot;</td></tr><tr><td>20163</td><td>1963-11-09</td><td>64</td><td>&quot;Dominique&quot;</td><td>&quot;The Singing Nun (Soeur Sourire)&quot;</td></tr><tr><td>246247</td><td>2008-03-15</td><td>61</td><td>&quot;Falling Slowly&quot;</td><td>&quot;The Swell Season (Glen Hansard &amp; Marketa Irglova)&quot;</td></tr><tr><td>16996</td><td>1963-03-30</td><td>97</td><td>&quot;I&#x27;ll Make It Alright&quot;</td><td>&quot;The Valentinos (The Lovers)&quot;</td></tr><tr><td>104083</td><td>1980-03-08</td><td>97</td><td>&quot;I Don&#x27;t Need You Anymore&quot;</td><td>&quot;Together? (Soundtrack) Featuring Jackie DeShannon&quot;</td></tr><tr><td>190061</td><td>1997-02-08</td><td>75</td><td>&quot;I Always Feel Like (Somebody&#x27;s Watching Me)&quot;</td><td>&quot;Tru Featuring Ice Cream Man (Master P)&quot;</td></tr><tr><td>191671</td><td>1997-05-31</td><td>85</td><td>&quot;No One But You (From &quot;Baps&quot;)&quot;</td><td>&quot;Veronica (Featuring Craig Mack)&quot;</td></tr><tr><td>147979</td><td>1988-10-01</td><td>93</td><td>&quot;Spy In The House Of Love&quot;</td><td>&quot;Was (Not Was)&quot;</td></tr><tr><td>7199</td><td>1961-05-13</td><td>100</td><td>&quot;Here&#x27;s My Confession&quot;</td><td>&quot;Wyatt (Earp) McPherson&quot;</td></tr></tbody></table></div>"
      ],
      "text/plain": [
       "shape: (91, 5)\n",
       "┌────────┬────────────┬──────────┬─────────────────────────────────────────────┬───────────────────────────────────────────────────┐\n",
       "│ id     ┆ date       ┆ position ┆ song                                        ┆ artist                                            │\n",
       "│ ---    ┆ ---        ┆ ---      ┆ ---                                         ┆ ---                                               │\n",
       "│ u32    ┆ date       ┆ u8       ┆ str                                         ┆ str                                               │\n",
       "╞════════╪════════════╪══════════╪═════════════════════════════════════════════╪═══════════════════════════════════════════════════╡\n",
       "│ 239575 ┆ 2006-12-02 ┆ 89       ┆ When Your Heart Stops Beating               ┆ (+44)                                             │\n",
       "│ 64393  ┆ 1972-05-06 ┆ 94       ┆ Woman's Gotta Have It                       ┆ (The Preacher) Bobby Womack                       │\n",
       "│ 1297   ┆ 1960-03-26 ┆ 98       ┆ I Need You Now                              ┆ 100 Strings and Jono (Choir of 40 Voices)         │\n",
       "│ 315436 ┆ 2022-04-02 ┆ 50       ┆ Nobody Like U                               ┆ 4*TOWN (From Disney And Pixar's Turning Red)      │\n",
       "│ 34874  ┆ 1966-09-03 ┆ 75       ┆ 96 Tears                                    ┆ ? (Question Mark) & The Mysterians                │\n",
       "│ 20995  ┆ 1964-01-04 ┆ 96       ┆ Java                                        ┆ Al (He's the King) Hirt                           │\n",
       "│ 194779 ┆ 1998-01-03 ┆ 93       ┆ What If I Said                              ┆ Anita Cochran (Duet With Steve Wariner)           │\n",
       "│ 84183  ┆ 1976-03-06 ┆ 84       ┆ Street Talk                                 ┆ B.C.G. (B.C. Generation)                          │\n",
       "│ 177861 ┆ 1994-10-08 ┆ 75       ┆ U Will Know (From \"Jason's Lyric\")          ┆ B.M.U. (Black Men United)                         │\n",
       "│ 188334 ┆ 1996-10-12 ┆ 48       ┆ No Diggity                                  ┆ BLACKstreet (Featuring Dr. Dre)                   │\n",
       "│ …      ┆ …          ┆ …        ┆ …                                           ┆ …                                                 │\n",
       "│ 28183  ┆ 1965-05-22 ┆ 84       ┆ It's Wonderful To Be In Love                ┆ The Ovations (Featuring Louis Williams)           │\n",
       "│ 53399  ┆ 1970-03-28 ┆ 100      ┆ Which Way You Goin' Billy?                  ┆ The Poppy Family (Featuring Susan Jacks)          │\n",
       "│ 20163  ┆ 1963-11-09 ┆ 64       ┆ Dominique                                   ┆ The Singing Nun (Soeur Sourire)                   │\n",
       "│ 246247 ┆ 2008-03-15 ┆ 61       ┆ Falling Slowly                              ┆ The Swell Season (Glen Hansard & Marketa Irglova) │\n",
       "│ 16996  ┆ 1963-03-30 ┆ 97       ┆ I'll Make It Alright                        ┆ The Valentinos (The Lovers)                       │\n",
       "│ 104083 ┆ 1980-03-08 ┆ 97       ┆ I Don't Need You Anymore                    ┆ Together? (Soundtrack) Featuring Jackie DeShannon │\n",
       "│ 190061 ┆ 1997-02-08 ┆ 75       ┆ I Always Feel Like (Somebody's Watching Me) ┆ Tru Featuring Ice Cream Man (Master P)            │\n",
       "│ 191671 ┆ 1997-05-31 ┆ 85       ┆ No One But You (From \"Baps\")                ┆ Veronica (Featuring Craig Mack)                   │\n",
       "│ 147979 ┆ 1988-10-01 ┆ 93       ┆ Spy In The House Of Love                    ┆ Was (Not Was)                                     │\n",
       "│ 7199   ┆ 1961-05-13 ┆ 100      ┆ Here's My Confession                        ┆ Wyatt (Earp) McPherson                            │\n",
       "└────────┴────────────┴──────────┴─────────────────────────────────────────────┴───────────────────────────────────────────────────┘"
      ]
     },
     "execution_count": 76,
     "metadata": {},
     "output_type": "execute_result"
    }
   ],
   "source": [
    "edge_df.sort(by=\"artist\")"
   ]
  },
  {
   "cell_type": "code",
   "execution_count": 78,
   "id": "12922ccf",
   "metadata": {},
   "outputs": [],
   "source": [
    "stripped_df = edge_df.with_columns(\n",
    "    pl.col(\"artist\").str.replace_all(r\"[()]\", \"\").alias(\"stripped\")\n",
    ")"
   ]
  },
  {
   "cell_type": "code",
   "execution_count": null,
   "id": "85230ac4",
   "metadata": {},
   "outputs": [
    {
     "data": {
      "text/html": [
       "<div><style>\n",
       ".dataframe > thead > tr,\n",
       ".dataframe > tbody > tr {\n",
       "  text-align: right;\n",
       "  white-space: pre-wrap;\n",
       "}\n",
       "</style>\n",
       "<small>shape: (91, 6)</small><table border=\"1\" class=\"dataframe\"><thead><tr><th>id</th><th>date</th><th>position</th><th>song</th><th>artist</th><th>stripped</th></tr><tr><td>u32</td><td>date</td><td>u8</td><td>str</td><td>str</td><td>str</td></tr></thead><tbody><tr><td>177861</td><td>1994-10-08</td><td>75</td><td>&quot;U Will Know (From &quot;Jason&#x27;s Lyric&quot;)&quot;</td><td>&quot;B.M.U. (Black Men United)&quot;</td><td>&quot;B.M.U. Black Men United&quot;</td></tr><tr><td>184972</td><td>1996-02-17</td><td>86</td><td>&quot;Microphone Master&quot;</td><td>&quot;Das EFX (Featuring Mobb Deep)&quot;</td><td>&quot;Das EFX Featuring Mobb Deep&quot;</td></tr><tr><td>193254</td><td>1997-09-20</td><td>68</td><td>&quot;Avenues&quot;</td><td>&quot;Refugee Camp All Stars Featuring Pras (With Ky-mani)&quot;</td><td>&quot;Refugee Camp All Stars Featuring Pras With Ky-mani&quot;</td></tr><tr><td>167672</td><td>1992-10-24</td><td>86</td><td>&quot;Slow And Sexy&quot;</td><td>&quot;Shabba Ranks (Featuring Johnny Gill)&quot;</td><td>&quot;Shabba Ranks Featuring Johnny Gill&quot;</td></tr><tr><td>197852</td><td>1998-08-08</td><td>66</td><td>&quot;It&#x27;s Alright&quot;</td><td>&quot;Memphis Bleek (&amp; Jay-Z)&quot;</td><td>&quot;Memphis Bleek &amp; Jay-Z&quot;</td></tr><tr><td>84183</td><td>1976-03-06</td><td>84</td><td>&quot;Street Talk&quot;</td><td>&quot;B.C.G. (B.C. Generation)&quot;</td><td>&quot;B.C.G. B.C. Generation&quot;</td></tr><tr><td>246247</td><td>2008-03-15</td><td>61</td><td>&quot;Falling Slowly&quot;</td><td>&quot;The Swell Season (Glen Hansard &amp; Marketa Irglova)&quot;</td><td>&quot;The Swell Season Glen Hansard &amp; Marketa Irglova&quot;</td></tr><tr><td>194779</td><td>1998-01-03</td><td>93</td><td>&quot;What If I Said&quot;</td><td>&quot;Anita Cochran (Duet With Steve Wariner)&quot;</td><td>&quot;Anita Cochran Duet With Steve Wariner&quot;</td></tr><tr><td>116974</td><td>1982-08-28</td><td>88</td><td>&quot;Ain&#x27;t Nothing Like The Real Thing/You&#x27;re All I Need To Get By&quot;</td><td>&quot;Chris Christian (with Amy Holland)&quot;</td><td>&quot;Chris Christian with Amy Holland&quot;</td></tr><tr><td>181558</td><td>1995-06-24</td><td>72</td><td>&quot;Sprinkle Me&quot;</td><td>&quot;E-40 (Featuring Suga T)&quot;</td><td>&quot;E-40 Featuring Suga T&quot;</td></tr><tr><td>&hellip;</td><td>&hellip;</td><td>&hellip;</td><td>&hellip;</td><td>&hellip;</td><td>&hellip;</td></tr><tr><td>140277</td><td>1987-02-21</td><td>91</td><td>&quot;Light Of Day&quot;</td><td>&quot;The Barbusters (Joan Jett And The Blackhearts)&quot;</td><td>&quot;The Barbusters Joan Jett And The Blackhearts&quot;</td></tr><tr><td>315436</td><td>2022-04-02</td><td>50</td><td>&quot;Nobody Like U&quot;</td><td>&quot;4*TOWN (From Disney And Pixar&#x27;s Turning Red)&quot;</td><td>&quot;4*TOWN From Disney And Pixar&#x27;s Turning Red&quot;</td></tr><tr><td>177977</td><td>1994-10-15</td><td>91</td><td>&quot;Get Up On It&quot;</td><td>&quot;Keith Sweat (Featuring Kut Klose)&quot;</td><td>&quot;Keith Sweat Featuring Kut Klose&quot;</td></tr><tr><td>144268</td><td>1987-12-19</td><td>82</td><td>&quot;Dear Mr. Jesus&quot;</td><td>&quot;Powersource (Solo...Sharon)&quot;</td><td>&quot;Powersource Solo...Sharon&quot;</td></tr><tr><td>19374</td><td>1963-09-14</td><td>75</td><td>&quot;Donna The Prima Donna&quot;</td><td>&quot;Dion (Di Muci)&quot;</td><td>&quot;Dion Di Muci&quot;</td></tr><tr><td>60796</td><td>1971-08-28</td><td>97</td><td>&quot;Hijackin&#x27; Love&quot;</td><td>&quot;Johnnie Taylor (The Soul Philosopher)&quot;</td><td>&quot;Johnnie Taylor The Soul Philosopher&quot;</td></tr><tr><td>34874</td><td>1966-09-03</td><td>75</td><td>&quot;96 Tears&quot;</td><td>&quot;? (Question Mark) &amp; The Mysterians&quot;</td><td>&quot;? Question Mark &amp; The Mysterians&quot;</td></tr><tr><td>64393</td><td>1972-05-06</td><td>94</td><td>&quot;Woman&#x27;s Gotta Have It&quot;</td><td>&quot;(The Preacher) Bobby Womack&quot;</td><td>&quot;The Preacher Bobby Womack&quot;</td></tr><tr><td>84781</td><td>1976-04-17</td><td>82</td><td>&quot;Get Closer&quot;</td><td>&quot;Seals &amp; Crofts (Featuring Carolyn Willis)&quot;</td><td>&quot;Seals &amp; Crofts Featuring Carolyn Willis&quot;</td></tr><tr><td>55358</td><td>1970-08-15</td><td>59</td><td>&quot;Rubber Duckie&quot;</td><td>&quot;Ernie (Jim Henson)&quot;</td><td>&quot;Ernie Jim Henson&quot;</td></tr></tbody></table></div>"
      ],
      "text/plain": [
       "shape: (91, 6)\n",
       "┌────────┬────────────┬──────────┬───────────────────────────────────────────────────────────────┬──────────────────────────────────────────────────────┬────────────────────────────────────────────────────┐\n",
       "│ id     ┆ date       ┆ position ┆ song                                                          ┆ artist                                               ┆ stripped                                           │\n",
       "│ ---    ┆ ---        ┆ ---      ┆ ---                                                           ┆ ---                                                  ┆ ---                                                │\n",
       "│ u32    ┆ date       ┆ u8       ┆ str                                                           ┆ str                                                  ┆ str                                                │\n",
       "╞════════╪════════════╪══════════╪═══════════════════════════════════════════════════════════════╪══════════════════════════════════════════════════════╪════════════════════════════════════════════════════╡\n",
       "│ 177861 ┆ 1994-10-08 ┆ 75       ┆ U Will Know (From \"Jason's Lyric\")                            ┆ B.M.U. (Black Men United)                            ┆ B.M.U. Black Men United                            │\n",
       "│ 184972 ┆ 1996-02-17 ┆ 86       ┆ Microphone Master                                             ┆ Das EFX (Featuring Mobb Deep)                        ┆ Das EFX Featuring Mobb Deep                        │\n",
       "│ 193254 ┆ 1997-09-20 ┆ 68       ┆ Avenues                                                       ┆ Refugee Camp All Stars Featuring Pras (With Ky-mani) ┆ Refugee Camp All Stars Featuring Pras With Ky-mani │\n",
       "│ 167672 ┆ 1992-10-24 ┆ 86       ┆ Slow And Sexy                                                 ┆ Shabba Ranks (Featuring Johnny Gill)                 ┆ Shabba Ranks Featuring Johnny Gill                 │\n",
       "│ 197852 ┆ 1998-08-08 ┆ 66       ┆ It's Alright                                                  ┆ Memphis Bleek (& Jay-Z)                              ┆ Memphis Bleek & Jay-Z                              │\n",
       "│ 84183  ┆ 1976-03-06 ┆ 84       ┆ Street Talk                                                   ┆ B.C.G. (B.C. Generation)                             ┆ B.C.G. B.C. Generation                             │\n",
       "│ 246247 ┆ 2008-03-15 ┆ 61       ┆ Falling Slowly                                                ┆ The Swell Season (Glen Hansard & Marketa Irglova)    ┆ The Swell Season Glen Hansard & Marketa Irglova    │\n",
       "│ 194779 ┆ 1998-01-03 ┆ 93       ┆ What If I Said                                                ┆ Anita Cochran (Duet With Steve Wariner)              ┆ Anita Cochran Duet With Steve Wariner              │\n",
       "│ 116974 ┆ 1982-08-28 ┆ 88       ┆ Ain't Nothing Like The Real Thing/You're All I Need To Get By ┆ Chris Christian (with Amy Holland)                   ┆ Chris Christian with Amy Holland                   │\n",
       "│ 181558 ┆ 1995-06-24 ┆ 72       ┆ Sprinkle Me                                                   ┆ E-40 (Featuring Suga T)                              ┆ E-40 Featuring Suga T                              │\n",
       "│ …      ┆ …          ┆ …        ┆ …                                                             ┆ …                                                    ┆ …                                                  │\n",
       "│ 140277 ┆ 1987-02-21 ┆ 91       ┆ Light Of Day                                                  ┆ The Barbusters (Joan Jett And The Blackhearts)       ┆ The Barbusters Joan Jett And The Blackhearts       │\n",
       "│ 315436 ┆ 2022-04-02 ┆ 50       ┆ Nobody Like U                                                 ┆ 4*TOWN (From Disney And Pixar's Turning Red)         ┆ 4*TOWN From Disney And Pixar's Turning Red         │\n",
       "│ 177977 ┆ 1994-10-15 ┆ 91       ┆ Get Up On It                                                  ┆ Keith Sweat (Featuring Kut Klose)                    ┆ Keith Sweat Featuring Kut Klose                    │\n",
       "│ 144268 ┆ 1987-12-19 ┆ 82       ┆ Dear Mr. Jesus                                                ┆ Powersource (Solo...Sharon)                          ┆ Powersource Solo...Sharon                          │\n",
       "│ 19374  ┆ 1963-09-14 ┆ 75       ┆ Donna The Prima Donna                                         ┆ Dion (Di Muci)                                       ┆ Dion Di Muci                                       │\n",
       "│ 60796  ┆ 1971-08-28 ┆ 97       ┆ Hijackin' Love                                                ┆ Johnnie Taylor (The Soul Philosopher)                ┆ Johnnie Taylor The Soul Philosopher                │\n",
       "│ 34874  ┆ 1966-09-03 ┆ 75       ┆ 96 Tears                                                      ┆ ? (Question Mark) & The Mysterians                   ┆ ? Question Mark & The Mysterians                   │\n",
       "│ 64393  ┆ 1972-05-06 ┆ 94       ┆ Woman's Gotta Have It                                         ┆ (The Preacher) Bobby Womack                          ┆ The Preacher Bobby Womack                          │\n",
       "│ 84781  ┆ 1976-04-17 ┆ 82       ┆ Get Closer                                                    ┆ Seals & Crofts (Featuring Carolyn Willis)            ┆ Seals & Crofts Featuring Carolyn Willis            │\n",
       "│ 55358  ┆ 1970-08-15 ┆ 59       ┆ Rubber Duckie                                                 ┆ Ernie (Jim Henson)                                   ┆ Ernie Jim Henson                                   │\n",
       "└────────┴────────────┴──────────┴───────────────────────────────────────────────────────────────┴──────────────────────────────────────────────────────┴────────────────────────────────────────────────────┘"
      ]
     },
     "execution_count": 79,
     "metadata": {},
     "output_type": "execute_result"
    }
   ],
   "source": [
    "stripped_df"
   ]
  },
  {
   "cell_type": "code",
   "execution_count": 80,
   "id": "e2bbd9b3",
   "metadata": {},
   "outputs": [],
   "source": [
    "df: pl.DataFrame = clean(pl.read_json(\"../data/records05-29_23-57.json\"))"
   ]
  },
  {
   "cell_type": "code",
   "execution_count": 83,
   "id": "f621a321",
   "metadata": {},
   "outputs": [],
   "source": [
    "edge_df2 = df.filter(\n",
    "    pl.col(\"artist\").str.contains(r\"(?i)(His Orchestra)|(\\sand\\s)\")\n",
    ")"
   ]
  },
  {
   "cell_type": "code",
   "execution_count": null,
   "id": "1547b6de",
   "metadata": {},
   "outputs": [],
   "source": [
    "no_split_words = [r\"(?i)(his)|(the)|(her)\"]\n",
    "# don't have to worry about \"and\"\n",
    "edge_df2 "
   ]
  },
  {
   "cell_type": "code",
   "execution_count": 89,
   "id": "276263ad",
   "metadata": {},
   "outputs": [],
   "source": [
    "def replace_fn(df: pl.LazyFrame):\n",
    "    return df.unique(subset=[\"artist\"]).with_columns(\n",
    "        artist=pl.col(\"artist\").str.replace_all(r\"[()]\", \"\").str.replace(\"Duet With\", \"&\")\n",
    ")"
   ]
  },
  {
   "cell_type": "code",
   "execution_count": 122,
   "id": "4f446af7",
   "metadata": {},
   "outputs": [],
   "source": [
    "def split_features(df: pl.LazyFrame):\n",
    "    return df.select(\n",
    "        pl.col(\"artist\").str.replace(r\"(?i)(feat\\.*[a-z]*)|(with)\", \"-\").str.split_exact(\" - \", 1).struct.with_fields(\n",
    "            role1=pl.lit(\"main\"),\n",
    "            role2=pl.lit(\"featured\")\n",
    "        ).struct.unnest()).select(\n",
    "            pl.col(\"field_0\").append(pl.col(\"field_1\")).alias(\"artist\"),\n",
    "            pl.col(\"role1\").append(pl.col(\"role2\")).alias(\"role\")\n",
    "        )"
   ]
  },
  {
   "cell_type": "code",
   "execution_count": null,
   "id": "80e6149e",
   "metadata": {},
   "outputs": [],
   "source": [
    "def add_roles(df: pl.LazyFrame):\n",
    "    df = df.with_columns(\n",
    "        role_0=pl.lit(\"main\"),\n",
    "        role_1=pl.lit(\"featured\")\n",
    "    )"
   ]
  },
  {
   "cell_type": "code",
   "execution_count": 123,
   "id": "327636ba",
   "metadata": {},
   "outputs": [
    {
     "data": {
      "text/html": [
       "<div><style>\n",
       ".dataframe > thead > tr,\n",
       ".dataframe > tbody > tr {\n",
       "  text-align: right;\n",
       "  white-space: pre-wrap;\n",
       "}\n",
       "</style>\n",
       "<small>shape: (21_564, 2)</small><table border=\"1\" class=\"dataframe\"><thead><tr><th>artist</th><th>role</th></tr><tr><td>str</td><td>str</td></tr></thead><tbody><tr><td>&quot;Beyonce, Linda Martell &amp; Shaboozey&quot;</td><td>&quot;main&quot;</td></tr><tr><td>&quot;Chris Bartley&quot;</td><td>&quot;main&quot;</td></tr><tr><td>&quot;Todd Rundgren&quot;</td><td>&quot;main&quot;</td></tr><tr><td>&quot;BeBe Winans&quot;</td><td>&quot;main&quot;</td></tr><tr><td>&quot;Taylor Swift&quot;</td><td>&quot;main&quot;</td></tr><tr><td>&quot;Bad Bunny, Arcangel, De La Ghetto &amp; Nengo Flow&quot;</td><td>&quot;main&quot;</td></tr><tr><td>&quot;Starbuck&quot;</td><td>&quot;main&quot;</td></tr><tr><td>&quot;Bonnie Tyler&quot;</td><td>&quot;main&quot;</td></tr><tr><td>&quot;LeRoux&quot;</td><td>&quot;main&quot;</td></tr><tr><td>&quot;Mr. Mister&quot;</td><td>&quot;main&quot;</td></tr><tr><td>&quot;Bryson Tiller&quot;</td><td>&quot;main&quot;</td></tr><tr><td>&quot;P$C&quot;</td><td>&quot;main&quot;</td></tr><tr><td>&quot;Clay Walker&quot;</td><td>&quot;main&quot;</td></tr><tr><td>&quot;Lloyd Banks&quot;</td><td>&quot;main&quot;</td></tr><tr><td>&quot;Mims&quot;</td><td>&quot;main&quot;</td></tr><tr><td>&quot;AB Logic&quot;</td><td>&quot;main&quot;</td></tr><tr><td>&quot;Travi$ Scott&quot;</td><td>&quot;main&quot;</td></tr><tr><td>&quot;Barry Gibb&quot;</td><td>&quot;main&quot;</td></tr><tr><td>&quot;The Platters&quot;</td><td>&quot;main&quot;</td></tr><tr><td>&quot;Mr. Big&quot;</td><td>&quot;main&quot;</td></tr><tr><td>&quot;Santana&quot;</td><td>&quot;main&quot;</td></tr><tr><td>&quot;The Amboy Dukes&quot;</td><td>&quot;main&quot;</td></tr><tr><td>&quot;INXS&quot;</td><td>&quot;main&quot;</td></tr><tr><td>&quot;Angie Stone&quot;</td><td>&quot;main&quot;</td></tr><tr><td>&quot;50 Cent&quot;</td><td>&quot;main&quot;</td></tr><tr><td>&quot;Pebbles&quot;</td><td>&quot;main&quot;</td></tr><tr><td>&quot;The Weeknd, Playboi Carti &amp; Madonna&quot;</td><td>&quot;main&quot;</td></tr><tr><td>&quot;The Lafayettes&quot;</td><td>&quot;main&quot;</td></tr><tr><td>&quot;The Rip Chords&quot;</td><td>&quot;main&quot;</td></tr><tr><td>&quot;Oran &#x27;Juice&#x27; Jones&quot;</td><td>&quot;main&quot;</td></tr><tr><td>&quot;Ty Dolla $ign&quot;</td><td>&quot;main&quot;</td></tr><tr><td>&quot;Chris Brown&quot;</td><td>&quot;main&quot;</td></tr><tr><td>&quot;Warren Zeiders&quot;</td><td>&quot;main&quot;</td></tr><tr><td>&quot;French Montana&quot;</td><td>&quot;main&quot;</td></tr><tr><td>&quot;Jerry Butler&quot;</td><td>&quot;main&quot;</td></tr><tr><td>&quot;Hamilton Camp&quot;</td><td>&quot;main&quot;</td></tr><tr><td>&quot;Eric Martin&quot;</td><td>&quot;main&quot;</td></tr><tr><td>&quot;Eddie Murphy&quot;</td><td>&quot;main&quot;</td></tr><tr><td>&quot;Tag Team, Mickey, Minnie, And Goofy&quot;</td><td>&quot;main&quot;</td></tr><tr><td>&quot;Fat Joe&quot;</td><td>&quot;main&quot;</td></tr><tr><td>&quot;Livin&#x27; Joy&quot;</td><td>&quot;main&quot;</td></tr><tr><td>&quot;Chris Jamison&quot;</td><td>&quot;main&quot;</td></tr><tr><td>&quot;Alessia Cara&quot;</td><td>&quot;main&quot;</td></tr><tr><td>&quot;Rhythm Syndicate&quot;</td><td>&quot;main&quot;</td></tr><tr><td>&quot;Morgan Evans&quot;</td><td>&quot;main&quot;</td></tr><tr><td>&quot;Riley Green&quot;</td><td>&quot;main&quot;</td></tr><tr><td>&quot;Keith Urban&quot;</td><td>&quot;main&quot;</td></tr><tr><td>&quot;Keith Sweat&quot;</td><td>&quot;main&quot;</td></tr><tr><td>&quot;The Toy Dolls&quot;</td><td>&quot;main&quot;</td></tr><tr><td>&quot;Joe Sherman, his Orchestra and Chorus&quot;</td><td>&quot;main&quot;</td></tr><tr><td>&hellip;</td><td>&hellip;</td></tr><tr><td>null</td><td>&quot;featured&quot;</td></tr><tr><td>null</td><td>&quot;featured&quot;</td></tr><tr><td>null</td><td>&quot;featured&quot;</td></tr><tr><td>&quot;The Voice Of Harlem&quot;</td><td>&quot;featured&quot;</td></tr><tr><td>null</td><td>&quot;featured&quot;</td></tr><tr><td>null</td><td>&quot;featured&quot;</td></tr><tr><td>&quot;Quavo &amp; Takeoff&quot;</td><td>&quot;featured&quot;</td></tr><tr><td>null</td><td>&quot;featured&quot;</td></tr><tr><td>null</td><td>&quot;featured&quot;</td></tr><tr><td>null</td><td>&quot;featured&quot;</td></tr><tr><td>null</td><td>&quot;featured&quot;</td></tr><tr><td>null</td><td>&quot;featured&quot;</td></tr><tr><td>&quot;Kanye West&quot;</td><td>&quot;featured&quot;</td></tr><tr><td>&quot;The Weeknd&quot;</td><td>&quot;featured&quot;</td></tr><tr><td>&quot;Chris Brown &amp; Lil Wayne&quot;</td><td>&quot;featured&quot;</td></tr><tr><td>null</td><td>&quot;featured&quot;</td></tr><tr><td>null</td><td>&quot;featured&quot;</td></tr><tr><td>null</td><td>&quot;featured&quot;</td></tr><tr><td>&quot;Rick Ross&quot;</td><td>&quot;featured&quot;</td></tr><tr><td>&quot;Don Toliver&quot;</td><td>&quot;featured&quot;</td></tr><tr><td>&quot;Eric B. &amp; Rakim&quot;</td><td>&quot;featured&quot;</td></tr><tr><td>null</td><td>&quot;featured&quot;</td></tr><tr><td>null</td><td>&quot;featured&quot;</td></tr><tr><td>null</td><td>&quot;featured&quot;</td></tr><tr><td>null</td><td>&quot;featured&quot;</td></tr><tr><td>null</td><td>&quot;featured&quot;</td></tr><tr><td>null</td><td>&quot;featured&quot;</td></tr><tr><td>null</td><td>&quot;featured&quot;</td></tr><tr><td>null</td><td>&quot;featured&quot;</td></tr><tr><td>null</td><td>&quot;featured&quot;</td></tr><tr><td>null</td><td>&quot;featured&quot;</td></tr><tr><td>null</td><td>&quot;featured&quot;</td></tr><tr><td>null</td><td>&quot;featured&quot;</td></tr><tr><td>&quot;Post Malone&quot;</td><td>&quot;featured&quot;</td></tr><tr><td>null</td><td>&quot;featured&quot;</td></tr><tr><td>null</td><td>&quot;featured&quot;</td></tr><tr><td>null</td><td>&quot;featured&quot;</td></tr><tr><td>null</td><td>&quot;featured&quot;</td></tr><tr><td>null</td><td>&quot;featured&quot;</td></tr><tr><td>null</td><td>&quot;featured&quot;</td></tr><tr><td>null</td><td>&quot;featured&quot;</td></tr><tr><td>null</td><td>&quot;featured&quot;</td></tr><tr><td>null</td><td>&quot;featured&quot;</td></tr><tr><td>null</td><td>&quot;featured&quot;</td></tr><tr><td>null</td><td>&quot;featured&quot;</td></tr><tr><td>null</td><td>&quot;featured&quot;</td></tr><tr><td>&quot;J. Cole&quot;</td><td>&quot;featured&quot;</td></tr><tr><td>null</td><td>&quot;featured&quot;</td></tr><tr><td>null</td><td>&quot;featured&quot;</td></tr><tr><td>&quot;Young Buck&quot;</td><td>&quot;featured&quot;</td></tr></tbody></table></div>"
      ],
      "text/plain": [
       "shape: (21_564, 2)\n",
       "┌────────────────────────────────────────────────┬──────────┐\n",
       "│ artist                                         ┆ role     │\n",
       "│ ---                                            ┆ ---      │\n",
       "│ str                                            ┆ str      │\n",
       "╞════════════════════════════════════════════════╪══════════╡\n",
       "│ Beyonce, Linda Martell & Shaboozey             ┆ main     │\n",
       "│ Chris Bartley                                  ┆ main     │\n",
       "│ Todd Rundgren                                  ┆ main     │\n",
       "│ BeBe Winans                                    ┆ main     │\n",
       "│ Taylor Swift                                   ┆ main     │\n",
       "│ Bad Bunny, Arcangel, De La Ghetto & Nengo Flow ┆ main     │\n",
       "│ Starbuck                                       ┆ main     │\n",
       "│ Bonnie Tyler                                   ┆ main     │\n",
       "│ LeRoux                                         ┆ main     │\n",
       "│ Mr. Mister                                     ┆ main     │\n",
       "│ Bryson Tiller                                  ┆ main     │\n",
       "│ P$C                                            ┆ main     │\n",
       "│ Clay Walker                                    ┆ main     │\n",
       "│ Lloyd Banks                                    ┆ main     │\n",
       "│ Mims                                           ┆ main     │\n",
       "│ AB Logic                                       ┆ main     │\n",
       "│ Travi$ Scott                                   ┆ main     │\n",
       "│ Barry Gibb                                     ┆ main     │\n",
       "│ The Platters                                   ┆ main     │\n",
       "│ Mr. Big                                        ┆ main     │\n",
       "│ Santana                                        ┆ main     │\n",
       "│ The Amboy Dukes                                ┆ main     │\n",
       "│ INXS                                           ┆ main     │\n",
       "│ Angie Stone                                    ┆ main     │\n",
       "│ 50 Cent                                        ┆ main     │\n",
       "│ Pebbles                                        ┆ main     │\n",
       "│ The Weeknd, Playboi Carti & Madonna            ┆ main     │\n",
       "│ The Lafayettes                                 ┆ main     │\n",
       "│ The Rip Chords                                 ┆ main     │\n",
       "│ Oran 'Juice' Jones                             ┆ main     │\n",
       "│ Ty Dolla $ign                                  ┆ main     │\n",
       "│ Chris Brown                                    ┆ main     │\n",
       "│ Warren Zeiders                                 ┆ main     │\n",
       "│ French Montana                                 ┆ main     │\n",
       "│ Jerry Butler                                   ┆ main     │\n",
       "│ Hamilton Camp                                  ┆ main     │\n",
       "│ Eric Martin                                    ┆ main     │\n",
       "│ Eddie Murphy                                   ┆ main     │\n",
       "│ Tag Team, Mickey, Minnie, And Goofy            ┆ main     │\n",
       "│ Fat Joe                                        ┆ main     │\n",
       "│ Livin' Joy                                     ┆ main     │\n",
       "│ Chris Jamison                                  ┆ main     │\n",
       "│ Alessia Cara                                   ┆ main     │\n",
       "│ Rhythm Syndicate                               ┆ main     │\n",
       "│ Morgan Evans                                   ┆ main     │\n",
       "│ Riley Green                                    ┆ main     │\n",
       "│ Keith Urban                                    ┆ main     │\n",
       "│ Keith Sweat                                    ┆ main     │\n",
       "│ The Toy Dolls                                  ┆ main     │\n",
       "│ Joe Sherman, his Orchestra and Chorus          ┆ main     │\n",
       "│ …                                              ┆ …        │\n",
       "│ null                                           ┆ featured │\n",
       "│ null                                           ┆ featured │\n",
       "│ null                                           ┆ featured │\n",
       "│ The Voice Of Harlem                            ┆ featured │\n",
       "│ null                                           ┆ featured │\n",
       "│ null                                           ┆ featured │\n",
       "│ Quavo & Takeoff                                ┆ featured │\n",
       "│ null                                           ┆ featured │\n",
       "│ null                                           ┆ featured │\n",
       "│ null                                           ┆ featured │\n",
       "│ null                                           ┆ featured │\n",
       "│ null                                           ┆ featured │\n",
       "│ Kanye West                                     ┆ featured │\n",
       "│ The Weeknd                                     ┆ featured │\n",
       "│ Chris Brown & Lil Wayne                        ┆ featured │\n",
       "│ null                                           ┆ featured │\n",
       "│ null                                           ┆ featured │\n",
       "│ null                                           ┆ featured │\n",
       "│ Rick Ross                                      ┆ featured │\n",
       "│ Don Toliver                                    ┆ featured │\n",
       "│ Eric B. & Rakim                                ┆ featured │\n",
       "│ null                                           ┆ featured │\n",
       "│ null                                           ┆ featured │\n",
       "│ null                                           ┆ featured │\n",
       "│ null                                           ┆ featured │\n",
       "│ null                                           ┆ featured │\n",
       "│ null                                           ┆ featured │\n",
       "│ null                                           ┆ featured │\n",
       "│ null                                           ┆ featured │\n",
       "│ null                                           ┆ featured │\n",
       "│ null                                           ┆ featured │\n",
       "│ null                                           ┆ featured │\n",
       "│ null                                           ┆ featured │\n",
       "│ Post Malone                                    ┆ featured │\n",
       "│ null                                           ┆ featured │\n",
       "│ null                                           ┆ featured │\n",
       "│ null                                           ┆ featured │\n",
       "│ null                                           ┆ featured │\n",
       "│ null                                           ┆ featured │\n",
       "│ null                                           ┆ featured │\n",
       "│ null                                           ┆ featured │\n",
       "│ null                                           ┆ featured │\n",
       "│ null                                           ┆ featured │\n",
       "│ null                                           ┆ featured │\n",
       "│ null                                           ┆ featured │\n",
       "│ null                                           ┆ featured │\n",
       "│ J. Cole                                        ┆ featured │\n",
       "│ null                                           ┆ featured │\n",
       "│ null                                           ┆ featured │\n",
       "│ Young Buck                                     ┆ featured │\n",
       "└────────────────────────────────────────────────┴──────────┘"
      ]
     },
     "execution_count": 123,
     "metadata": {},
     "output_type": "execute_result"
    }
   ],
   "source": [
    "df1 = replace_fn(df.lazy())\n",
    "df2 = split_features(df1)\n",
    "df2.collect()"
   ]
  }
 ],
 "metadata": {
  "kernelspec": {
   "display_name": ".venv",
   "language": "python",
   "name": "python3"
  },
  "language_info": {
   "codemirror_mode": {
    "name": "ipython",
    "version": 3
   },
   "file_extension": ".py",
   "mimetype": "text/x-python",
   "name": "python",
   "nbconvert_exporter": "python",
   "pygments_lexer": "ipython3",
   "version": "3.13.2"
  }
 },
 "nbformat": 4,
 "nbformat_minor": 5
}
