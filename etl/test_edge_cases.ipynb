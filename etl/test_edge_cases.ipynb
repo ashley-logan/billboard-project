{
 "cells": [
  {
   "cell_type": "code",
   "execution_count": 139,
   "id": "9bdcb65d",
   "metadata": {},
   "outputs": [],
   "source": [
    "import polars as pl\n",
    "import json\n",
    "from datetime import date\n",
    "from transform import create_table_song"
   ]
  },
  {
   "cell_type": "code",
   "execution_count": 5,
   "id": "f928501c",
   "metadata": {},
   "outputs": [
    {
     "data": {
      "text/plain": [
       "polars.config.Config"
      ]
     },
     "execution_count": 5,
     "metadata": {},
     "output_type": "execute_result"
    }
   ],
   "source": [
    "pl.Config.set_tbl_cols(20)\n",
    "pl.Config.set_tbl_rows(100)\n",
    "pl.Config.set_fmt_str_lengths(70)"
   ]
  },
  {
   "cell_type": "code",
   "execution_count": 141,
   "id": "f08cc780",
   "metadata": {},
   "outputs": [],
   "source": [
    "def clean(lf):\n",
    "    return (\n",
    "        lf.cast({\"date\": pl.Date, \"position\": pl.UInt8})\n",
    "        .sort(by=\"date\")\n",
    "        .with_row_index(\"_id\")\n",
    "        .select([\"_id\", \"date\", \"position\", \"song\", \"artist\"])\n",
    "    )"
   ]
  },
  {
   "cell_type": "code",
   "execution_count": 26,
   "id": "c272e3d4",
   "metadata": {},
   "outputs": [],
   "source": [
    "lf0: pl.LazyFrame = clean(pl.read_json(\"../data/records05-29_23-57.json\").lazy())"
   ]
  },
  {
   "cell_type": "code",
   "execution_count": 27,
   "id": "12922ccf",
   "metadata": {},
   "outputs": [],
   "source": [
    "def handle_edge_cases(lf):\n",
    "    edge_pat_1 = r\"(?i)duet with\"\n",
    "    edge_pat_2 = r\"(?i)\\((feat\\.*[a-z]*)|(&)|(with)\"\n",
    "    edge_pat_3: str = r\"(?i)&\\s(the|his|her|original)(.*)\"\n",
    "    return lf.unique(subset=[\"song\", \"artist\"]).with_columns(\n",
    "        artist=pl.col(\"artist\").replace(edge_pat_1, \"&\")\n",
    "    ).with_columns(\n",
    "        artist=pl.when(pl.col(\"artist\").str.contains(edge_pat_2))\n",
    "        .then(pl.col(\"artist\").str.replace_all(r\"[()]\", \"\"))\n",
    "        .otherwise(pl.col(\"artist\"))\n",
    "    ).with_columns(\n",
    "        artist=pl.col(\"artist\").str.replace_all(edge_pat_3, r\"and $1$2\")\n",
    "    )"
   ]
  },
  {
   "cell_type": "code",
   "execution_count": 81,
   "id": "4f446af7",
   "metadata": {},
   "outputs": [],
   "source": [
    "def split_features(lf: pl.LazyFrame):\n",
    "    split_pattern: str = r\"(?i)(\\sfeat\\.*[a-z]*\\s)|(\\swith\\s)\"\n",
    "    roles = [\"main\", \"featured\"]\n",
    "    sep: str = \"-\"\n",
    "    mainlf = lf.with_columns(\n",
    "        artist=pl.col(\"artist\")\n",
    "        .str.replace(split_pattern, sep)\n",
    "        .str.split_exact(sep, 1)\n",
    "        .struct[0],\n",
    "        role=pl.lit(\"main\"),\n",
    "    ).drop_nulls()\n",
    "    featlf = lf.with_columns(\n",
    "        artist=pl.col(\"artist\")\n",
    "        .str.replace(split_pattern, sep)\n",
    "        .str.split_exact(sep, 1)\n",
    "        .struct[1],\n",
    "        role=pl.lit(\"featured\"),\n",
    "    ).drop_nulls()\n",
    "    junction_lf = pl.concat([mainlf, featlf]).cast({\"role\": pl.Enum(roles)})\n",
    "    return junction_lf"
   ]
  },
  {
   "cell_type": "code",
   "execution_count": 88,
   "id": "c14f3ce4",
   "metadata": {},
   "outputs": [],
   "source": [
    "def split_artists(lf: pl.LazyFrame):\n",
    "    seperator_sub: str = r\"(?i)(\\s*[&/+,]\\s*)|(x\\s)\"\n",
    "    sep: str = \"!~!\"\n",
    "    transformed_lf = lf.with_columns(\n",
    "        artist=pl.col(\"artist\")\n",
    "        .str.replace_all(seperator_sub, sep)\n",
    "        .str.split(sep).list.eval(pl.element().str.strip_chars()),\n",
    "    ).explode([\"artist\"])\n",
    "    return transformed_lf"
   ]
  },
  {
   "cell_type": "code",
   "execution_count": 49,
   "id": "84ed2ba6",
   "metadata": {},
   "outputs": [],
   "source": [
    "lf1 = handle_edge_cases(lf0)"
   ]
  },
  {
   "cell_type": "code",
   "execution_count": 50,
   "id": "3981ec3c",
   "metadata": {},
   "outputs": [],
   "source": [
    "lf2 = split_features(lf1)"
   ]
  },
  {
   "cell_type": "code",
   "execution_count": 71,
   "id": "decaa177",
   "metadata": {},
   "outputs": [],
   "source": [
    "lf3 = split_artists(lf2)"
   ]
  },
  {
   "cell_type": "code",
   "execution_count": 72,
   "id": "95213a7e",
   "metadata": {},
   "outputs": [
    {
     "data": {
      "text/html": [
       "<div><style>\n",
       ".dataframe > thead > tr,\n",
       ".dataframe > tbody > tr {\n",
       "  text-align: right;\n",
       "  white-space: pre-wrap;\n",
       "}\n",
       "</style>\n",
       "<small>shape: (7, 3)</small><table border=\"1\" class=\"dataframe\"><thead><tr><th>song</th><th>artist</th><th>role</th></tr><tr><td>str</td><td>str</td><td>enum</td></tr></thead><tbody><tr><td>&quot;Dance With Me&quot;</td><td>&quot;The Mojo Men&quot;</td><td>&quot;main&quot;</td></tr><tr><td>&quot;Dance With Me&quot;</td><td>&quot;Orleans&quot;</td><td>&quot;main&quot;</td></tr><tr><td>&quot;Dance With Me&quot;</td><td>&quot;Peter Brown&quot;</td><td>&quot;main&quot;</td></tr><tr><td>&quot;Dance With Me&quot;</td><td>&quot;112&quot;</td><td>&quot;main&quot;</td></tr><tr><td>&quot;Dance With Me&quot;</td><td>&quot;Debelah Morgan&quot;</td><td>&quot;main&quot;</td></tr><tr><td>&quot;Dance With Me&quot;</td><td>&quot;The Drifters&quot;</td><td>&quot;main&quot;</td></tr><tr><td>&quot;Dance With Me&quot;</td><td>&quot;Betty Wright&quot;</td><td>&quot;featured&quot;</td></tr></tbody></table></div>"
      ],
      "text/plain": [
       "shape: (7, 3)\n",
       "┌───────────────┬────────────────┬──────────┐\n",
       "│ song          ┆ artist         ┆ role     │\n",
       "│ ---           ┆ ---            ┆ ---      │\n",
       "│ str           ┆ str            ┆ enum     │\n",
       "╞═══════════════╪════════════════╪══════════╡\n",
       "│ Dance With Me ┆ The Mojo Men   ┆ main     │\n",
       "│ Dance With Me ┆ Orleans        ┆ main     │\n",
       "│ Dance With Me ┆ Peter Brown    ┆ main     │\n",
       "│ Dance With Me ┆ 112            ┆ main     │\n",
       "│ Dance With Me ┆ Debelah Morgan ┆ main     │\n",
       "│ Dance With Me ┆ The Drifters   ┆ main     │\n",
       "│ Dance With Me ┆ Betty Wright   ┆ featured │\n",
       "└───────────────┴────────────────┴──────────┘"
      ]
     },
     "execution_count": 72,
     "metadata": {},
     "output_type": "execute_result"
    }
   ],
   "source": [
    "lf3.filter(\n",
    "    pl.col(\"song\") == \"Dance With Me\"\n",
    ").collect()"
   ]
  },
  {
   "cell_type": "code",
   "execution_count": 142,
   "id": "6b1bd07e",
   "metadata": {},
   "outputs": [],
   "source": [
    "song_df0 = create_table_song(lf0)"
   ]
  },
  {
   "cell_type": "code",
   "execution_count": 143,
   "id": "d1d887f3",
   "metadata": {},
   "outputs": [],
   "source": [
    "song_df1 = handle_edge_cases(song_df0.lazy())"
   ]
  },
  {
   "cell_type": "code",
   "execution_count": 144,
   "id": "1502d412",
   "metadata": {},
   "outputs": [],
   "source": [
    "song_df2 = split_features(song_df1)"
   ]
  },
  {
   "cell_type": "code",
   "execution_count": 145,
   "id": "29871af8",
   "metadata": {},
   "outputs": [],
   "source": [
    "song_df3 = split_artists(song_df2)"
   ]
  },
  {
   "cell_type": "code",
   "execution_count": null,
   "id": "5af3215c",
   "metadata": {},
   "outputs": [],
   "source": [
    "song_df3.collect()"
   ]
  },
  {
   "cell_type": "code",
   "execution_count": null,
   "id": "cc051a68",
   "metadata": {},
   "outputs": [],
   "source": [
    "song_df3.filter(\n",
    "    pl.col(\"song\") == \"Dance With Me\"\n",
    ").collect()"
   ]
  },
  {
   "cell_type": "code",
   "execution_count": 146,
   "id": "d26fce78",
   "metadata": {},
   "outputs": [],
   "source": [
    "artist_df0 = song_df3.sort(\"latest\", descending=True).unique(subset=[\"artist\"]).select(\"artist\")"
   ]
  },
  {
   "cell_type": "code",
   "execution_count": 147,
   "id": "380dc368",
   "metadata": {},
   "outputs": [],
   "source": [
    "artist_df1 = artist_df0.with_row_index(\"id\").sort(\"id\", descending=True)"
   ]
  },
  {
   "cell_type": "code",
   "execution_count": 154,
   "id": "424f6f11",
   "metadata": {},
   "outputs": [],
   "source": [
    "junction_lf = song_df3.join(artist_df1, on=\"artist\", how=\"inner\", suffix=\"artist\")"
   ]
  },
  {
   "cell_type": "code",
   "execution_count": null,
   "id": "32a64075",
   "metadata": {},
   "outputs": [],
   "source": [
    "junction_lf = junction_lf.select(\n",
    "        id_song=\"id\",\n",
    "        idartist=\"id_artist\",\n",
    "        role=\"contribution_artist\",\n",
    "        power=\"power_song\",\n",
    "        longevity=\"longevity_artist\",\n",
    "        decade=\"decade_song\",\n",
    ")"
   ]
  },
  {
   "cell_type": "code",
   "execution_count": 153,
   "id": "f31c0700",
   "metadata": {},
   "outputs": [
    {
     "ename": "ColumnNotFoundError",
     "evalue": "id_song\n\nResolved plan until failure:\n\n\t---> FAILED HERE RESOLVING 'sink' <---\nINNER JOIN:\nLEFT PLAN ON: [col(\"artist\")]\n  EXPLODE\n     WITH_COLUMNS:\n     [col(\"artist\").str.replace([\"(?i)(\\s*[&/+,]\\s*)|(x\\s)\", \"!~!\"]).str.split([\"!~!\"]).eval().alias(\"artist\")] \n       WITH_COLUMNS:\n       [col(\"role\").strict_cast(Enum(Some(local), Physical))] \n        UNION\n          PLAN 0:\n            FILTER col(\"role\").is_not_null()\n            FROM\n              FILTER col(\"decade\").is_not_null()\n              FROM\n                FILTER col(\"latest\").is_not_null()\n                FROM\n                  FILTER col(\"earliest\").is_not_null()\n                  FROM\n                    FILTER col(\"longevity\").is_not_null()\n                    FROM\n                      FILTER col(\"power\").is_not_null()\n                      FROM\n                        FILTER col(\"artist\").is_not_null()\n                        FROM\n                          FILTER col(\"song\").is_not_null()\n                          FROM\n                            FILTER col(\"id\").is_not_null()\n                            FROM\n                               WITH_COLUMNS:\n                               [col(\"artist\").str.replace([\"(?i)(\\sfeat\\.*[a-z]*\\s)|(\\swith\\s)\", \"-\"]).str.split_exact([\"-\"]).struct.field_by_name(field_0)().alias(\"artist\"), \"main\".alias(\"role\")] \n                                 WITH_COLUMNS:\n                                 [col(\"artist\").str.replace([\"(?i)&\\s(the|his|her|original)(.*)\", \"and $1$2\"]).alias(\"artist\")] \n                                   WITH_COLUMNS:\n                                   [when(col(\"artist\").str.contains([\"(?i)\\((feat\\.*[a-z]*)|(&)|(with)\"])).then(col(\"artist\").str.replace([\"[()]\", \"\"])).otherwise(col(\"artist\")).alias(\"artist\")] \n                                     WITH_COLUMNS:\n                                     [col(\"artist\").replace([\"(?i)duet with\".implode(), \"&\".implode()]).alias(\"artist\")] \n                                      UNIQUE[maintain_order: false, keep_strategy: Any] BY Some([\"song\", \"artist\"])\n                                        DF [\"id\", \"song\", \"artist\", \"power\", ...]; PROJECT */8 COLUMNS\n          PLAN 1:\n            FILTER col(\"role\").is_not_null()\n            FROM\n              FILTER col(\"decade\").is_not_null()\n              FROM\n                FILTER col(\"latest\").is_not_null()\n                FROM\n                  FILTER col(\"earliest\").is_not_null()\n                  FROM\n                    FILTER col(\"longevity\").is_not_null()\n                    FROM\n                      FILTER col(\"power\").is_not_null()\n                      FROM\n                        FILTER col(\"artist\").is_not_null()\n                        FROM\n                          FILTER col(\"song\").is_not_null()\n                          FROM\n                            FILTER col(\"id\").is_not_null()\n                            FROM\n                               WITH_COLUMNS:\n                               [col(\"artist\").str.replace([\"(?i)(\\sfeat\\.*[a-z]*\\s)|(\\swith\\s)\", \"-\"]).str.split_exact([\"-\"]).struct.field_by_name(field_1)().alias(\"artist\"), \"featured\".alias(\"role\")] \n                                 WITH_COLUMNS:\n                                 [col(\"artist\").str.replace([\"(?i)&\\s(the|his|her|original)(.*)\", \"and $1$2\"]).alias(\"artist\")] \n                                   WITH_COLUMNS:\n                                   [when(col(\"artist\").str.contains([\"(?i)\\((feat\\.*[a-z]*)|(&)|(with)\"])).then(col(\"artist\").str.replace([\"[()]\", \"\"])).otherwise(col(\"artist\")).alias(\"artist\")] \n                                     WITH_COLUMNS:\n                                     [col(\"artist\").replace([\"(?i)duet with\".implode(), \"&\".implode()]).alias(\"artist\")] \n                                      UNIQUE[maintain_order: false, keep_strategy: Any] BY Some([\"song\", \"artist\"])\n                                        DF [\"id\", \"song\", \"artist\", \"power\", ...]; PROJECT */8 COLUMNS\n        END UNION\nRIGHT PLAN ON: [col(\"artist\")]\n  SORT BY [col(\"id\")]\n    ROW_INDEX\n      SELECT [col(\"artist\")]\n        UNIQUE[maintain_order: false, keep_strategy: Any] BY Some([\"artist\"])\n          SORT BY [col(\"latest\")]\n            EXPLODE\n               WITH_COLUMNS:\n               [col(\"artist\").str.replace([\"(?i)(\\s*[&/+,]\\s*)|(x\\s)\", \"!~!\"]).str.split([\"!~!\"]).eval().alias(\"artist\")] \n                 WITH_COLUMNS:\n                 [col(\"role\").strict_cast(Enum(Some(local), Physical))] \n                  UNION\n                    PLAN 0:\n                      FILTER col(\"role\").is_not_null()\n                      FROM\n                        FILTER col(\"decade\").is_not_null()\n                        FROM\n                          FILTER col(\"latest\").is_not_null()\n                          FROM\n                            FILTER col(\"earliest\").is_not_null()\n                            FROM\n                              FILTER col(\"longevity\").is_not_null()\n                              FROM\n                                FILTER col(\"power\").is_not_null()\n                                FROM\n                                  FILTER col(\"artist\").is_not_null()\n                                  FROM\n                                    FILTER col(\"song\").is_not_null()\n                                    FROM\n                                      FILTER col(\"id\").is_not_null()\n                                      FROM\n                                         WITH_COLUMNS:\n                                         [col(\"artist\").str.replace([\"(?i)(\\sfeat\\.*[a-z]*\\s)|(\\swith\\s)\", \"-\"]).str.split_exact([\"-\"]).struct.field_by_name(field_0)().alias(\"artist\"), \"main\".alias(\"role\")] \n                                           WITH_COLUMNS:\n                                           [col(\"artist\").str.replace([\"(?i)&\\s(the|his|her|original)(.*)\", \"and $1$2\"]).alias(\"artist\")] \n                                             WITH_COLUMNS:\n                                             [when(col(\"artist\").str.contains([\"(?i)\\((feat\\.*[a-z]*)|(&)|(with)\"])).then(col(\"artist\").str.replace([\"[()]\", \"\"])).otherwise(col(\"artist\")).alias(\"artist\")] \n                                               WITH_COLUMNS:\n                                               [col(\"artist\").replace([\"(?i)duet with\".implode(), \"&\".implode()]).alias(\"artist\")] \n                                                UNIQUE[maintain_order: false, keep_strategy: Any] BY Some([\"song\", \"artist\"])\n                                                  DF [\"id\", \"song\", \"artist\", \"power\", ...]; PROJECT */8 COLUMNS\n                    PLAN 1:\n                      FILTER col(\"role\").is_not_null()\n                      FROM\n                        FILTER col(\"decade\").is_not_null()\n                        FROM\n                          FILTER col(\"latest\").is_not_null()\n                          FROM\n                            FILTER col(\"earliest\").is_not_null()\n                            FROM\n                              FILTER col(\"longevity\").is_not_null()\n                              FROM\n                                FILTER col(\"power\").is_not_null()\n                                FROM\n                                  FILTER col(\"artist\").is_not_null()\n                                  FROM\n                                    FILTER col(\"song\").is_not_null()\n                                    FROM\n                                      FILTER col(\"id\").is_not_null()\n                                      FROM\n                                         WITH_COLUMNS:\n                                         [col(\"artist\").str.replace([\"(?i)(\\sfeat\\.*[a-z]*\\s)|(\\swith\\s)\", \"-\"]).str.split_exact([\"-\"]).struct.field_by_name(field_1)().alias(\"artist\"), \"featured\".alias(\"role\")] \n                                           WITH_COLUMNS:\n                                           [col(\"artist\").str.replace([\"(?i)&\\s(the|his|her|original)(.*)\", \"and $1$2\"]).alias(\"artist\")] \n                                             WITH_COLUMNS:\n                                             [when(col(\"artist\").str.contains([\"(?i)\\((feat\\.*[a-z]*)|(&)|(with)\"])).then(col(\"artist\").str.replace([\"[()]\", \"\"])).otherwise(col(\"artist\")).alias(\"artist\")] \n                                               WITH_COLUMNS:\n                                               [col(\"artist\").replace([\"(?i)duet with\".implode(), \"&\".implode()]).alias(\"artist\")] \n                                                UNIQUE[maintain_order: false, keep_strategy: Any] BY Some([\"song\", \"artist\"])\n                                                  DF [\"id\", \"song\", \"artist\", \"power\", ...]; PROJECT */8 COLUMNS\n                  END UNION\nEND INNER JOIN",
     "output_type": "error",
     "traceback": [
      "\u001b[31m---------------------------------------------------------------------------\u001b[39m",
      "\u001b[31mColumnNotFoundError\u001b[39m                       Traceback (most recent call last)",
      "\u001b[36mCell\u001b[39m\u001b[36m \u001b[39m\u001b[32mIn[153]\u001b[39m\u001b[32m, line 1\u001b[39m\n\u001b[32m----> \u001b[39m\u001b[32m1\u001b[39m \u001b[43mjunction_lf\u001b[49m\u001b[43m.\u001b[49m\u001b[43mcollect\u001b[49m\u001b[43m(\u001b[49m\u001b[43m)\u001b[49m\n",
      "\u001b[36mFile \u001b[39m\u001b[32m/mnt/c/Users/Ashley/Desktop/program_repo/hot100_project/.venv/lib/python3.13/site-packages/polars/_utils/deprecation.py:97\u001b[39m, in \u001b[36mdeprecate_streaming_parameter.<locals>.decorate.<locals>.wrapper\u001b[39m\u001b[34m(*args, **kwargs)\u001b[39m\n\u001b[32m     93\u001b[39m         kwargs[\u001b[33m\"\u001b[39m\u001b[33mengine\u001b[39m\u001b[33m\"\u001b[39m] = \u001b[33m\"\u001b[39m\u001b[33min-memory\u001b[39m\u001b[33m\"\u001b[39m\n\u001b[32m     95\u001b[39m     \u001b[38;5;28;01mdel\u001b[39;00m kwargs[\u001b[33m\"\u001b[39m\u001b[33mstreaming\u001b[39m\u001b[33m\"\u001b[39m]\n\u001b[32m---> \u001b[39m\u001b[32m97\u001b[39m \u001b[38;5;28;01mreturn\u001b[39;00m \u001b[43mfunction\u001b[49m\u001b[43m(\u001b[49m\u001b[43m*\u001b[49m\u001b[43margs\u001b[49m\u001b[43m,\u001b[49m\u001b[43m \u001b[49m\u001b[43m*\u001b[49m\u001b[43m*\u001b[49m\u001b[43mkwargs\u001b[49m\u001b[43m)\u001b[49m\n",
      "\u001b[36mFile \u001b[39m\u001b[32m/mnt/c/Users/Ashley/Desktop/program_repo/hot100_project/.venv/lib/python3.13/site-packages/polars/lazyframe/opt_flags.py:331\u001b[39m, in \u001b[36mforward_old_opt_flags.<locals>.decorate.<locals>.wrapper\u001b[39m\u001b[34m(*args, **kwargs)\u001b[39m\n\u001b[32m    328\u001b[39m         optflags = cb(optflags, kwargs.pop(key))  \u001b[38;5;66;03m# type: ignore[no-untyped-call,unused-ignore]\u001b[39;00m\n\u001b[32m    330\u001b[39m kwargs[\u001b[33m\"\u001b[39m\u001b[33moptimizations\u001b[39m\u001b[33m\"\u001b[39m] = optflags\n\u001b[32m--> \u001b[39m\u001b[32m331\u001b[39m \u001b[38;5;28;01mreturn\u001b[39;00m \u001b[43mfunction\u001b[49m\u001b[43m(\u001b[49m\u001b[43m*\u001b[49m\u001b[43margs\u001b[49m\u001b[43m,\u001b[49m\u001b[43m \u001b[49m\u001b[43m*\u001b[49m\u001b[43m*\u001b[49m\u001b[43mkwargs\u001b[49m\u001b[43m)\u001b[49m\n",
      "\u001b[36mFile \u001b[39m\u001b[32m/mnt/c/Users/Ashley/Desktop/program_repo/hot100_project/.venv/lib/python3.13/site-packages/polars/lazyframe/frame.py:2300\u001b[39m, in \u001b[36mLazyFrame.collect\u001b[39m\u001b[34m(self, type_coercion, predicate_pushdown, projection_pushdown, simplify_expression, slice_pushdown, comm_subplan_elim, comm_subexpr_elim, cluster_with_columns, collapse_joins, no_optimization, engine, background, optimizations, **_kwargs)\u001b[39m\n\u001b[32m   2298\u001b[39m \u001b[38;5;66;03m# Only for testing purposes\u001b[39;00m\n\u001b[32m   2299\u001b[39m callback = _kwargs.get(\u001b[33m\"\u001b[39m\u001b[33mpost_opt_callback\u001b[39m\u001b[33m\"\u001b[39m, callback)\n\u001b[32m-> \u001b[39m\u001b[32m2300\u001b[39m \u001b[38;5;28;01mreturn\u001b[39;00m wrap_df(\u001b[43mldf\u001b[49m\u001b[43m.\u001b[49m\u001b[43mcollect\u001b[49m\u001b[43m(\u001b[49m\u001b[43mengine\u001b[49m\u001b[43m,\u001b[49m\u001b[43m \u001b[49m\u001b[43mcallback\u001b[49m\u001b[43m)\u001b[49m)\n",
      "\u001b[31mColumnNotFoundError\u001b[39m: id_song\n\nResolved plan until failure:\n\n\t---> FAILED HERE RESOLVING 'sink' <---\nINNER JOIN:\nLEFT PLAN ON: [col(\"artist\")]\n  EXPLODE\n     WITH_COLUMNS:\n     [col(\"artist\").str.replace([\"(?i)(\\s*[&/+,]\\s*)|(x\\s)\", \"!~!\"]).str.split([\"!~!\"]).eval().alias(\"artist\")] \n       WITH_COLUMNS:\n       [col(\"role\").strict_cast(Enum(Some(local), Physical))] \n        UNION\n          PLAN 0:\n            FILTER col(\"role\").is_not_null()\n            FROM\n              FILTER col(\"decade\").is_not_null()\n              FROM\n                FILTER col(\"latest\").is_not_null()\n                FROM\n                  FILTER col(\"earliest\").is_not_null()\n                  FROM\n                    FILTER col(\"longevity\").is_not_null()\n                    FROM\n                      FILTER col(\"power\").is_not_null()\n                      FROM\n                        FILTER col(\"artist\").is_not_null()\n                        FROM\n                          FILTER col(\"song\").is_not_null()\n                          FROM\n                            FILTER col(\"id\").is_not_null()\n                            FROM\n                               WITH_COLUMNS:\n                               [col(\"artist\").str.replace([\"(?i)(\\sfeat\\.*[a-z]*\\s)|(\\swith\\s)\", \"-\"]).str.split_exact([\"-\"]).struct.field_by_name(field_0)().alias(\"artist\"), \"main\".alias(\"role\")] \n                                 WITH_COLUMNS:\n                                 [col(\"artist\").str.replace([\"(?i)&\\s(the|his|her|original)(.*)\", \"and $1$2\"]).alias(\"artist\")] \n                                   WITH_COLUMNS:\n                                   [when(col(\"artist\").str.contains([\"(?i)\\((feat\\.*[a-z]*)|(&)|(with)\"])).then(col(\"artist\").str.replace([\"[()]\", \"\"])).otherwise(col(\"artist\")).alias(\"artist\")] \n                                     WITH_COLUMNS:\n                                     [col(\"artist\").replace([\"(?i)duet with\".implode(), \"&\".implode()]).alias(\"artist\")] \n                                      UNIQUE[maintain_order: false, keep_strategy: Any] BY Some([\"song\", \"artist\"])\n                                        DF [\"id\", \"song\", \"artist\", \"power\", ...]; PROJECT */8 COLUMNS\n          PLAN 1:\n            FILTER col(\"role\").is_not_null()\n            FROM\n              FILTER col(\"decade\").is_not_null()\n              FROM\n                FILTER col(\"latest\").is_not_null()\n                FROM\n                  FILTER col(\"earliest\").is_not_null()\n                  FROM\n                    FILTER col(\"longevity\").is_not_null()\n                    FROM\n                      FILTER col(\"power\").is_not_null()\n                      FROM\n                        FILTER col(\"artist\").is_not_null()\n                        FROM\n                          FILTER col(\"song\").is_not_null()\n                          FROM\n                            FILTER col(\"id\").is_not_null()\n                            FROM\n                               WITH_COLUMNS:\n                               [col(\"artist\").str.replace([\"(?i)(\\sfeat\\.*[a-z]*\\s)|(\\swith\\s)\", \"-\"]).str.split_exact([\"-\"]).struct.field_by_name(field_1)().alias(\"artist\"), \"featured\".alias(\"role\")] \n                                 WITH_COLUMNS:\n                                 [col(\"artist\").str.replace([\"(?i)&\\s(the|his|her|original)(.*)\", \"and $1$2\"]).alias(\"artist\")] \n                                   WITH_COLUMNS:\n                                   [when(col(\"artist\").str.contains([\"(?i)\\((feat\\.*[a-z]*)|(&)|(with)\"])).then(col(\"artist\").str.replace([\"[()]\", \"\"])).otherwise(col(\"artist\")).alias(\"artist\")] \n                                     WITH_COLUMNS:\n                                     [col(\"artist\").replace([\"(?i)duet with\".implode(), \"&\".implode()]).alias(\"artist\")] \n                                      UNIQUE[maintain_order: false, keep_strategy: Any] BY Some([\"song\", \"artist\"])\n                                        DF [\"id\", \"song\", \"artist\", \"power\", ...]; PROJECT */8 COLUMNS\n        END UNION\nRIGHT PLAN ON: [col(\"artist\")]\n  SORT BY [col(\"id\")]\n    ROW_INDEX\n      SELECT [col(\"artist\")]\n        UNIQUE[maintain_order: false, keep_strategy: Any] BY Some([\"artist\"])\n          SORT BY [col(\"latest\")]\n            EXPLODE\n               WITH_COLUMNS:\n               [col(\"artist\").str.replace([\"(?i)(\\s*[&/+,]\\s*)|(x\\s)\", \"!~!\"]).str.split([\"!~!\"]).eval().alias(\"artist\")] \n                 WITH_COLUMNS:\n                 [col(\"role\").strict_cast(Enum(Some(local), Physical))] \n                  UNION\n                    PLAN 0:\n                      FILTER col(\"role\").is_not_null()\n                      FROM\n                        FILTER col(\"decade\").is_not_null()\n                        FROM\n                          FILTER col(\"latest\").is_not_null()\n                          FROM\n                            FILTER col(\"earliest\").is_not_null()\n                            FROM\n                              FILTER col(\"longevity\").is_not_null()\n                              FROM\n                                FILTER col(\"power\").is_not_null()\n                                FROM\n                                  FILTER col(\"artist\").is_not_null()\n                                  FROM\n                                    FILTER col(\"song\").is_not_null()\n                                    FROM\n                                      FILTER col(\"id\").is_not_null()\n                                      FROM\n                                         WITH_COLUMNS:\n                                         [col(\"artist\").str.replace([\"(?i)(\\sfeat\\.*[a-z]*\\s)|(\\swith\\s)\", \"-\"]).str.split_exact([\"-\"]).struct.field_by_name(field_0)().alias(\"artist\"), \"main\".alias(\"role\")] \n                                           WITH_COLUMNS:\n                                           [col(\"artist\").str.replace([\"(?i)&\\s(the|his|her|original)(.*)\", \"and $1$2\"]).alias(\"artist\")] \n                                             WITH_COLUMNS:\n                                             [when(col(\"artist\").str.contains([\"(?i)\\((feat\\.*[a-z]*)|(&)|(with)\"])).then(col(\"artist\").str.replace([\"[()]\", \"\"])).otherwise(col(\"artist\")).alias(\"artist\")] \n                                               WITH_COLUMNS:\n                                               [col(\"artist\").replace([\"(?i)duet with\".implode(), \"&\".implode()]).alias(\"artist\")] \n                                                UNIQUE[maintain_order: false, keep_strategy: Any] BY Some([\"song\", \"artist\"])\n                                                  DF [\"id\", \"song\", \"artist\", \"power\", ...]; PROJECT */8 COLUMNS\n                    PLAN 1:\n                      FILTER col(\"role\").is_not_null()\n                      FROM\n                        FILTER col(\"decade\").is_not_null()\n                        FROM\n                          FILTER col(\"latest\").is_not_null()\n                          FROM\n                            FILTER col(\"earliest\").is_not_null()\n                            FROM\n                              FILTER col(\"longevity\").is_not_null()\n                              FROM\n                                FILTER col(\"power\").is_not_null()\n                                FROM\n                                  FILTER col(\"artist\").is_not_null()\n                                  FROM\n                                    FILTER col(\"song\").is_not_null()\n                                    FROM\n                                      FILTER col(\"id\").is_not_null()\n                                      FROM\n                                         WITH_COLUMNS:\n                                         [col(\"artist\").str.replace([\"(?i)(\\sfeat\\.*[a-z]*\\s)|(\\swith\\s)\", \"-\"]).str.split_exact([\"-\"]).struct.field_by_name(field_1)().alias(\"artist\"), \"featured\".alias(\"role\")] \n                                           WITH_COLUMNS:\n                                           [col(\"artist\").str.replace([\"(?i)&\\s(the|his|her|original)(.*)\", \"and $1$2\"]).alias(\"artist\")] \n                                             WITH_COLUMNS:\n                                             [when(col(\"artist\").str.contains([\"(?i)\\((feat\\.*[a-z]*)|(&)|(with)\"])).then(col(\"artist\").str.replace([\"[()]\", \"\"])).otherwise(col(\"artist\")).alias(\"artist\")] \n                                               WITH_COLUMNS:\n                                               [col(\"artist\").replace([\"(?i)duet with\".implode(), \"&\".implode()]).alias(\"artist\")] \n                                                UNIQUE[maintain_order: false, keep_strategy: Any] BY Some([\"song\", \"artist\"])\n                                                  DF [\"id\", \"song\", \"artist\", \"power\", ...]; PROJECT */8 COLUMNS\n                  END UNION\nEND INNER JOIN"
     ]
    }
   ],
   "source": [
    "junction_lf.collect()"
   ]
  },
  {
   "cell_type": "code",
   "execution_count": null,
   "id": "b273fcb3",
   "metadata": {},
   "outputs": [],
   "source": []
  }
 ],
 "metadata": {
  "kernelspec": {
   "display_name": ".venv",
   "language": "python",
   "name": "python3"
  },
  "language_info": {
   "codemirror_mode": {
    "name": "ipython",
    "version": 3
   },
   "file_extension": ".py",
   "mimetype": "text/x-python",
   "name": "python",
   "nbconvert_exporter": "python",
   "pygments_lexer": "ipython3",
   "version": "3.13.2"
  }
 },
 "nbformat": 4,
 "nbformat_minor": 5
}
