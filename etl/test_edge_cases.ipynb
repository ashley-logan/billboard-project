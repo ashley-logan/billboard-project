{
 "cells": [
  {
   "cell_type": "code",
   "execution_count": 6,
   "id": "9bdcb65d",
   "metadata": {},
   "outputs": [],
   "source": [
    "import polars as pl\n",
    "import json\n",
    "from transform import clean\n"
   ]
  },
  {
   "cell_type": "code",
   "execution_count": 87,
   "id": "f928501c",
   "metadata": {},
   "outputs": [
    {
     "data": {
      "text/plain": [
       "polars.config.Config"
      ]
     },
     "execution_count": 87,
     "metadata": {},
     "output_type": "execute_result"
    }
   ],
   "source": [
    "pl.Config.set_tbl_cols(20)\n",
    "pl.Config.set_tbl_rows(100)\n",
    "pl.Config.set_fmt_str_lengths(70)"
   ]
  },
  {
   "cell_type": "code",
   "execution_count": 7,
   "id": "c272e3d4",
   "metadata": {},
   "outputs": [],
   "source": [
    "df: pl.DataFrame = clean(pl.read_json(\"../data/records05-29_23-57.json\"))"
   ]
  },
  {
   "cell_type": "code",
   "execution_count": 10,
   "id": "064b282f",
   "metadata": {},
   "outputs": [
    {
     "data": {
      "text/html": [
       "<div><style>\n",
       ".dataframe > thead > tr,\n",
       ".dataframe > tbody > tr {\n",
       "  text-align: right;\n",
       "  white-space: pre-wrap;\n",
       "}\n",
       "</style>\n",
       "<small>shape: (5, 5)</small><table border=\"1\" class=\"dataframe\"><thead><tr><th>id</th><th>date</th><th>position</th><th>song</th><th>artist</th></tr><tr><td>u32</td><td>date</td><td>u8</td><td>str</td><td>str</td></tr></thead><tbody><tr><td>0</td><td>1960-01-02</td><td>1</td><td>&quot;El Paso&quot;</td><td>&quot;Marty Robbins&quot;</td></tr><tr><td>1</td><td>1960-01-02</td><td>2</td><td>&quot;Why&quot;</td><td>&quot;Frankie Avalon&quot;</td></tr><tr><td>2</td><td>1960-01-02</td><td>3</td><td>&quot;The Big Hurt&quot;</td><td>&quot;Miss Toni Fisher&quot;</td></tr><tr><td>3</td><td>1960-01-02</td><td>4</td><td>&quot;Running Bear&quot;</td><td>&quot;Johnny Preston&quot;</td></tr><tr><td>4</td><td>1960-01-02</td><td>5</td><td>&quot;Way Down Yonder In New Orleans&quot;</td><td>&quot;Freddie Cannon&quot;</td></tr></tbody></table></div>"
      ],
      "text/plain": [
       "shape: (5, 5)\n",
       "┌─────┬────────────┬──────────┬────────────────────────────────┬──────────────────┐\n",
       "│ id  ┆ date       ┆ position ┆ song                           ┆ artist           │\n",
       "│ --- ┆ ---        ┆ ---      ┆ ---                            ┆ ---              │\n",
       "│ u32 ┆ date       ┆ u8       ┆ str                            ┆ str              │\n",
       "╞═════╪════════════╪══════════╪════════════════════════════════╪══════════════════╡\n",
       "│ 0   ┆ 1960-01-02 ┆ 1        ┆ El Paso                        ┆ Marty Robbins    │\n",
       "│ 1   ┆ 1960-01-02 ┆ 2        ┆ Why                            ┆ Frankie Avalon   │\n",
       "│ 2   ┆ 1960-01-02 ┆ 3        ┆ The Big Hurt                   ┆ Miss Toni Fisher │\n",
       "│ 3   ┆ 1960-01-02 ┆ 4        ┆ Running Bear                   ┆ Johnny Preston   │\n",
       "│ 4   ┆ 1960-01-02 ┆ 5        ┆ Way Down Yonder In New Orleans ┆ Freddie Cannon   │\n",
       "└─────┴────────────┴──────────┴────────────────────────────────┴──────────────────┘"
      ]
     },
     "execution_count": 10,
     "metadata": {},
     "output_type": "execute_result"
    }
   ],
   "source": [
    "df.head()"
   ]
  },
  {
   "cell_type": "code",
   "execution_count": 77,
   "id": "fac1de4c",
   "metadata": {},
   "outputs": [],
   "source": [
    "edge_df = df.unique(subset=[\"artist\"]).filter(\n",
    "    pl.col(\"artist\").str.contains(r\"[\\(\\)\\[\\]]\")\n",
    ")"
   ]
  },
  {
   "cell_type": "code",
   "execution_count": 76,
   "id": "1c838de5",
   "metadata": {},
   "outputs": [
    {
     "data": {
      "text/html": [
       "<div><style>\n",
       ".dataframe > thead > tr,\n",
       ".dataframe > tbody > tr {\n",
       "  text-align: right;\n",
       "  white-space: pre-wrap;\n",
       "}\n",
       "</style>\n",
       "<small>shape: (91, 5)</small><table border=\"1\" class=\"dataframe\"><thead><tr><th>id</th><th>date</th><th>position</th><th>song</th><th>artist</th></tr><tr><td>u32</td><td>date</td><td>u8</td><td>str</td><td>str</td></tr></thead><tbody><tr><td>239575</td><td>2006-12-02</td><td>89</td><td>&quot;When Your Heart Stops Beating&quot;</td><td>&quot;(+44)&quot;</td></tr><tr><td>64393</td><td>1972-05-06</td><td>94</td><td>&quot;Woman&#x27;s Gotta Have It&quot;</td><td>&quot;(The Preacher) Bobby Womack&quot;</td></tr><tr><td>1297</td><td>1960-03-26</td><td>98</td><td>&quot;I Need You Now&quot;</td><td>&quot;100 Strings and Jono (Choir of 40 Voices)&quot;</td></tr><tr><td>315436</td><td>2022-04-02</td><td>50</td><td>&quot;Nobody Like U&quot;</td><td>&quot;4*TOWN (From Disney And Pixar&#x27;s Turning Red)&quot;</td></tr><tr><td>34874</td><td>1966-09-03</td><td>75</td><td>&quot;96 Tears&quot;</td><td>&quot;? (Question Mark) &amp; The Mysterians&quot;</td></tr><tr><td>20995</td><td>1964-01-04</td><td>96</td><td>&quot;Java&quot;</td><td>&quot;Al (He&#x27;s the King) Hirt&quot;</td></tr><tr><td>194779</td><td>1998-01-03</td><td>93</td><td>&quot;What If I Said&quot;</td><td>&quot;Anita Cochran (Duet With Steve Wariner)&quot;</td></tr><tr><td>84183</td><td>1976-03-06</td><td>84</td><td>&quot;Street Talk&quot;</td><td>&quot;B.C.G. (B.C. Generation)&quot;</td></tr><tr><td>177861</td><td>1994-10-08</td><td>75</td><td>&quot;U Will Know (From &quot;Jason&#x27;s Lyric&quot;)&quot;</td><td>&quot;B.M.U. (Black Men United)&quot;</td></tr><tr><td>188334</td><td>1996-10-12</td><td>48</td><td>&quot;No Diggity&quot;</td><td>&quot;BLACKstreet (Featuring Dr. Dre)&quot;</td></tr><tr><td>&hellip;</td><td>&hellip;</td><td>&hellip;</td><td>&hellip;</td><td>&hellip;</td></tr><tr><td>28183</td><td>1965-05-22</td><td>84</td><td>&quot;It&#x27;s Wonderful To Be In Love&quot;</td><td>&quot;The Ovations (Featuring Louis Williams)&quot;</td></tr><tr><td>53399</td><td>1970-03-28</td><td>100</td><td>&quot;Which Way You Goin&#x27; Billy?&quot;</td><td>&quot;The Poppy Family (Featuring Susan Jacks)&quot;</td></tr><tr><td>20163</td><td>1963-11-09</td><td>64</td><td>&quot;Dominique&quot;</td><td>&quot;The Singing Nun (Soeur Sourire)&quot;</td></tr><tr><td>246247</td><td>2008-03-15</td><td>61</td><td>&quot;Falling Slowly&quot;</td><td>&quot;The Swell Season (Glen Hansard &amp; Marketa Irglova)&quot;</td></tr><tr><td>16996</td><td>1963-03-30</td><td>97</td><td>&quot;I&#x27;ll Make It Alright&quot;</td><td>&quot;The Valentinos (The Lovers)&quot;</td></tr><tr><td>104083</td><td>1980-03-08</td><td>97</td><td>&quot;I Don&#x27;t Need You Anymore&quot;</td><td>&quot;Together? (Soundtrack) Featuring Jackie DeShannon&quot;</td></tr><tr><td>190061</td><td>1997-02-08</td><td>75</td><td>&quot;I Always Feel Like (Somebody&#x27;s Watching Me)&quot;</td><td>&quot;Tru Featuring Ice Cream Man (Master P)&quot;</td></tr><tr><td>191671</td><td>1997-05-31</td><td>85</td><td>&quot;No One But You (From &quot;Baps&quot;)&quot;</td><td>&quot;Veronica (Featuring Craig Mack)&quot;</td></tr><tr><td>147979</td><td>1988-10-01</td><td>93</td><td>&quot;Spy In The House Of Love&quot;</td><td>&quot;Was (Not Was)&quot;</td></tr><tr><td>7199</td><td>1961-05-13</td><td>100</td><td>&quot;Here&#x27;s My Confession&quot;</td><td>&quot;Wyatt (Earp) McPherson&quot;</td></tr></tbody></table></div>"
      ],
      "text/plain": [
       "shape: (91, 5)\n",
       "┌────────┬────────────┬──────────┬─────────────────────────────────────────────┬───────────────────────────────────────────────────┐\n",
       "│ id     ┆ date       ┆ position ┆ song                                        ┆ artist                                            │\n",
       "│ ---    ┆ ---        ┆ ---      ┆ ---                                         ┆ ---                                               │\n",
       "│ u32    ┆ date       ┆ u8       ┆ str                                         ┆ str                                               │\n",
       "╞════════╪════════════╪══════════╪═════════════════════════════════════════════╪═══════════════════════════════════════════════════╡\n",
       "│ 239575 ┆ 2006-12-02 ┆ 89       ┆ When Your Heart Stops Beating               ┆ (+44)                                             │\n",
       "│ 64393  ┆ 1972-05-06 ┆ 94       ┆ Woman's Gotta Have It                       ┆ (The Preacher) Bobby Womack                       │\n",
       "│ 1297   ┆ 1960-03-26 ┆ 98       ┆ I Need You Now                              ┆ 100 Strings and Jono (Choir of 40 Voices)         │\n",
       "│ 315436 ┆ 2022-04-02 ┆ 50       ┆ Nobody Like U                               ┆ 4*TOWN (From Disney And Pixar's Turning Red)      │\n",
       "│ 34874  ┆ 1966-09-03 ┆ 75       ┆ 96 Tears                                    ┆ ? (Question Mark) & The Mysterians                │\n",
       "│ 20995  ┆ 1964-01-04 ┆ 96       ┆ Java                                        ┆ Al (He's the King) Hirt                           │\n",
       "│ 194779 ┆ 1998-01-03 ┆ 93       ┆ What If I Said                              ┆ Anita Cochran (Duet With Steve Wariner)           │\n",
       "│ 84183  ┆ 1976-03-06 ┆ 84       ┆ Street Talk                                 ┆ B.C.G. (B.C. Generation)                          │\n",
       "│ 177861 ┆ 1994-10-08 ┆ 75       ┆ U Will Know (From \"Jason's Lyric\")          ┆ B.M.U. (Black Men United)                         │\n",
       "│ 188334 ┆ 1996-10-12 ┆ 48       ┆ No Diggity                                  ┆ BLACKstreet (Featuring Dr. Dre)                   │\n",
       "│ …      ┆ …          ┆ …        ┆ …                                           ┆ …                                                 │\n",
       "│ 28183  ┆ 1965-05-22 ┆ 84       ┆ It's Wonderful To Be In Love                ┆ The Ovations (Featuring Louis Williams)           │\n",
       "│ 53399  ┆ 1970-03-28 ┆ 100      ┆ Which Way You Goin' Billy?                  ┆ The Poppy Family (Featuring Susan Jacks)          │\n",
       "│ 20163  ┆ 1963-11-09 ┆ 64       ┆ Dominique                                   ┆ The Singing Nun (Soeur Sourire)                   │\n",
       "│ 246247 ┆ 2008-03-15 ┆ 61       ┆ Falling Slowly                              ┆ The Swell Season (Glen Hansard & Marketa Irglova) │\n",
       "│ 16996  ┆ 1963-03-30 ┆ 97       ┆ I'll Make It Alright                        ┆ The Valentinos (The Lovers)                       │\n",
       "│ 104083 ┆ 1980-03-08 ┆ 97       ┆ I Don't Need You Anymore                    ┆ Together? (Soundtrack) Featuring Jackie DeShannon │\n",
       "│ 190061 ┆ 1997-02-08 ┆ 75       ┆ I Always Feel Like (Somebody's Watching Me) ┆ Tru Featuring Ice Cream Man (Master P)            │\n",
       "│ 191671 ┆ 1997-05-31 ┆ 85       ┆ No One But You (From \"Baps\")                ┆ Veronica (Featuring Craig Mack)                   │\n",
       "│ 147979 ┆ 1988-10-01 ┆ 93       ┆ Spy In The House Of Love                    ┆ Was (Not Was)                                     │\n",
       "│ 7199   ┆ 1961-05-13 ┆ 100      ┆ Here's My Confession                        ┆ Wyatt (Earp) McPherson                            │\n",
       "└────────┴────────────┴──────────┴─────────────────────────────────────────────┴───────────────────────────────────────────────────┘"
      ]
     },
     "execution_count": 76,
     "metadata": {},
     "output_type": "execute_result"
    }
   ],
   "source": [
    "edge_df.sort(by=\"artist\")"
   ]
  },
  {
   "cell_type": "code",
   "execution_count": 78,
   "id": "12922ccf",
   "metadata": {},
   "outputs": [],
   "source": [
    "stripped_df = edge_df.with_columns(\n",
    "    pl.col(\"artist\").str.replace_all(r\"[()]\", \"\").alias(\"stripped\")\n",
    ")"
   ]
  },
  {
   "cell_type": "code",
   "execution_count": null,
   "id": "85230ac4",
   "metadata": {},
   "outputs": [
    {
     "data": {
      "text/html": [
       "<div><style>\n",
       ".dataframe > thead > tr,\n",
       ".dataframe > tbody > tr {\n",
       "  text-align: right;\n",
       "  white-space: pre-wrap;\n",
       "}\n",
       "</style>\n",
       "<small>shape: (91, 6)</small><table border=\"1\" class=\"dataframe\"><thead><tr><th>id</th><th>date</th><th>position</th><th>song</th><th>artist</th><th>stripped</th></tr><tr><td>u32</td><td>date</td><td>u8</td><td>str</td><td>str</td><td>str</td></tr></thead><tbody><tr><td>177861</td><td>1994-10-08</td><td>75</td><td>&quot;U Will Know (From &quot;Jason&#x27;s Lyric&quot;)&quot;</td><td>&quot;B.M.U. (Black Men United)&quot;</td><td>&quot;B.M.U. Black Men United&quot;</td></tr><tr><td>184972</td><td>1996-02-17</td><td>86</td><td>&quot;Microphone Master&quot;</td><td>&quot;Das EFX (Featuring Mobb Deep)&quot;</td><td>&quot;Das EFX Featuring Mobb Deep&quot;</td></tr><tr><td>193254</td><td>1997-09-20</td><td>68</td><td>&quot;Avenues&quot;</td><td>&quot;Refugee Camp All Stars Featuring Pras (With Ky-mani)&quot;</td><td>&quot;Refugee Camp All Stars Featuring Pras With Ky-mani&quot;</td></tr><tr><td>167672</td><td>1992-10-24</td><td>86</td><td>&quot;Slow And Sexy&quot;</td><td>&quot;Shabba Ranks (Featuring Johnny Gill)&quot;</td><td>&quot;Shabba Ranks Featuring Johnny Gill&quot;</td></tr><tr><td>197852</td><td>1998-08-08</td><td>66</td><td>&quot;It&#x27;s Alright&quot;</td><td>&quot;Memphis Bleek (&amp; Jay-Z)&quot;</td><td>&quot;Memphis Bleek &amp; Jay-Z&quot;</td></tr><tr><td>84183</td><td>1976-03-06</td><td>84</td><td>&quot;Street Talk&quot;</td><td>&quot;B.C.G. (B.C. Generation)&quot;</td><td>&quot;B.C.G. B.C. Generation&quot;</td></tr><tr><td>246247</td><td>2008-03-15</td><td>61</td><td>&quot;Falling Slowly&quot;</td><td>&quot;The Swell Season (Glen Hansard &amp; Marketa Irglova)&quot;</td><td>&quot;The Swell Season Glen Hansard &amp; Marketa Irglova&quot;</td></tr><tr><td>194779</td><td>1998-01-03</td><td>93</td><td>&quot;What If I Said&quot;</td><td>&quot;Anita Cochran (Duet With Steve Wariner)&quot;</td><td>&quot;Anita Cochran Duet With Steve Wariner&quot;</td></tr><tr><td>116974</td><td>1982-08-28</td><td>88</td><td>&quot;Ain&#x27;t Nothing Like The Real Thing/You&#x27;re All I Need To Get By&quot;</td><td>&quot;Chris Christian (with Amy Holland)&quot;</td><td>&quot;Chris Christian with Amy Holland&quot;</td></tr><tr><td>181558</td><td>1995-06-24</td><td>72</td><td>&quot;Sprinkle Me&quot;</td><td>&quot;E-40 (Featuring Suga T)&quot;</td><td>&quot;E-40 Featuring Suga T&quot;</td></tr><tr><td>&hellip;</td><td>&hellip;</td><td>&hellip;</td><td>&hellip;</td><td>&hellip;</td><td>&hellip;</td></tr><tr><td>140277</td><td>1987-02-21</td><td>91</td><td>&quot;Light Of Day&quot;</td><td>&quot;The Barbusters (Joan Jett And The Blackhearts)&quot;</td><td>&quot;The Barbusters Joan Jett And The Blackhearts&quot;</td></tr><tr><td>315436</td><td>2022-04-02</td><td>50</td><td>&quot;Nobody Like U&quot;</td><td>&quot;4*TOWN (From Disney And Pixar&#x27;s Turning Red)&quot;</td><td>&quot;4*TOWN From Disney And Pixar&#x27;s Turning Red&quot;</td></tr><tr><td>177977</td><td>1994-10-15</td><td>91</td><td>&quot;Get Up On It&quot;</td><td>&quot;Keith Sweat (Featuring Kut Klose)&quot;</td><td>&quot;Keith Sweat Featuring Kut Klose&quot;</td></tr><tr><td>144268</td><td>1987-12-19</td><td>82</td><td>&quot;Dear Mr. Jesus&quot;</td><td>&quot;Powersource (Solo...Sharon)&quot;</td><td>&quot;Powersource Solo...Sharon&quot;</td></tr><tr><td>19374</td><td>1963-09-14</td><td>75</td><td>&quot;Donna The Prima Donna&quot;</td><td>&quot;Dion (Di Muci)&quot;</td><td>&quot;Dion Di Muci&quot;</td></tr><tr><td>60796</td><td>1971-08-28</td><td>97</td><td>&quot;Hijackin&#x27; Love&quot;</td><td>&quot;Johnnie Taylor (The Soul Philosopher)&quot;</td><td>&quot;Johnnie Taylor The Soul Philosopher&quot;</td></tr><tr><td>34874</td><td>1966-09-03</td><td>75</td><td>&quot;96 Tears&quot;</td><td>&quot;? (Question Mark) &amp; The Mysterians&quot;</td><td>&quot;? Question Mark &amp; The Mysterians&quot;</td></tr><tr><td>64393</td><td>1972-05-06</td><td>94</td><td>&quot;Woman&#x27;s Gotta Have It&quot;</td><td>&quot;(The Preacher) Bobby Womack&quot;</td><td>&quot;The Preacher Bobby Womack&quot;</td></tr><tr><td>84781</td><td>1976-04-17</td><td>82</td><td>&quot;Get Closer&quot;</td><td>&quot;Seals &amp; Crofts (Featuring Carolyn Willis)&quot;</td><td>&quot;Seals &amp; Crofts Featuring Carolyn Willis&quot;</td></tr><tr><td>55358</td><td>1970-08-15</td><td>59</td><td>&quot;Rubber Duckie&quot;</td><td>&quot;Ernie (Jim Henson)&quot;</td><td>&quot;Ernie Jim Henson&quot;</td></tr></tbody></table></div>"
      ],
      "text/plain": [
       "shape: (91, 6)\n",
       "┌────────┬────────────┬──────────┬───────────────────────────────────────────────────────────────┬──────────────────────────────────────────────────────┬────────────────────────────────────────────────────┐\n",
       "│ id     ┆ date       ┆ position ┆ song                                                          ┆ artist                                               ┆ stripped                                           │\n",
       "│ ---    ┆ ---        ┆ ---      ┆ ---                                                           ┆ ---                                                  ┆ ---                                                │\n",
       "│ u32    ┆ date       ┆ u8       ┆ str                                                           ┆ str                                                  ┆ str                                                │\n",
       "╞════════╪════════════╪══════════╪═══════════════════════════════════════════════════════════════╪══════════════════════════════════════════════════════╪════════════════════════════════════════════════════╡\n",
       "│ 177861 ┆ 1994-10-08 ┆ 75       ┆ U Will Know (From \"Jason's Lyric\")                            ┆ B.M.U. (Black Men United)                            ┆ B.M.U. Black Men United                            │\n",
       "│ 184972 ┆ 1996-02-17 ┆ 86       ┆ Microphone Master                                             ┆ Das EFX (Featuring Mobb Deep)                        ┆ Das EFX Featuring Mobb Deep                        │\n",
       "│ 193254 ┆ 1997-09-20 ┆ 68       ┆ Avenues                                                       ┆ Refugee Camp All Stars Featuring Pras (With Ky-mani) ┆ Refugee Camp All Stars Featuring Pras With Ky-mani │\n",
       "│ 167672 ┆ 1992-10-24 ┆ 86       ┆ Slow And Sexy                                                 ┆ Shabba Ranks (Featuring Johnny Gill)                 ┆ Shabba Ranks Featuring Johnny Gill                 │\n",
       "│ 197852 ┆ 1998-08-08 ┆ 66       ┆ It's Alright                                                  ┆ Memphis Bleek (& Jay-Z)                              ┆ Memphis Bleek & Jay-Z                              │\n",
       "│ 84183  ┆ 1976-03-06 ┆ 84       ┆ Street Talk                                                   ┆ B.C.G. (B.C. Generation)                             ┆ B.C.G. B.C. Generation                             │\n",
       "│ 246247 ┆ 2008-03-15 ┆ 61       ┆ Falling Slowly                                                ┆ The Swell Season (Glen Hansard & Marketa Irglova)    ┆ The Swell Season Glen Hansard & Marketa Irglova    │\n",
       "│ 194779 ┆ 1998-01-03 ┆ 93       ┆ What If I Said                                                ┆ Anita Cochran (Duet With Steve Wariner)              ┆ Anita Cochran Duet With Steve Wariner              │\n",
       "│ 116974 ┆ 1982-08-28 ┆ 88       ┆ Ain't Nothing Like The Real Thing/You're All I Need To Get By ┆ Chris Christian (with Amy Holland)                   ┆ Chris Christian with Amy Holland                   │\n",
       "│ 181558 ┆ 1995-06-24 ┆ 72       ┆ Sprinkle Me                                                   ┆ E-40 (Featuring Suga T)                              ┆ E-40 Featuring Suga T                              │\n",
       "│ …      ┆ …          ┆ …        ┆ …                                                             ┆ …                                                    ┆ …                                                  │\n",
       "│ 140277 ┆ 1987-02-21 ┆ 91       ┆ Light Of Day                                                  ┆ The Barbusters (Joan Jett And The Blackhearts)       ┆ The Barbusters Joan Jett And The Blackhearts       │\n",
       "│ 315436 ┆ 2022-04-02 ┆ 50       ┆ Nobody Like U                                                 ┆ 4*TOWN (From Disney And Pixar's Turning Red)         ┆ 4*TOWN From Disney And Pixar's Turning Red         │\n",
       "│ 177977 ┆ 1994-10-15 ┆ 91       ┆ Get Up On It                                                  ┆ Keith Sweat (Featuring Kut Klose)                    ┆ Keith Sweat Featuring Kut Klose                    │\n",
       "│ 144268 ┆ 1987-12-19 ┆ 82       ┆ Dear Mr. Jesus                                                ┆ Powersource (Solo...Sharon)                          ┆ Powersource Solo...Sharon                          │\n",
       "│ 19374  ┆ 1963-09-14 ┆ 75       ┆ Donna The Prima Donna                                         ┆ Dion (Di Muci)                                       ┆ Dion Di Muci                                       │\n",
       "│ 60796  ┆ 1971-08-28 ┆ 97       ┆ Hijackin' Love                                                ┆ Johnnie Taylor (The Soul Philosopher)                ┆ Johnnie Taylor The Soul Philosopher                │\n",
       "│ 34874  ┆ 1966-09-03 ┆ 75       ┆ 96 Tears                                                      ┆ ? (Question Mark) & The Mysterians                   ┆ ? Question Mark & The Mysterians                   │\n",
       "│ 64393  ┆ 1972-05-06 ┆ 94       ┆ Woman's Gotta Have It                                         ┆ (The Preacher) Bobby Womack                          ┆ The Preacher Bobby Womack                          │\n",
       "│ 84781  ┆ 1976-04-17 ┆ 82       ┆ Get Closer                                                    ┆ Seals & Crofts (Featuring Carolyn Willis)            ┆ Seals & Crofts Featuring Carolyn Willis            │\n",
       "│ 55358  ┆ 1970-08-15 ┆ 59       ┆ Rubber Duckie                                                 ┆ Ernie (Jim Henson)                                   ┆ Ernie Jim Henson                                   │\n",
       "└────────┴────────────┴──────────┴───────────────────────────────────────────────────────────────┴──────────────────────────────────────────────────────┴────────────────────────────────────────────────────┘"
      ]
     },
     "execution_count": 79,
     "metadata": {},
     "output_type": "execute_result"
    }
   ],
   "source": [
    "stripped_df"
   ]
  },
  {
   "cell_type": "code",
   "execution_count": 159,
   "id": "e2bbd9b3",
   "metadata": {},
   "outputs": [],
   "source": [
    "df: pl.DataFrame = clean(pl.read_json(\"../data/records05-29_23-57.json\"))"
   ]
  },
  {
   "cell_type": "code",
   "execution_count": 83,
   "id": "f621a321",
   "metadata": {},
   "outputs": [],
   "source": [
    "edge_df2 = df.filter(\n",
    "    pl.col(\"artist\").str.contains(r\"(?i)(His Orchestra)|(\\sand\\s)\")\n",
    ")"
   ]
  },
  {
   "cell_type": "code",
   "execution_count": null,
   "id": "1547b6de",
   "metadata": {},
   "outputs": [],
   "source": [
    "no_split_words = [r\"(?i)(his)|(the)|(her)\"]\n",
    "# don't have to worry about \"and\"\n",
    "edge_df2 "
   ]
  },
  {
   "cell_type": "code",
   "execution_count": 192,
   "id": "276263ad",
   "metadata": {},
   "outputs": [],
   "source": [
    "def replace_fn(df: pl.LazyFrame):\n",
    "    return df.unique(subset=[\"song\", \"artist\"]).with_columns(\n",
    "        song=pl.col(\"song\"),\n",
    "        artist=pl.col(\"artist\").str.replace_all(r\"[()]\", \"\").str.replace(\"Duet With\", \"&\")\n",
    ")"
   ]
  },
  {
   "cell_type": "code",
   "execution_count": 181,
   "id": "4f446af7",
   "metadata": {},
   "outputs": [],
   "source": [
    "def split_features(df: pl.LazyFrame):\n",
    "    split_pattern: str = r\"(?i)(\\sfeat\\.*[a-z]*\\s)|(\\swith\\s)\"\n",
    "    new_uniform_seperator: str = \"-\"\n",
    "    maindf = df.select(\n",
    "        song=pl.col(\"song\"),\n",
    "        artist=pl.col(\"artist\")\n",
    "        .str.replace(split_pattern, new_uniform_seperator)\n",
    "        .str.split_exact(new_uniform_seperator, 1)\n",
    "        .struct[0],\n",
    "        role=pl.lit(\"main\"),\n",
    "    ).drop_nulls()\n",
    "    featdf = df.select(\n",
    "        song=pl.col(\"song\"),\n",
    "        artist=pl.col(\"artist\")\n",
    "        .str.replace(split_pattern, new_uniform_seperator)\n",
    "        .str.split_exact(new_uniform_seperator, 1)\n",
    "        .struct[1],\n",
    "        role=pl.lit(\"featured\"),\n",
    "    ).drop_nulls()\n",
    "    junction_df = pl.concat([maindf, featdf])\n",
    "    return junction_df"
   ]
  },
  {
   "cell_type": "code",
   "execution_count": 195,
   "id": "c14f3ce4",
   "metadata": {},
   "outputs": [],
   "source": [
    "def split_artists(df: pl.LazyFrame):\n",
    "    band_name_exclusion: str = r\"(?i)&\\s(the|his|her|original)(.*)\"\n",
    "    band_name_sub: str = r\"and $1$2\"\n",
    "    seperator_sub: str = r\"(?i)(\\s*[&/+,]\\s*)|(x\\s)\"\n",
    "    new_uniform_seperator: str = \"!~!\"\n",
    "    transformed_df = df.select(\n",
    "        song=pl.col(\"song\"),\n",
    "        artist=pl.col(\"artist\")\n",
    "        .str.replace_all(band_name_exclusion, band_name_sub)\n",
    "        .str.replace_all(seperator_sub, new_uniform_seperator)\n",
    "        .str.split(new_uniform_seperator).list.eval(pl.element().str.strip_chars()),\n",
    "        role=pl.col(\"role\")\n",
    "    ).explode([\"artist\"])\n",
    "    return transformed_df.collect()"
   ]
  },
  {
   "cell_type": "code",
   "execution_count": 196,
   "id": "327636ba",
   "metadata": {},
   "outputs": [],
   "source": [
    "df1 = replace_fn(df.lazy())\n",
    "df2 = split_features(df1)\n",
    "df3 = split_artists(df2)"
   ]
  },
  {
   "cell_type": "code",
   "execution_count": 197,
   "id": "84ed2ba6",
   "metadata": {},
   "outputs": [
    {
     "data": {
      "text/html": [
       "<div><style>\n",
       ".dataframe > thead > tr,\n",
       ".dataframe > tbody > tr {\n",
       "  text-align: right;\n",
       "  white-space: pre-wrap;\n",
       "}\n",
       "</style>\n",
       "<small>shape: (37_890, 3)</small><table border=\"1\" class=\"dataframe\"><thead><tr><th>song</th><th>artist</th><th>role</th></tr><tr><td>str</td><td>str</td><td>str</td></tr></thead><tbody><tr><td>&quot;All Star&quot;</td><td>&quot;Smash Mouth&quot;</td><td>&quot;main&quot;</td></tr><tr><td>&quot;I&#x27;ll Walk&quot;</td><td>&quot;Bucky Covington&quot;</td><td>&quot;main&quot;</td></tr><tr><td>&quot;Sunday Sun&quot;</td><td>&quot;Neil Diamond&quot;</td><td>&quot;main&quot;</td></tr><tr><td>&quot;Good Morning Heartache&quot;</td><td>&quot;Diana Ross&quot;</td><td>&quot;main&quot;</td></tr><tr><td>&quot;Stronger Woman&quot;</td><td>&quot;Jewel&quot;</td><td>&quot;main&quot;</td></tr><tr><td>&quot;It&#x27;s Just The Sun&quot;</td><td>&quot;Don McLean&quot;</td><td>&quot;main&quot;</td></tr><tr><td>&quot;Youth Of The Nation&quot;</td><td>&quot;P.O.D.&quot;</td><td>&quot;main&quot;</td></tr><tr><td>&quot;Sober Saturday Night&quot;</td><td>&quot;Chris Young&quot;</td><td>&quot;main&quot;</td></tr><tr><td>&quot;Fortuneteller&quot;</td><td>&quot;Bobby Curtola&quot;</td><td>&quot;main&quot;</td></tr><tr><td>&quot;Just Another Night&quot;</td><td>&quot;Mick Jagger&quot;</td><td>&quot;main&quot;</td></tr><tr><td>&quot;Ay Chico (Lengua Afuera)&quot;</td><td>&quot;Pitbull&quot;</td><td>&quot;main&quot;</td></tr><tr><td>&quot;I Know Somebody&quot;</td><td>&quot;LOCASH&quot;</td><td>&quot;main&quot;</td></tr><tr><td>&quot;Superman (Taylor&#x27;s Version)&quot;</td><td>&quot;Taylor Swift&quot;</td><td>&quot;main&quot;</td></tr><tr><td>&quot;Stranger&quot;</td><td>&quot;Hilary Duff&quot;</td><td>&quot;main&quot;</td></tr><tr><td>&quot;My Girl (Gone, Gone, Gone)&quot;</td><td>&quot;Chilliwack&quot;</td><td>&quot;main&quot;</td></tr><tr><td>&quot;Girls Can&#x27;t Do What The Guys Do&quot;</td><td>&quot;Betty Wright&quot;</td><td>&quot;main&quot;</td></tr><tr><td>&quot;Shaq &amp; Kobe&quot;</td><td>&quot;Rick Ross&quot;</td><td>&quot;main&quot;</td></tr><tr><td>&quot;Shaq &amp; Kobe&quot;</td><td>&quot;Meek Mill&quot;</td><td>&quot;main&quot;</td></tr><tr><td>&quot;Like You&quot;</td><td>&quot;Bow Wow&quot;</td><td>&quot;main&quot;</td></tr><tr><td>&quot;Tough All Over&quot;</td><td>&quot;John Cafferty and The Beaver Brown Band&quot;</td><td>&quot;main&quot;</td></tr><tr><td>&quot;Counting Stars&quot;</td><td>&quot;OneRepublic&quot;</td><td>&quot;main&quot;</td></tr><tr><td>&quot;Tried Our Best&quot;</td><td>&quot;Drake&quot;</td><td>&quot;main&quot;</td></tr><tr><td>&quot;Vaya Con Dios&quot;</td><td>&quot;The Drifters&quot;</td><td>&quot;main&quot;</td></tr><tr><td>&quot;Whatchulookinat&quot;</td><td>&quot;Whitney Houston&quot;</td><td>&quot;main&quot;</td></tr><tr><td>&quot;Baby Don&#x27;t Cry (Keep Ya Head Up II)&quot;</td><td>&quot;2Pac&quot;</td><td>&quot;main&quot;</td></tr><tr><td>&quot;Baby Don&#x27;t Cry (Keep Ya Head Up II)&quot;</td><td>&quot;Outlawz&quot;</td><td>&quot;main&quot;</td></tr><tr><td>&quot;Lucky In Love&quot;</td><td>&quot;Mick Jagger&quot;</td><td>&quot;main&quot;</td></tr><tr><td>&quot;Ain&#x27;t Nobody/Kissing You&quot;</td><td>&quot;Faith Evans&quot;</td><td>&quot;main&quot;</td></tr><tr><td>&quot;Simple Man&quot;</td><td>&quot;Sawyer Fredericks&quot;</td><td>&quot;main&quot;</td></tr><tr><td>&quot;HeadBand&quot;</td><td>&quot;B.o.B&quot;</td><td>&quot;main&quot;</td></tr><tr><td>&quot;I Got The Boy&quot;</td><td>&quot;Jana Kramer&quot;</td><td>&quot;main&quot;</td></tr><tr><td>&quot;It&#x27;s A Long Way There&quot;</td><td>&quot;Little River Band&quot;</td><td>&quot;main&quot;</td></tr><tr><td>&quot;Honey, I&#x27;m Good.&quot;</td><td>&quot;Andy Grammer&quot;</td><td>&quot;main&quot;</td></tr><tr><td>&quot;It&#x27;s For You&quot;</td><td>&quot;Player&quot;</td><td>&quot;main&quot;</td></tr><tr><td>&quot;Hot&quot;</td><td>&quot;Young Thug&quot;</td><td>&quot;main&quot;</td></tr><tr><td>&quot;Buy Dirt&quot;</td><td>&quot;Jordan Davis&quot;</td><td>&quot;main&quot;</td></tr><tr><td>&quot;Fly&quot;</td><td>&quot;Nicki Minaj&quot;</td><td>&quot;main&quot;</td></tr><tr><td>&quot;You To Me Are Everything&quot;</td><td>&quot;Broadway&quot;</td><td>&quot;main&quot;</td></tr><tr><td>&quot;Buy Me A Boat&quot;</td><td>&quot;Chris Janson&quot;</td><td>&quot;main&quot;</td></tr><tr><td>&quot;Sacrifice&quot;</td><td>&quot;The Weeknd&quot;</td><td>&quot;main&quot;</td></tr><tr><td>&quot;Brenda&quot;</td><td>&quot;The Cupids&quot;</td><td>&quot;main&quot;</td></tr><tr><td>&quot;Running&quot;</td><td>&quot;No Doubt&quot;</td><td>&quot;main&quot;</td></tr><tr><td>&quot;Ella Baila Sola&quot;</td><td>&quot;Eslabon Armado&quot;</td><td>&quot;main&quot;</td></tr><tr><td>&quot;Ella Baila Sola&quot;</td><td>&quot;Peso Pluma&quot;</td><td>&quot;main&quot;</td></tr><tr><td>&quot;Now Or Never&quot;</td><td>&quot;High School Musical 3 Cast&quot;</td><td>&quot;main&quot;</td></tr><tr><td>&quot;Natural&quot;</td><td>&quot;Imagine Dragons&quot;</td><td>&quot;main&quot;</td></tr><tr><td>&quot;Unsquare Dance&quot;</td><td>&quot;The Dave Brubeck Quartet&quot;</td><td>&quot;main&quot;</td></tr><tr><td>&quot;Mama (He Treats Your Daughter Mean)&quot;</td><td>&quot;Ruth Brown&quot;</td><td>&quot;main&quot;</td></tr><tr><td>&quot;Woman Like That, Yeah&quot;</td><td>&quot;Joe Tex&quot;</td><td>&quot;main&quot;</td></tr><tr><td>&quot;The Look Of Love&quot;</td><td>&quot;Sergio Mendes&quot;</td><td>&quot;main&quot;</td></tr><tr><td>&hellip;</td><td>&hellip;</td><td>&hellip;</td></tr><tr><td>&quot;I&#x27;ll Be Around&quot;</td><td>&quot;Tay&quot;</td><td>&quot;featured&quot;</td></tr><tr><td>&quot;Racks&quot;</td><td>&quot;Future&quot;</td><td>&quot;featured&quot;</td></tr><tr><td>&quot;Yah Mo B There&quot;</td><td>&quot;Michael McDonald&quot;</td><td>&quot;featured&quot;</td></tr><tr><td>&quot;Feels&quot;</td><td>&quot;Pharrell Williams&quot;</td><td>&quot;featured&quot;</td></tr><tr><td>&quot;Feels&quot;</td><td>&quot;Katy Perry&quot;</td><td>&quot;featured&quot;</td></tr><tr><td>&quot;Feels&quot;</td><td>&quot;Big Sean&quot;</td><td>&quot;featured&quot;</td></tr><tr><td>&quot;Playaz Club&quot;</td><td>&quot;Tay&quot;</td><td>&quot;featured&quot;</td></tr><tr><td>&quot;Left And Right&quot;</td><td>&quot;Jung Kook&quot;</td><td>&quot;featured&quot;</td></tr><tr><td>&quot;Winner&quot;</td><td>&quot;Justin Timberlake&quot;</td><td>&quot;featured&quot;</td></tr><tr><td>&quot;Winner&quot;</td><td>&quot;T .I.&quot;</td><td>&quot;featured&quot;</td></tr><tr><td>&quot;Hillbilly Bone&quot;</td><td>&quot;Trace Adkins&quot;</td><td>&quot;featured&quot;</td></tr><tr><td>&quot;Get Crunked Up&quot;</td><td>&quot;Tony Manshino&quot;</td><td>&quot;featured&quot;</td></tr><tr><td>&quot;Budget&quot;</td><td>&quot;Latto&quot;</td><td>&quot;featured&quot;</td></tr><tr><td>&quot;The Take&quot;</td><td>&quot;Chris Brown&quot;</td><td>&quot;featured&quot;</td></tr><tr><td>&quot;Preach&quot;</td><td>&quot;PARTYNEXTDOOR&quot;</td><td>&quot;featured&quot;</td></tr><tr><td>&quot;Freeze&quot;</td><td>&quot;Pain&quot;</td><td>&quot;featured&quot;</td></tr><tr><td>&quot;I Honestly Love You&quot;</td><td>&quot;John&quot;</td><td>&quot;featured&quot;</td></tr><tr><td>&quot;Despacito&quot;</td><td>&quot;Justin Bieber&quot;</td><td>&quot;featured&quot;</td></tr><tr><td>&quot;Wit Da Racks&quot;</td><td>&quot;21 Savage&quot;</td><td>&quot;featured&quot;</td></tr><tr><td>&quot;Wit Da Racks&quot;</td><td>&quot;Travis Scott&quot;</td><td>&quot;featured&quot;</td></tr><tr><td>&quot;Wit Da Racks&quot;</td><td>&quot;Yak Gotti&quot;</td><td>&quot;featured&quot;</td></tr><tr><td>&quot;The Way That You Talk&quot;</td><td>&quot;Da Brat&quot;</td><td>&quot;featured&quot;</td></tr><tr><td>&quot;The Way That You Talk&quot;</td><td>&quot;JD&quot;</td><td>&quot;featured&quot;</td></tr><tr><td>&quot;Side Effects&quot;</td><td>&quot;Emily Warren&quot;</td><td>&quot;featured&quot;</td></tr><tr><td>&quot;Make Me Proud&quot;</td><td>&quot;Nicki Minaj&quot;</td><td>&quot;featured&quot;</td></tr><tr><td>&quot;You Gon&#x27; Learn&quot;</td><td>&quot;Royce da 5&#x27;9&quot;&quot;</td><td>&quot;featured&quot;</td></tr><tr><td>&quot;You Gon&#x27; Learn&quot;</td><td>&quot;White Gold&quot;</td><td>&quot;featured&quot;</td></tr><tr><td>&quot;Big Time&quot;</td><td>&quot;Future&quot;</td><td>&quot;featured&quot;</td></tr><tr><td>&quot;Big Time&quot;</td><td>&quot;Lil Baby&quot;</td><td>&quot;featured&quot;</td></tr><tr><td>&quot;She&#x27;s Like The Wind&quot;</td><td>&quot;Tony Sunshine&quot;</td><td>&quot;featured&quot;</td></tr><tr><td>&quot;U.O.E.N.O.&quot;</td><td>&quot;Future&quot;</td><td>&quot;featured&quot;</td></tr><tr><td>&quot;U.O.E.N.O.&quot;</td><td>&quot;Rick Ross&quot;</td><td>&quot;featured&quot;</td></tr><tr><td>&quot;Anything That&#x27;s Part Of You&quot;</td><td>&quot;The Jordanaires&quot;</td><td>&quot;featured&quot;</td></tr><tr><td>&quot;Soon You&#x27;ll Get Better&quot;</td><td>&quot;Dixie Chicks&quot;</td><td>&quot;featured&quot;</td></tr><tr><td>&quot;At Midnight (My Love Will Lift You Up)&quot;</td><td>&quot;Chaka Khan&quot;</td><td>&quot;featured&quot;</td></tr><tr><td>&quot;Best Friend&quot;</td><td>&quot;Mario Winans&quot;</td><td>&quot;featured&quot;</td></tr><tr><td>&quot;Best Friend&quot;</td><td>&quot;Hezekiah Walker and The Love Fe&quot;</td><td>&quot;featured&quot;</td></tr><tr><td>&quot;Know No Better&quot;</td><td>&quot;Travis Scott&quot;</td><td>&quot;featured&quot;</td></tr><tr><td>&quot;Know No Better&quot;</td><td>&quot;Camila Cabello&quot;</td><td>&quot;featured&quot;</td></tr><tr><td>&quot;Know No Better&quot;</td><td>&quot;Quavo&quot;</td><td>&quot;featured&quot;</td></tr><tr><td>&quot;Random&quot;</td><td>&quot;Eazy&quot;</td><td>&quot;featured&quot;</td></tr><tr><td>&quot;Believe&quot;</td><td>&quot;Justin Timberlake&quot;</td><td>&quot;featured&quot;</td></tr><tr><td>&quot;Thankful&quot;</td><td>&quot;Lil Wayne&quot;</td><td>&quot;featured&quot;</td></tr><tr><td>&quot;Thankful&quot;</td><td>&quot;Jeremih&quot;</td><td>&quot;featured&quot;</td></tr><tr><td>&quot;A Long Time, A Long Way To Go&quot;</td><td>&quot;Todd Rundgren&quot;</td><td>&quot;featured&quot;</td></tr><tr><td>&quot;Rain Over Me&quot;</td><td>&quot;Marc Anthony&quot;</td><td>&quot;featured&quot;</td></tr><tr><td>&quot;Lemonade&quot;</td><td>&quot;Don Toliver&quot;</td><td>&quot;featured&quot;</td></tr><tr><td>&quot;Lemonade&quot;</td><td>&quot;NAV&quot;</td><td>&quot;featured&quot;</td></tr><tr><td>&quot;Switches &amp; Dracs&quot;</td><td>&quot;Lil Durk&quot;</td><td>&quot;featured&quot;</td></tr><tr><td>&quot;Switches &amp; Dracs&quot;</td><td>&quot;EST Gee&quot;</td><td>&quot;featured&quot;</td></tr></tbody></table></div>"
      ],
      "text/plain": [
       "shape: (37_890, 3)\n",
       "┌────────────────────────────────────────┬─────────────────────────────────────────┬──────────┐\n",
       "│ song                                   ┆ artist                                  ┆ role     │\n",
       "│ ---                                    ┆ ---                                     ┆ ---      │\n",
       "│ str                                    ┆ str                                     ┆ str      │\n",
       "╞════════════════════════════════════════╪═════════════════════════════════════════╪══════════╡\n",
       "│ All Star                               ┆ Smash Mouth                             ┆ main     │\n",
       "│ I'll Walk                              ┆ Bucky Covington                         ┆ main     │\n",
       "│ Sunday Sun                             ┆ Neil Diamond                            ┆ main     │\n",
       "│ Good Morning Heartache                 ┆ Diana Ross                              ┆ main     │\n",
       "│ Stronger Woman                         ┆ Jewel                                   ┆ main     │\n",
       "│ It's Just The Sun                      ┆ Don McLean                              ┆ main     │\n",
       "│ Youth Of The Nation                    ┆ P.O.D.                                  ┆ main     │\n",
       "│ Sober Saturday Night                   ┆ Chris Young                             ┆ main     │\n",
       "│ Fortuneteller                          ┆ Bobby Curtola                           ┆ main     │\n",
       "│ Just Another Night                     ┆ Mick Jagger                             ┆ main     │\n",
       "│ Ay Chico (Lengua Afuera)               ┆ Pitbull                                 ┆ main     │\n",
       "│ I Know Somebody                        ┆ LOCASH                                  ┆ main     │\n",
       "│ Superman (Taylor's Version)            ┆ Taylor Swift                            ┆ main     │\n",
       "│ Stranger                               ┆ Hilary Duff                             ┆ main     │\n",
       "│ My Girl (Gone, Gone, Gone)             ┆ Chilliwack                              ┆ main     │\n",
       "│ Girls Can't Do What The Guys Do        ┆ Betty Wright                            ┆ main     │\n",
       "│ Shaq & Kobe                            ┆ Rick Ross                               ┆ main     │\n",
       "│ Shaq & Kobe                            ┆ Meek Mill                               ┆ main     │\n",
       "│ Like You                               ┆ Bow Wow                                 ┆ main     │\n",
       "│ Tough All Over                         ┆ John Cafferty and The Beaver Brown Band ┆ main     │\n",
       "│ Counting Stars                         ┆ OneRepublic                             ┆ main     │\n",
       "│ Tried Our Best                         ┆ Drake                                   ┆ main     │\n",
       "│ Vaya Con Dios                          ┆ The Drifters                            ┆ main     │\n",
       "│ Whatchulookinat                        ┆ Whitney Houston                         ┆ main     │\n",
       "│ Baby Don't Cry (Keep Ya Head Up II)    ┆ 2Pac                                    ┆ main     │\n",
       "│ Baby Don't Cry (Keep Ya Head Up II)    ┆ Outlawz                                 ┆ main     │\n",
       "│ Lucky In Love                          ┆ Mick Jagger                             ┆ main     │\n",
       "│ Ain't Nobody/Kissing You               ┆ Faith Evans                             ┆ main     │\n",
       "│ Simple Man                             ┆ Sawyer Fredericks                       ┆ main     │\n",
       "│ HeadBand                               ┆ B.o.B                                   ┆ main     │\n",
       "│ I Got The Boy                          ┆ Jana Kramer                             ┆ main     │\n",
       "│ It's A Long Way There                  ┆ Little River Band                       ┆ main     │\n",
       "│ Honey, I'm Good.                       ┆ Andy Grammer                            ┆ main     │\n",
       "│ It's For You                           ┆ Player                                  ┆ main     │\n",
       "│ Hot                                    ┆ Young Thug                              ┆ main     │\n",
       "│ Buy Dirt                               ┆ Jordan Davis                            ┆ main     │\n",
       "│ Fly                                    ┆ Nicki Minaj                             ┆ main     │\n",
       "│ You To Me Are Everything               ┆ Broadway                                ┆ main     │\n",
       "│ Buy Me A Boat                          ┆ Chris Janson                            ┆ main     │\n",
       "│ Sacrifice                              ┆ The Weeknd                              ┆ main     │\n",
       "│ Brenda                                 ┆ The Cupids                              ┆ main     │\n",
       "│ Running                                ┆ No Doubt                                ┆ main     │\n",
       "│ Ella Baila Sola                        ┆ Eslabon Armado                          ┆ main     │\n",
       "│ Ella Baila Sola                        ┆ Peso Pluma                              ┆ main     │\n",
       "│ Now Or Never                           ┆ High School Musical 3 Cast              ┆ main     │\n",
       "│ Natural                                ┆ Imagine Dragons                         ┆ main     │\n",
       "│ Unsquare Dance                         ┆ The Dave Brubeck Quartet                ┆ main     │\n",
       "│ Mama (He Treats Your Daughter Mean)    ┆ Ruth Brown                              ┆ main     │\n",
       "│ Woman Like That, Yeah                  ┆ Joe Tex                                 ┆ main     │\n",
       "│ The Look Of Love                       ┆ Sergio Mendes                           ┆ main     │\n",
       "│ …                                      ┆ …                                       ┆ …        │\n",
       "│ I'll Be Around                         ┆ Tay                                     ┆ featured │\n",
       "│ Racks                                  ┆ Future                                  ┆ featured │\n",
       "│ Yah Mo B There                         ┆ Michael McDonald                        ┆ featured │\n",
       "│ Feels                                  ┆ Pharrell Williams                       ┆ featured │\n",
       "│ Feels                                  ┆ Katy Perry                              ┆ featured │\n",
       "│ Feels                                  ┆ Big Sean                                ┆ featured │\n",
       "│ Playaz Club                            ┆ Tay                                     ┆ featured │\n",
       "│ Left And Right                         ┆ Jung Kook                               ┆ featured │\n",
       "│ Winner                                 ┆ Justin Timberlake                       ┆ featured │\n",
       "│ Winner                                 ┆ T .I.                                   ┆ featured │\n",
       "│ Hillbilly Bone                         ┆ Trace Adkins                            ┆ featured │\n",
       "│ Get Crunked Up                         ┆ Tony Manshino                           ┆ featured │\n",
       "│ Budget                                 ┆ Latto                                   ┆ featured │\n",
       "│ The Take                               ┆ Chris Brown                             ┆ featured │\n",
       "│ Preach                                 ┆ PARTYNEXTDOOR                           ┆ featured │\n",
       "│ Freeze                                 ┆ Pain                                    ┆ featured │\n",
       "│ I Honestly Love You                    ┆ John                                    ┆ featured │\n",
       "│ Despacito                              ┆ Justin Bieber                           ┆ featured │\n",
       "│ Wit Da Racks                           ┆ 21 Savage                               ┆ featured │\n",
       "│ Wit Da Racks                           ┆ Travis Scott                            ┆ featured │\n",
       "│ Wit Da Racks                           ┆ Yak Gotti                               ┆ featured │\n",
       "│ The Way That You Talk                  ┆ Da Brat                                 ┆ featured │\n",
       "│ The Way That You Talk                  ┆ JD                                      ┆ featured │\n",
       "│ Side Effects                           ┆ Emily Warren                            ┆ featured │\n",
       "│ Make Me Proud                          ┆ Nicki Minaj                             ┆ featured │\n",
       "│ You Gon' Learn                         ┆ Royce da 5'9\"                           ┆ featured │\n",
       "│ You Gon' Learn                         ┆ White Gold                              ┆ featured │\n",
       "│ Big Time                               ┆ Future                                  ┆ featured │\n",
       "│ Big Time                               ┆ Lil Baby                                ┆ featured │\n",
       "│ She's Like The Wind                    ┆ Tony Sunshine                           ┆ featured │\n",
       "│ U.O.E.N.O.                             ┆ Future                                  ┆ featured │\n",
       "│ U.O.E.N.O.                             ┆ Rick Ross                               ┆ featured │\n",
       "│ Anything That's Part Of You            ┆ The Jordanaires                         ┆ featured │\n",
       "│ Soon You'll Get Better                 ┆ Dixie Chicks                            ┆ featured │\n",
       "│ At Midnight (My Love Will Lift You Up) ┆ Chaka Khan                              ┆ featured │\n",
       "│ Best Friend                            ┆ Mario Winans                            ┆ featured │\n",
       "│ Best Friend                            ┆ Hezekiah Walker and The Love Fe         ┆ featured │\n",
       "│ Know No Better                         ┆ Travis Scott                            ┆ featured │\n",
       "│ Know No Better                         ┆ Camila Cabello                          ┆ featured │\n",
       "│ Know No Better                         ┆ Quavo                                   ┆ featured │\n",
       "│ Random                                 ┆ Eazy                                    ┆ featured │\n",
       "│ Believe                                ┆ Justin Timberlake                       ┆ featured │\n",
       "│ Thankful                               ┆ Lil Wayne                               ┆ featured │\n",
       "│ Thankful                               ┆ Jeremih                                 ┆ featured │\n",
       "│ A Long Time, A Long Way To Go          ┆ Todd Rundgren                           ┆ featured │\n",
       "│ Rain Over Me                           ┆ Marc Anthony                            ┆ featured │\n",
       "│ Lemonade                               ┆ Don Toliver                             ┆ featured │\n",
       "│ Lemonade                               ┆ NAV                                     ┆ featured │\n",
       "│ Switches & Dracs                       ┆ Lil Durk                                ┆ featured │\n",
       "│ Switches & Dracs                       ┆ EST Gee                                 ┆ featured │\n",
       "└────────────────────────────────────────┴─────────────────────────────────────────┴──────────┘"
      ]
     },
     "execution_count": 197,
     "metadata": {},
     "output_type": "execute_result"
    }
   ],
   "source": [
    "df3"
   ]
  }
 ],
 "metadata": {
  "kernelspec": {
   "display_name": ".venv",
   "language": "python",
   "name": "python3"
  },
  "language_info": {
   "codemirror_mode": {
    "name": "ipython",
    "version": 3
   },
   "file_extension": ".py",
   "mimetype": "text/x-python",
   "name": "python",
   "nbconvert_exporter": "python",
   "pygments_lexer": "ipython3",
   "version": "3.13.2"
  }
 },
 "nbformat": 4,
 "nbformat_minor": 5
}
