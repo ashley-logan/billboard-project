{
 "cells": [
  {
   "cell_type": "code",
   "execution_count": 1,
   "id": "c72f2526",
   "metadata": {},
   "outputs": [],
   "source": [
    "import polars as pl\n",
    "import json"
   ]
  },
  {
   "cell_type": "code",
   "execution_count": 5,
   "id": "f86ffeab",
   "metadata": {},
   "outputs": [],
   "source": [
    "with open(\"hot100_datafiles/records05-29_22-36.json\", \"r\") as f:\n",
    "    data = json.load(f)\n"
   ]
  },
  {
   "cell_type": "code",
   "execution_count": 6,
   "id": "75a89cbf",
   "metadata": {},
   "outputs": [],
   "source": [
    "df = pl.DataFrame(data)"
   ]
  },
  {
   "cell_type": "code",
   "execution_count": 7,
   "id": "f6362b7a",
   "metadata": {},
   "outputs": [
    {
     "data": {
      "text/html": [
       "<div><style>\n",
       ".dataframe > thead > tr,\n",
       ".dataframe > tbody > tr {\n",
       "  text-align: right;\n",
       "  white-space: pre-wrap;\n",
       "}\n",
       "</style>\n",
       "<small>shape: (348_687, 5)</small><table border=\"1\" class=\"dataframe\"><thead><tr><th>position</th><th>date</th><th>song</th><th>artist</th><th>wks_on_chart</th></tr><tr><td>i64</td><td>str</td><td>str</td><td>str</td><td>str</td></tr></thead><tbody><tr><td>1</td><td>&quot;2025-04-19&quot;</td><td>&quot;1&quot;</td><td>&quot;Luther&quot;</td><td>&quot;1&quot;</td></tr><tr><td>2</td><td>&quot;2025-04-19&quot;</td><td>&quot;2&quot;</td><td>&quot;Nokia&quot;</td><td>&quot;2&quot;</td></tr><tr><td>3</td><td>&quot;2025-04-19&quot;</td><td>&quot;3&quot;</td><td>&quot;Die With A Smile&quot;</td><td>&quot;1&quot;</td></tr><tr><td>4</td><td>&quot;2025-04-19&quot;</td><td>&quot;4&quot;</td><td>&quot;All The Way&quot;</td><td>&quot;4&quot;</td></tr><tr><td>5</td><td>&quot;2025-04-19&quot;</td><td>&quot;5&quot;</td><td>&quot;Pink Pony Club&quot;</td><td>&quot;5&quot;</td></tr><tr><td>&hellip;</td><td>&hellip;</td><td>&hellip;</td><td>&hellip;</td><td>&hellip;</td></tr><tr><td>96</td><td>&quot;1958-11-29&quot;</td><td>&quot;96&quot;</td><td>&quot;Almost In Your Arms&quot;</td><td>&quot;78&quot;</td></tr><tr><td>97</td><td>&quot;1958-11-29&quot;</td><td>&quot;97&quot;</td><td>&quot;Cinderella&quot;</td><td>&quot;91&quot;</td></tr><tr><td>98</td><td>&quot;1958-11-29&quot;</td><td>&quot;98&quot;</td><td>&quot;Sweetheart&quot;</td><td>&quot;98&quot;</td></tr><tr><td>99</td><td>&quot;1958-11-29&quot;</td><td>&quot;99&quot;</td><td>&quot;Seven Minutes In Heaven&quot;</td><td>&quot;99&quot;</td></tr><tr><td>100</td><td>&quot;1958-11-29&quot;</td><td>&quot;100&quot;</td><td>&quot;Joe Joe Gunne&quot;</td><td>&quot;83&quot;</td></tr></tbody></table></div>"
      ],
      "text/plain": [
       "shape: (348_687, 5)\n",
       "┌──────────┬────────────┬──────┬─────────────────────────┬──────────────┐\n",
       "│ position ┆ date       ┆ song ┆ artist                  ┆ wks_on_chart │\n",
       "│ ---      ┆ ---        ┆ ---  ┆ ---                     ┆ ---          │\n",
       "│ i64      ┆ str        ┆ str  ┆ str                     ┆ str          │\n",
       "╞══════════╪════════════╪══════╪═════════════════════════╪══════════════╡\n",
       "│ 1        ┆ 2025-04-19 ┆ 1    ┆ Luther                  ┆ 1            │\n",
       "│ 2        ┆ 2025-04-19 ┆ 2    ┆ Nokia                   ┆ 2            │\n",
       "│ 3        ┆ 2025-04-19 ┆ 3    ┆ Die With A Smile        ┆ 1            │\n",
       "│ 4        ┆ 2025-04-19 ┆ 4    ┆ All The Way             ┆ 4            │\n",
       "│ 5        ┆ 2025-04-19 ┆ 5    ┆ Pink Pony Club          ┆ 5            │\n",
       "│ …        ┆ …          ┆ …    ┆ …                       ┆ …            │\n",
       "│ 96       ┆ 1958-11-29 ┆ 96   ┆ Almost In Your Arms     ┆ 78           │\n",
       "│ 97       ┆ 1958-11-29 ┆ 97   ┆ Cinderella              ┆ 91           │\n",
       "│ 98       ┆ 1958-11-29 ┆ 98   ┆ Sweetheart              ┆ 98           │\n",
       "│ 99       ┆ 1958-11-29 ┆ 99   ┆ Seven Minutes In Heaven ┆ 99           │\n",
       "│ 100      ┆ 1958-11-29 ┆ 100  ┆ Joe Joe Gunne           ┆ 83           │\n",
       "└──────────┴────────────┴──────┴─────────────────────────┴──────────────┘"
      ]
     },
     "execution_count": 7,
     "metadata": {},
     "output_type": "execute_result"
    }
   ],
   "source": [
    "df"
   ]
  },
  {
   "cell_type": "code",
   "execution_count": null,
   "id": "cef5ceb2",
   "metadata": {},
   "outputs": [],
   "source": []
  },
  {
   "cell_type": "code",
   "execution_count": null,
   "id": "3be4468b",
   "metadata": {},
   "outputs": [],
   "source": []
  },
  {
   "cell_type": "code",
   "execution_count": null,
   "id": "2aca774c",
   "metadata": {},
   "outputs": [],
   "source": []
  },
  {
   "cell_type": "code",
   "execution_count": 15,
   "id": "ec322525",
   "metadata": {},
   "outputs": [],
   "source": [
    "ranked_songs = df.groupby([\"song\", \"artist\"])[\"position\"].apply(lambda x: (1/x).sum())"
   ]
  },
  {
   "cell_type": "code",
   "execution_count": 16,
   "id": "1f183a5f",
   "metadata": {},
   "outputs": [],
   "source": [
    "ranked_songs = ranked_songs.sort_values(ascending=False)\n"
   ]
  },
  {
   "cell_type": "code",
   "execution_count": 17,
   "id": "9658bab5",
   "metadata": {},
   "outputs": [],
   "source": [
    "ranked_songs = ranked_songs.reset_index(name=\"popularity_score\")\n",
    "df_alltime = pd.DataFrame(ranked_songs)"
   ]
  },
  {
   "cell_type": "code",
   "execution_count": 20,
   "id": "794e8b6b",
   "metadata": {},
   "outputs": [],
   "source": [
    "floor = df_alltime[\"popularity_score\"].min()\n",
    "ceiling = df_alltime[\"popularity_score\"].max()"
   ]
  },
  {
   "cell_type": "code",
   "execution_count": 25,
   "id": "f0acfb57",
   "metadata": {},
   "outputs": [
    {
     "data": {
      "text/plain": [
       "count    26093.000000\n",
       "mean         0.196416\n",
       "std          0.569664\n",
       "min          0.010000\n",
       "25%          0.022858\n",
       "50%          0.055059\n",
       "75%          0.146873\n",
       "max         26.972293\n",
       "Name: popularity_score, dtype: float64"
      ]
     },
     "execution_count": 25,
     "metadata": {},
     "output_type": "execute_result"
    }
   ],
   "source": [
    "stats = df_alltime[\"popularity_score\"].describe()\n",
    "stats"
   ]
  },
  {
   "cell_type": "code",
   "execution_count": 29,
   "id": "604208d5",
   "metadata": {},
   "outputs": [],
   "source": [
    "percentile_popularity = df_alltime[\"popularity_score\"].rank(pct=True)\n",
    "df_alltime[\"percentile\"] = percentile_popularity"
   ]
  },
  {
   "cell_type": "code",
   "execution_count": null,
   "id": "2132d14e",
   "metadata": {},
   "outputs": [
    {
     "data": {
      "text/html": [
       "<div>\n",
       "<style scoped>\n",
       "    .dataframe tbody tr th:only-of-type {\n",
       "        vertical-align: middle;\n",
       "    }\n",
       "\n",
       "    .dataframe tbody tr th {\n",
       "        vertical-align: top;\n",
       "    }\n",
       "\n",
       "    .dataframe thead th {\n",
       "        text-align: right;\n",
       "    }\n",
       "</style>\n",
       "<table border=\"1\" class=\"dataframe\">\n",
       "  <thead>\n",
       "    <tr style=\"text-align: right;\">\n",
       "      <th></th>\n",
       "      <th>song</th>\n",
       "      <th>artist</th>\n",
       "      <th>popularity_score</th>\n",
       "      <th>percentile</th>\n",
       "    </tr>\n",
       "  </thead>\n",
       "  <tbody>\n",
       "    <tr>\n",
       "      <th>0</th>\n",
       "      <td>A Bar Song (Tipsy)</td>\n",
       "      <td>Shaboozey</td>\n",
       "      <td>26.972293</td>\n",
       "      <td>1.000000</td>\n",
       "    </tr>\n",
       "    <tr>\n",
       "      <th>1</th>\n",
       "      <td>Die With A Smile</td>\n",
       "      <td>Lady Gaga &amp; Bruno Mars</td>\n",
       "      <td>16.079458</td>\n",
       "      <td>0.999962</td>\n",
       "    </tr>\n",
       "    <tr>\n",
       "      <th>2</th>\n",
       "      <td>As It Was</td>\n",
       "      <td>Harry Styles</td>\n",
       "      <td>15.577342</td>\n",
       "      <td>0.999923</td>\n",
       "    </tr>\n",
       "    <tr>\n",
       "      <th>3</th>\n",
       "      <td>Luther</td>\n",
       "      <td>Kendrick Lamar &amp; SZA</td>\n",
       "      <td>15.506518</td>\n",
       "      <td>0.999885</td>\n",
       "    </tr>\n",
       "    <tr>\n",
       "      <th>4</th>\n",
       "      <td>I Had Some Help</td>\n",
       "      <td>Post Malone Featuring Morgan Wallen</td>\n",
       "      <td>15.242586</td>\n",
       "      <td>0.999847</td>\n",
       "    </tr>\n",
       "    <tr>\n",
       "      <th>...</th>\n",
       "      <td>...</td>\n",
       "      <td>...</td>\n",
       "      <td>...</td>\n",
       "      <td>...</td>\n",
       "    </tr>\n",
       "    <tr>\n",
       "      <th>26088</th>\n",
       "      <td>Say OK</td>\n",
       "      <td>Vanessa Hudgens</td>\n",
       "      <td>0.010000</td>\n",
       "      <td>0.004158</td>\n",
       "    </tr>\n",
       "    <tr>\n",
       "      <th>26089</th>\n",
       "      <td>Raise Your Weapon</td>\n",
       "      <td>deadmau5 Featuring Greta Svabo Bech</td>\n",
       "      <td>0.010000</td>\n",
       "      <td>0.004158</td>\n",
       "    </tr>\n",
       "    <tr>\n",
       "      <th>26090</th>\n",
       "      <td>One Sunny Day (From Quicksilver)</td>\n",
       "      <td>Ray Parker,Jr. &amp; Helen Terry</td>\n",
       "      <td>0.010000</td>\n",
       "      <td>0.004158</td>\n",
       "    </tr>\n",
       "    <tr>\n",
       "      <th>26091</th>\n",
       "      <td>The More You Live, The More You Love</td>\n",
       "      <td>A Flock Of Seagulls</td>\n",
       "      <td>0.010000</td>\n",
       "      <td>0.004158</td>\n",
       "    </tr>\n",
       "    <tr>\n",
       "      <th>26092</th>\n",
       "      <td>The Games We Play</td>\n",
       "      <td>Pusha T</td>\n",
       "      <td>0.010000</td>\n",
       "      <td>0.004158</td>\n",
       "    </tr>\n",
       "  </tbody>\n",
       "</table>\n",
       "<p>26093 rows × 4 columns</p>\n",
       "</div>"
      ],
      "text/plain": [
       "                                       song  \\\n",
       "0                        A Bar Song (Tipsy)   \n",
       "1                          Die With A Smile   \n",
       "2                                 As It Was   \n",
       "3                                    Luther   \n",
       "4                           I Had Some Help   \n",
       "...                                     ...   \n",
       "26088                                Say OK   \n",
       "26089                     Raise Your Weapon   \n",
       "26090      One Sunny Day (From Quicksilver)   \n",
       "26091  The More You Live, The More You Love   \n",
       "26092                     The Games We Play   \n",
       "\n",
       "                                    artist  popularity_score  percentile  \n",
       "0                                Shaboozey         26.972293    1.000000  \n",
       "1                   Lady Gaga & Bruno Mars         16.079458    0.999962  \n",
       "2                             Harry Styles         15.577342    0.999923  \n",
       "3                     Kendrick Lamar & SZA         15.506518    0.999885  \n",
       "4      Post Malone Featuring Morgan Wallen         15.242586    0.999847  \n",
       "...                                    ...               ...         ...  \n",
       "26088                      Vanessa Hudgens          0.010000    0.004158  \n",
       "26089  deadmau5 Featuring Greta Svabo Bech          0.010000    0.004158  \n",
       "26090         Ray Parker,Jr. & Helen Terry          0.010000    0.004158  \n",
       "26091                  A Flock Of Seagulls          0.010000    0.004158  \n",
       "26092                              Pusha T          0.010000    0.004158  \n",
       "\n",
       "[26093 rows x 4 columns]"
      ]
     },
     "execution_count": 30,
     "metadata": {},
     "output_type": "execute_result"
    }
   ],
   "source": [
    "df_alltime # name index song_id "
   ]
  },
  {
   "cell_type": "code",
   "execution_count": null,
   "id": "fe9c8de3",
   "metadata": {},
   "outputs": [
    {
     "data": {
      "text/html": [
       "<div>\n",
       "<style scoped>\n",
       "    .dataframe tbody tr th:only-of-type {\n",
       "        vertical-align: middle;\n",
       "    }\n",
       "\n",
       "    .dataframe tbody tr th {\n",
       "        vertical-align: top;\n",
       "    }\n",
       "\n",
       "    .dataframe thead th {\n",
       "        text-align: right;\n",
       "    }\n",
       "</style>\n",
       "<table border=\"1\" class=\"dataframe\">\n",
       "  <thead>\n",
       "    <tr style=\"text-align: right;\">\n",
       "      <th></th>\n",
       "      <th>min</th>\n",
       "      <th>max</th>\n",
       "    </tr>\n",
       "    <tr>\n",
       "      <th>song</th>\n",
       "      <th></th>\n",
       "      <th></th>\n",
       "    </tr>\n",
       "  </thead>\n",
       "  <tbody>\n",
       "    <tr>\n",
       "      <th>\"B\" Girls</th>\n",
       "      <td>1990-07-14 22:45:02.677242</td>\n",
       "      <td>1990-07-14 22:45:02.677242</td>\n",
       "    </tr>\n",
       "    <tr>\n",
       "      <th>\"Cherry Cherry\" from Hot August Night</th>\n",
       "      <td>1973-03-17 22:45:02.677242</td>\n",
       "      <td>1973-05-12 22:45:02.677242</td>\n",
       "    </tr>\n",
       "    <tr>\n",
       "      <th>\"Having A Party\" Medley</th>\n",
       "      <td>1973-10-13 22:45:02.677242</td>\n",
       "      <td>1973-12-08 22:45:02.677242</td>\n",
       "    </tr>\n",
       "    <tr>\n",
       "      <th>\"Joy\" Pt. I</th>\n",
       "      <td>1974-01-12 22:45:02.677242</td>\n",
       "      <td>1974-02-02 22:45:02.677242</td>\n",
       "    </tr>\n",
       "    <tr>\n",
       "      <th>\"Yep!\"</th>\n",
       "      <td>1959-04-04 22:45:02.677242</td>\n",
       "      <td>1959-05-16 22:45:02.677242</td>\n",
       "    </tr>\n",
       "    <tr>\n",
       "      <th>...</th>\n",
       "      <td>...</td>\n",
       "      <td>...</td>\n",
       "    </tr>\n",
       "    <tr>\n",
       "      <th>thanK you aIMee</th>\n",
       "      <td>2024-05-04 22:45:02.677242</td>\n",
       "      <td>2024-05-18 22:45:02.677242</td>\n",
       "    </tr>\n",
       "    <tr>\n",
       "      <th>the.climb.back</th>\n",
       "      <td>2021-05-29 22:45:02.677242</td>\n",
       "      <td>2021-05-29 22:45:02.677242</td>\n",
       "    </tr>\n",
       "    <tr>\n",
       "      <th>whoknows</th>\n",
       "      <td>2004-04-24 22:45:02.677242</td>\n",
       "      <td>2004-06-12 22:45:02.677242</td>\n",
       "    </tr>\n",
       "    <tr>\n",
       "      <th>www.memory</th>\n",
       "      <td>2000-11-11 22:45:02.677242</td>\n",
       "      <td>2001-01-13 22:45:02.677242</td>\n",
       "    </tr>\n",
       "    <tr>\n",
       "      <th>¿Dònde Està Santa Claus? (Where Is Santa Claus?)</th>\n",
       "      <td>1958-12-20 22:45:02.677242</td>\n",
       "      <td>1958-12-20 22:45:02.677242</td>\n",
       "    </tr>\n",
       "  </tbody>\n",
       "</table>\n",
       "<p>22151 rows × 2 columns</p>\n",
       "</div>"
      ],
      "text/plain": [
       "                                                                        min  \\\n",
       "song                                                                          \n",
       "\"B\" Girls                                        1990-07-14 22:45:02.677242   \n",
       "\"Cherry Cherry\" from Hot August Night            1973-03-17 22:45:02.677242   \n",
       "\"Having A Party\" Medley                          1973-10-13 22:45:02.677242   \n",
       "\"Joy\" Pt. I                                      1974-01-12 22:45:02.677242   \n",
       "\"Yep!\"                                           1959-04-04 22:45:02.677242   \n",
       "...                                                                     ...   \n",
       "thanK you aIMee                                  2024-05-04 22:45:02.677242   \n",
       "the.climb.back                                   2021-05-29 22:45:02.677242   \n",
       "whoknows                                         2004-04-24 22:45:02.677242   \n",
       "www.memory                                       2000-11-11 22:45:02.677242   \n",
       "¿Dònde Està Santa Claus? (Where Is Santa Claus?) 1958-12-20 22:45:02.677242   \n",
       "\n",
       "                                                                        max  \n",
       "song                                                                         \n",
       "\"B\" Girls                                        1990-07-14 22:45:02.677242  \n",
       "\"Cherry Cherry\" from Hot August Night            1973-05-12 22:45:02.677242  \n",
       "\"Having A Party\" Medley                          1973-12-08 22:45:02.677242  \n",
       "\"Joy\" Pt. I                                      1974-02-02 22:45:02.677242  \n",
       "\"Yep!\"                                           1959-05-16 22:45:02.677242  \n",
       "...                                                                     ...  \n",
       "thanK you aIMee                                  2024-05-18 22:45:02.677242  \n",
       "the.climb.back                                   2021-05-29 22:45:02.677242  \n",
       "whoknows                                         2004-06-12 22:45:02.677242  \n",
       "www.memory                                       2001-01-13 22:45:02.677242  \n",
       "¿Dònde Està Santa Claus? (Where Is Santa Claus?) 1958-12-20 22:45:02.677242  \n",
       "\n",
       "[22151 rows x 2 columns]"
      ]
     },
     "execution_count": 34,
     "metadata": {},
     "output_type": "execute_result"
    }
   ],
   "source": [
    "test = df.groupby(\"song\")[\"date\"].agg([\"min\", \"max\"])\n",
    "test # add record_id to main df, normalize tables, song table with song_id etc"
   ]
  }
 ],
 "metadata": {
  "kernelspec": {
   "display_name": ".venv",
   "language": "python",
   "name": "python3"
  },
  "language_info": {
   "codemirror_mode": {
    "name": "ipython",
    "version": 3
   },
   "file_extension": ".py",
   "mimetype": "text/x-python",
   "name": "python",
   "nbconvert_exporter": "python",
   "pygments_lexer": "ipython3",
   "version": "3.13.2"
  }
 },
 "nbformat": 4,
 "nbformat_minor": 5
}
