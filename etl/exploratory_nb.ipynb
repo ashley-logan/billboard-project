{
 "cells": [
  {
   "cell_type": "code",
   "execution_count": 15,
   "id": "4805a6bf",
   "metadata": {},
   "outputs": [],
   "source": [
    "import json\n",
    "import graphviz\n",
    "import re\n",
    "import polars as pl\n",
    "import datetime as dt\n",
    "from numpy import log"
   ]
  },
  {
   "cell_type": "code",
   "execution_count": 16,
   "id": "0d3a5531",
   "metadata": {},
   "outputs": [
    {
     "data": {
      "text/plain": [
       "polars.config.Config"
      ]
     },
     "execution_count": 16,
     "metadata": {},
     "output_type": "execute_result"
    }
   ],
   "source": [
    "pl.Config.set_tbl_rows(20)\n",
    "pl.Config.set_tbl_cols(20)\n",
    "pl.Config.set_float_precision(2)\n"
   ]
  },
  {
   "cell_type": "code",
   "execution_count": 17,
   "id": "babdd41d",
   "metadata": {},
   "outputs": [],
   "source": [
    "filepath: str = \"../data/records05-29_23-57.json\"\n",
    "lf: pl.LazyFrame = pl.read_json(filepath).lazy()"
   ]
  },
  {
   "cell_type": "code",
   "execution_count": 41,
   "id": "f5fd2e7e",
   "metadata": {},
   "outputs": [
    {
     "name": "stdout",
     "output_type": "stream",
     "text": [
      "shape: (339_287, 5)\n",
      "┌──────────┬────────────┬────────────────────────────┬──────────────────────────────┬──────────────┐\n",
      "│ position ┆ date       ┆ song                       ┆ artist                       ┆ wks_on_chart │\n",
      "│ ---      ┆ ---        ┆ ---                        ┆ ---                          ┆ ---          │\n",
      "│ i64      ┆ str        ┆ str                        ┆ str                          ┆ str          │\n",
      "╞══════════╪════════════╪════════════════════════════╪══════════════════════════════╪══════════════╡\n",
      "│ 1        ┆ 2025-04-26 ┆ Luther                     ┆ Kendrick Lamar & SZA         ┆ 21           │\n",
      "│ 2        ┆ 2025-04-26 ┆ Die With A Smile           ┆ Lady Gaga & Bruno Mars       ┆ 35           │\n",
      "│ 3        ┆ 2025-04-26 ┆ Nokia                      ┆ Drake                        ┆ 9            │\n",
      "│ 4        ┆ 2025-04-26 ┆ Pink Pony Club             ┆ Chappell Roan                ┆ 44           │\n",
      "│ 5        ┆ 2025-04-26 ┆ Ordinary                   ┆ Alex Warren                  ┆ 10           │\n",
      "│ 6        ┆ 2025-04-26 ┆ A Bar Song (Tipsy)         ┆ Shaboozey                    ┆ 53           │\n",
      "│ 7        ┆ 2025-04-26 ┆ Lose Control               ┆ Teddy Swims                  ┆ 87           │\n",
      "│ 8        ┆ 2025-04-26 ┆ All The Way                ┆ BigXthaPlug Featuring Bailey ┆ 2            │\n",
      "│          ┆            ┆                            ┆ Z…                           ┆              │\n",
      "│ 9        ┆ 2025-04-26 ┆ Beautiful Things           ┆ Benson Boone                 ┆ 64           │\n",
      "│ 10       ┆ 2025-04-26 ┆ I'm The Problem            ┆ Morgan Wallen                ┆ 11           │\n",
      "│ …        ┆ …          ┆ …                          ┆ …                            ┆ …            │\n",
      "│ 91       ┆ 1958-08-09 ┆ All I Have To Do Is Dream  ┆ The Everly Brothers          ┆ 2            │\n",
      "│ 92       ┆ 1958-08-09 ┆ La Paloma                  ┆ Billy Vaughn And His         ┆ 1            │\n",
      "│          ┆            ┆                            ┆ Orchestra                    ┆              │\n",
      "│ 93       ┆ 1958-08-09 ┆ I Believe In You           ┆ Robert & Johnny              ┆ 2            │\n",
      "│ 94       ┆ 1958-08-09 ┆ Midnighter                 ┆ The Champs                   ┆ 1            │\n",
      "│ 95       ┆ 1958-08-09 ┆ Chariot Rock               ┆ The Champs                   ┆ 1            │\n",
      "│ 96       ┆ 1958-08-09 ┆ Down In Virginia           ┆ Jimmy Reed                   ┆ 1            │\n",
      "│ 97       ┆ 1958-08-09 ┆ Sunday Barbecue            ┆ Tennessee Ernie Ford         ┆ 1            │\n",
      "│ 98       ┆ 1958-08-09 ┆ Gotta Have Rain            ┆ Eydie Gorme                  ┆ 2            │\n",
      "│ 99       ┆ 1958-08-09 ┆ Nothing In The World       ┆ Nat King Cole                ┆ 1            │\n",
      "│ 100      ┆ 1958-08-09 ┆ Baubles, Bangles And Beads ┆ The Kirby Stone Four         ┆ 2            │\n",
      "└──────────┴────────────┴────────────────────────────┴──────────────────────────────┴──────────────┘\n"
     ]
    }
   ],
   "source": [
    "print(lf.collect())"
   ]
  },
  {
   "cell_type": "code",
   "execution_count": 42,
   "id": "f8fd5d30",
   "metadata": {},
   "outputs": [],
   "source": [
    "def get_record_table(lf) -> pl.LazyFrame:\n",
    "    return lf.with_columns(\n",
    "                date=pl.col(\"date\").cast(pl.Date),\n",
    "                position=pl.col(\"position\").cast(pl.UInt8),\n",
    "                id=pl.arange(0, pl.len()).sort(descending=True),\n",
    "                # artists=(pl.col(\"artist\").str.split(\"Featuring\").list.first().str.split(\"With\").list.first().str.strip_chars().str.split(\"&\")),\n",
    "                # features=pl.col(\"artist\")\n",
    "                # .str.split(\"Featuring\").list.first().str.split(\"With\")\n",
    "                # .list.get(index=1, null_on_oob=True).str.strip_chars()\n",
    "                # .str.split(\"&\"),\n",
    "            ).filter(\n",
    "                pl.col(\"date\") >= dt.date(1960, 1, 1)\n",
    "            ).select(\n",
    "                [\n",
    "                    \"id\",\n",
    "                    \"date\",\n",
    "                    \"position\",\n",
    "                    \"song\",\n",
    "                ]\n",
    "            ).collect()"
   ]
  },
  {
   "cell_type": "code",
   "execution_count": 33,
   "id": "328142ee",
   "metadata": {},
   "outputs": [],
   "source": [
    "record_tbl: pl.DataFrame = get_record_table(lf)"
   ]
  },
  {
   "cell_type": "code",
   "execution_count": 43,
   "id": "a0ac4dfd",
   "metadata": {},
   "outputs": [
    {
     "data": {
      "text/html": [
       "<div><style>\n",
       ".dataframe > thead > tr,\n",
       ".dataframe > tbody > tr {\n",
       "  text-align: right;\n",
       "  white-space: pre-wrap;\n",
       "}\n",
       "</style>\n",
       "<small>shape: (331_987, 4)</small><table border=\"1\" class=\"dataframe\"><thead><tr><th>id</th><th>date</th><th>position</th><th>song</th></tr><tr><td>i64</td><td>date</td><td>u8</td><td>str</td></tr></thead><tbody><tr><td>339286</td><td>2025-04-26</td><td>1</td><td>&quot;Luther&quot;</td></tr><tr><td>339285</td><td>2025-04-26</td><td>2</td><td>&quot;Die With A Smile&quot;</td></tr><tr><td>339284</td><td>2025-04-26</td><td>3</td><td>&quot;Nokia&quot;</td></tr><tr><td>339283</td><td>2025-04-26</td><td>4</td><td>&quot;Pink Pony Club&quot;</td></tr><tr><td>339282</td><td>2025-04-26</td><td>5</td><td>&quot;Ordinary&quot;</td></tr><tr><td>339281</td><td>2025-04-26</td><td>6</td><td>&quot;A Bar Song (Tipsy)&quot;</td></tr><tr><td>339280</td><td>2025-04-26</td><td>7</td><td>&quot;Lose Control&quot;</td></tr><tr><td>339279</td><td>2025-04-26</td><td>8</td><td>&quot;All The Way&quot;</td></tr><tr><td>339278</td><td>2025-04-26</td><td>9</td><td>&quot;Beautiful Things&quot;</td></tr><tr><td>339277</td><td>2025-04-26</td><td>10</td><td>&quot;I&#x27;m The Problem&quot;</td></tr><tr><td>&hellip;</td><td>&hellip;</td><td>&hellip;</td><td>&hellip;</td></tr><tr><td>909</td><td>1960-04-02</td><td>91</td><td>&quot;Country Boy&quot;</td></tr><tr><td>908</td><td>1960-04-02</td><td>92</td><td>&quot;Cherry Pie&quot;</td></tr><tr><td>907</td><td>1960-04-02</td><td>93</td><td>&quot;Never Let Me Go&quot;</td></tr><tr><td>906</td><td>1960-04-02</td><td>94</td><td>&quot;Adam And Eve&quot;</td></tr><tr><td>905</td><td>1960-04-02</td><td>95</td><td>&quot;Mr. Lucky&quot;</td></tr><tr><td>904</td><td>1960-04-02</td><td>96</td><td>&quot;What Do You Want?&quot;</td></tr><tr><td>903</td><td>1960-04-02</td><td>97</td><td>&quot;El Paso&quot;</td></tr><tr><td>902</td><td>1960-04-02</td><td>98</td><td>&quot;Down By The Station&quot;</td></tr><tr><td>901</td><td>1960-04-02</td><td>99</td><td>&quot;Road Runner&quot;</td></tr><tr><td>900</td><td>1960-04-02</td><td>100</td><td>&quot;Lonely Blue Boy&quot;</td></tr></tbody></table></div>"
      ],
      "text/plain": [
       "shape: (331_987, 4)\n",
       "┌────────┬────────────┬──────────┬─────────────────────┐\n",
       "│ id     ┆ date       ┆ position ┆ song                │\n",
       "│ ---    ┆ ---        ┆ ---      ┆ ---                 │\n",
       "│ i64    ┆ date       ┆ u8       ┆ str                 │\n",
       "╞════════╪════════════╪══════════╪═════════════════════╡\n",
       "│ 339286 ┆ 2025-04-26 ┆ 1        ┆ Luther              │\n",
       "│ 339285 ┆ 2025-04-26 ┆ 2        ┆ Die With A Smile    │\n",
       "│ 339284 ┆ 2025-04-26 ┆ 3        ┆ Nokia               │\n",
       "│ 339283 ┆ 2025-04-26 ┆ 4        ┆ Pink Pony Club      │\n",
       "│ 339282 ┆ 2025-04-26 ┆ 5        ┆ Ordinary            │\n",
       "│ 339281 ┆ 2025-04-26 ┆ 6        ┆ A Bar Song (Tipsy)  │\n",
       "│ 339280 ┆ 2025-04-26 ┆ 7        ┆ Lose Control        │\n",
       "│ 339279 ┆ 2025-04-26 ┆ 8        ┆ All The Way         │\n",
       "│ 339278 ┆ 2025-04-26 ┆ 9        ┆ Beautiful Things    │\n",
       "│ 339277 ┆ 2025-04-26 ┆ 10       ┆ I'm The Problem     │\n",
       "│ …      ┆ …          ┆ …        ┆ …                   │\n",
       "│ 909    ┆ 1960-04-02 ┆ 91       ┆ Country Boy         │\n",
       "│ 908    ┆ 1960-04-02 ┆ 92       ┆ Cherry Pie          │\n",
       "│ 907    ┆ 1960-04-02 ┆ 93       ┆ Never Let Me Go     │\n",
       "│ 906    ┆ 1960-04-02 ┆ 94       ┆ Adam And Eve        │\n",
       "│ 905    ┆ 1960-04-02 ┆ 95       ┆ Mr. Lucky           │\n",
       "│ 904    ┆ 1960-04-02 ┆ 96       ┆ What Do You Want?   │\n",
       "│ 903    ┆ 1960-04-02 ┆ 97       ┆ El Paso             │\n",
       "│ 902    ┆ 1960-04-02 ┆ 98       ┆ Down By The Station │\n",
       "│ 901    ┆ 1960-04-02 ┆ 99       ┆ Road Runner         │\n",
       "│ 900    ┆ 1960-04-02 ┆ 100      ┆ Lonely Blue Boy     │\n",
       "└────────┴────────────┴──────────┴─────────────────────┘"
      ]
     },
     "execution_count": 43,
     "metadata": {},
     "output_type": "execute_result"
    }
   ],
   "source": [
    "record_tbl"
   ]
  },
  {
   "cell_type": "code",
   "execution_count": null,
   "id": "f604ae0c",
   "metadata": {},
   "outputs": [],
   "source": [
    "def get_song_table(lf) -> pl.DataFrame:\n",
    "    decades: range = range(1970, 2030, 10)\n",
    "    return (\n",
    "        lf.cast({\"date\": pl.Date})\n",
    "        .group_by([\"song\", \"artist\"])\n",
    "        .agg(\n",
    "            power=(1 / pl.col(\"position\")).sum(),\n",
    "            longevity=(1 / (pl.col(\"position\").log1p())).sum(),\n",
    "            weeks_on_chart=pl.len(),\n",
    "            proportion_top10=((pl.col(\"position\") <= 10).sum() / pl.len()),\n",
    "            earliest=pl.min(\"date\"),\n",
    "            latest=pl.max(\"date\"),\n",
    "        )\n",
    "        .with_row_index(\"id\")\n",
    "        .sort(by=\"earliest\")\n",
    "        .with_columns(\n",
    "            decade=(\n",
    "                pl.col(\"earliest\")\n",
    "                .dt.year()\n",
    "                .cut(\n",
    "                    breaks=decades,\n",
    "                    labels=[f\"{x - 10}s\" for x in decades] + [\"2020s\"],\n",
    "                    left_closed=True,\n",
    "                )\n",
    "            )\n",
    "        )\n",
    "        .sort(by=\"power\", descending=True)\n",
    "        .select([\"id\", \"song\", \"power\", \"longevity\", \"earliest\", \"latest\", \"decade\"])\n",
    "        .collect()\n",
    "    )\n"
   ]
  },
  {
   "cell_type": "code",
   "execution_count": null,
   "id": "23469a80",
   "metadata": {},
   "outputs": [],
   "source": [
    "def rating_expr(col: str) -> pl.Expr:\n",
    "    return 10 * (pl.col(col).rank(\"average\") / pl.len())"
   ]
  },
  {
   "cell_type": "code",
   "execution_count": null,
   "id": "3b8d8707",
   "metadata": {},
   "outputs": [],
   "source": [
    "def percentile_expr(col: str, decade_cut: bool=False) -> pl.Expr:\n",
    "        rank: pl.Expr = pl.col(col).rank(\"average\")\n",
    "        rank: pl.Expr = rank.over(\"decade\") if decade_cut else rank\n",
    "        denom: pl.Expr = pl.col(col).len()\n",
    "        denom: pl.Expr = denom.over(\"decade\") if decade_cut else denom\n",
    "        return (rank / denom) * 100"
   ]
  },
  {
   "cell_type": "code",
   "execution_count": 49,
   "id": "1f235174",
   "metadata": {},
   "outputs": [],
   "source": [
    "song_tbl = get_song_table(lf)"
   ]
  },
  {
   "cell_type": "code",
   "execution_count": 50,
   "id": "d5598337",
   "metadata": {},
   "outputs": [
    {
     "data": {
      "text/html": [
       "<div><style>\n",
       ".dataframe > thead > tr,\n",
       ".dataframe > tbody > tr {\n",
       "  text-align: right;\n",
       "  white-space: pre-wrap;\n",
       "}\n",
       "</style>\n",
       "<small>shape: (31_788, 7)</small><table border=\"1\" class=\"dataframe\"><thead><tr><th>id</th><th>song</th><th>power</th><th>longevity</th><th>earliest</th><th>latest</th><th>decade</th></tr><tr><td>u32</td><td>str</td><td>f64</td><td>f64</td><td>date</td><td>date</td><td>cat</td></tr></thead><tbody><tr><td>7820</td><td>&quot;A Bar Song (Tipsy)&quot;</td><td>28.08</td><td>50.40</td><td>2024-04-27</td><td>2025-05-31</td><td>&quot;2020s&quot;</td></tr><tr><td>30444</td><td>&quot;All I Want For Christmas Is Yo…</td><td>24.26</td><td>47.25</td><td>2000-01-08</td><td>2025-01-04</td><td>&quot;2000s&quot;</td></tr><tr><td>19890</td><td>&quot;As It Was&quot;</td><td>23.83</td><td>45.61</td><td>2022-04-16</td><td>2023-06-10</td><td>&quot;2020s&quot;</td></tr><tr><td>1187</td><td>&quot;Last Night&quot;</td><td>23.64</td><td>45.24</td><td>2023-02-11</td><td>2024-03-30</td><td>&quot;2020s&quot;</td></tr><tr><td>16121</td><td>&quot;Old Town Road&quot;</td><td>21.11</td><td>36.78</td><td>2019-03-16</td><td>2020-01-18</td><td>&quot;2010s&quot;</td></tr><tr><td>24589</td><td>&quot;Uptown Funk!&quot;</td><td>19.91</td><td>38.96</td><td>2014-11-29</td><td>2016-03-05</td><td>&quot;2010s&quot;</td></tr><tr><td>3938</td><td>&quot;Despacito&quot;</td><td>19.15</td><td>36.07</td><td>2017-02-04</td><td>2018-01-20</td><td>&quot;2010s&quot;</td></tr><tr><td>4254</td><td>&quot;Stay&quot;</td><td>18.83</td><td>40.86</td><td>2021-07-24</td><td>2022-10-01</td><td>&quot;2020s&quot;</td></tr><tr><td>23183</td><td>&quot;Shape Of You&quot;</td><td>18.38</td><td>38.21</td><td>2017-01-28</td><td>2018-03-03</td><td>&quot;2010s&quot;</td></tr><tr><td>3250</td><td>&quot;Closer&quot;</td><td>18.19</td><td>36.14</td><td>2016-08-20</td><td>2017-08-12</td><td>&quot;2010s&quot;</td></tr><tr><td>&hellip;</td><td>&hellip;</td><td>&hellip;</td><td>&hellip;</td><td>&hellip;</td><td>&hellip;</td><td>&hellip;</td></tr><tr><td>1884</td><td>&quot;Bluffin&quot;</td><td>0.01</td><td>0.22</td><td>2023-07-01</td><td>2023-07-01</td><td>&quot;2020s&quot;</td></tr><tr><td>10276</td><td>&quot;Gucci Grocery Bag&quot;</td><td>0.01</td><td>0.22</td><td>2023-07-08</td><td>2023-07-08</td><td>&quot;2020s&quot;</td></tr><tr><td>20684</td><td>&quot;Equal Dirt&quot;</td><td>0.01</td><td>0.22</td><td>2023-08-05</td><td>2023-08-05</td><td>&quot;2020s&quot;</td></tr><tr><td>31171</td><td>&quot;Sunday Service&quot;</td><td>0.01</td><td>0.22</td><td>2024-02-24</td><td>2024-02-24</td><td>&quot;2020s&quot;</td></tr><tr><td>13410</td><td>&quot;Nobody Knows My Struggle&quot;</td><td>0.01</td><td>0.22</td><td>2024-04-27</td><td>2024-04-27</td><td>&quot;2020s&quot;</td></tr><tr><td>25283</td><td>&quot;Wanna Be Loved&quot;</td><td>0.01</td><td>0.22</td><td>2024-08-10</td><td>2024-08-10</td><td>&quot;2020s&quot;</td></tr><tr><td>19986</td><td>&quot;Karma&quot;</td><td>0.01</td><td>0.22</td><td>2024-10-26</td><td>2024-10-26</td><td>&quot;2020s&quot;</td></tr><tr><td>28605</td><td>&quot;Criminals&quot;</td><td>0.01</td><td>0.22</td><td>2024-11-23</td><td>2024-11-23</td><td>&quot;2020s&quot;</td></tr><tr><td>23647</td><td>&quot;Cowboy Songs&quot;</td><td>0.01</td><td>0.22</td><td>2025-01-11</td><td>2025-01-11</td><td>&quot;2020s&quot;</td></tr><tr><td>17253</td><td>&quot;Infinite Baths&quot;</td><td>0.01</td><td>0.22</td><td>2025-05-24</td><td>2025-05-24</td><td>&quot;2020s&quot;</td></tr></tbody></table></div>"
      ],
      "text/plain": [
       "shape: (31_788, 7)\n",
       "┌───────┬─────────────────────────────────┬───────┬───────────┬────────────┬────────────┬────────┐\n",
       "│ id    ┆ song                            ┆ power ┆ longevity ┆ earliest   ┆ latest     ┆ decade │\n",
       "│ ---   ┆ ---                             ┆ ---   ┆ ---       ┆ ---        ┆ ---        ┆ ---    │\n",
       "│ u32   ┆ str                             ┆ f64   ┆ f64       ┆ date       ┆ date       ┆ cat    │\n",
       "╞═══════╪═════════════════════════════════╪═══════╪═══════════╪════════════╪════════════╪════════╡\n",
       "│ 7820  ┆ A Bar Song (Tipsy)              ┆ 28.08 ┆ 50.40     ┆ 2024-04-27 ┆ 2025-05-31 ┆ 2020s  │\n",
       "│ 30444 ┆ All I Want For Christmas Is Yo… ┆ 24.26 ┆ 47.25     ┆ 2000-01-08 ┆ 2025-01-04 ┆ 2000s  │\n",
       "│ 19890 ┆ As It Was                       ┆ 23.83 ┆ 45.61     ┆ 2022-04-16 ┆ 2023-06-10 ┆ 2020s  │\n",
       "│ 1187  ┆ Last Night                      ┆ 23.64 ┆ 45.24     ┆ 2023-02-11 ┆ 2024-03-30 ┆ 2020s  │\n",
       "│ 16121 ┆ Old Town Road                   ┆ 21.11 ┆ 36.78     ┆ 2019-03-16 ┆ 2020-01-18 ┆ 2010s  │\n",
       "│ 24589 ┆ Uptown Funk!                    ┆ 19.91 ┆ 38.96     ┆ 2014-11-29 ┆ 2016-03-05 ┆ 2010s  │\n",
       "│ 3938  ┆ Despacito                       ┆ 19.15 ┆ 36.07     ┆ 2017-02-04 ┆ 2018-01-20 ┆ 2010s  │\n",
       "│ 4254  ┆ Stay                            ┆ 18.83 ┆ 40.86     ┆ 2021-07-24 ┆ 2022-10-01 ┆ 2020s  │\n",
       "│ 23183 ┆ Shape Of You                    ┆ 18.38 ┆ 38.21     ┆ 2017-01-28 ┆ 2018-03-03 ┆ 2010s  │\n",
       "│ 3250  ┆ Closer                          ┆ 18.19 ┆ 36.14     ┆ 2016-08-20 ┆ 2017-08-12 ┆ 2010s  │\n",
       "│ …     ┆ …                               ┆ …     ┆ …         ┆ …          ┆ …          ┆ …      │\n",
       "│ 1884  ┆ Bluffin                         ┆ 0.01  ┆ 0.22      ┆ 2023-07-01 ┆ 2023-07-01 ┆ 2020s  │\n",
       "│ 10276 ┆ Gucci Grocery Bag               ┆ 0.01  ┆ 0.22      ┆ 2023-07-08 ┆ 2023-07-08 ┆ 2020s  │\n",
       "│ 20684 ┆ Equal Dirt                      ┆ 0.01  ┆ 0.22      ┆ 2023-08-05 ┆ 2023-08-05 ┆ 2020s  │\n",
       "│ 31171 ┆ Sunday Service                  ┆ 0.01  ┆ 0.22      ┆ 2024-02-24 ┆ 2024-02-24 ┆ 2020s  │\n",
       "│ 13410 ┆ Nobody Knows My Struggle        ┆ 0.01  ┆ 0.22      ┆ 2024-04-27 ┆ 2024-04-27 ┆ 2020s  │\n",
       "│ 25283 ┆ Wanna Be Loved                  ┆ 0.01  ┆ 0.22      ┆ 2024-08-10 ┆ 2024-08-10 ┆ 2020s  │\n",
       "│ 19986 ┆ Karma                           ┆ 0.01  ┆ 0.22      ┆ 2024-10-26 ┆ 2024-10-26 ┆ 2020s  │\n",
       "│ 28605 ┆ Criminals                       ┆ 0.01  ┆ 0.22      ┆ 2024-11-23 ┆ 2024-11-23 ┆ 2020s  │\n",
       "│ 23647 ┆ Cowboy Songs                    ┆ 0.01  ┆ 0.22      ┆ 2025-01-11 ┆ 2025-01-11 ┆ 2020s  │\n",
       "│ 17253 ┆ Infinite Baths                  ┆ 0.01  ┆ 0.22      ┆ 2025-05-24 ┆ 2025-05-24 ┆ 2020s  │\n",
       "└───────┴─────────────────────────────────┴───────┴───────────┴────────────┴────────────┴────────┘"
      ]
     },
     "execution_count": 50,
     "metadata": {},
     "output_type": "execute_result"
    }
   ],
   "source": [
    "song_tbl"
   ]
  },
  {
   "cell_type": "code",
   "execution_count": null,
   "id": "9ebb9fec",
   "metadata": {},
   "outputs": [
    {
     "data": {
      "text/html": [
       "<div><style>\n",
       ".dataframe > thead > tr,\n",
       ".dataframe > tbody > tr {\n",
       "  text-align: right;\n",
       "  white-space: pre-wrap;\n",
       "}\n",
       "</style>\n",
       "<small>shape: (331_987, 4)</small><table border=\"1\" class=\"dataframe\"><thead><tr><th>id</th><th>date</th><th>position</th><th>song</th></tr><tr><td>i64</td><td>date</td><td>u8</td><td>str</td></tr></thead><tbody><tr><td>339286</td><td>2025-04-26</td><td>1</td><td>&quot;Luther&quot;</td></tr><tr><td>339285</td><td>2025-04-26</td><td>2</td><td>&quot;Die With A Smile&quot;</td></tr><tr><td>339284</td><td>2025-04-26</td><td>3</td><td>&quot;Nokia&quot;</td></tr><tr><td>339283</td><td>2025-04-26</td><td>4</td><td>&quot;Pink Pony Club&quot;</td></tr><tr><td>339282</td><td>2025-04-26</td><td>5</td><td>&quot;Ordinary&quot;</td></tr><tr><td>339281</td><td>2025-04-26</td><td>6</td><td>&quot;A Bar Song (Tipsy)&quot;</td></tr><tr><td>339280</td><td>2025-04-26</td><td>7</td><td>&quot;Lose Control&quot;</td></tr><tr><td>339279</td><td>2025-04-26</td><td>8</td><td>&quot;All The Way&quot;</td></tr><tr><td>339278</td><td>2025-04-26</td><td>9</td><td>&quot;Beautiful Things&quot;</td></tr><tr><td>339277</td><td>2025-04-26</td><td>10</td><td>&quot;I&#x27;m The Problem&quot;</td></tr><tr><td>&hellip;</td><td>&hellip;</td><td>&hellip;</td><td>&hellip;</td></tr><tr><td>909</td><td>1960-04-02</td><td>91</td><td>&quot;Country Boy&quot;</td></tr><tr><td>908</td><td>1960-04-02</td><td>92</td><td>&quot;Cherry Pie&quot;</td></tr><tr><td>907</td><td>1960-04-02</td><td>93</td><td>&quot;Never Let Me Go&quot;</td></tr><tr><td>906</td><td>1960-04-02</td><td>94</td><td>&quot;Adam And Eve&quot;</td></tr><tr><td>905</td><td>1960-04-02</td><td>95</td><td>&quot;Mr. Lucky&quot;</td></tr><tr><td>904</td><td>1960-04-02</td><td>96</td><td>&quot;What Do You Want?&quot;</td></tr><tr><td>903</td><td>1960-04-02</td><td>97</td><td>&quot;El Paso&quot;</td></tr><tr><td>902</td><td>1960-04-02</td><td>98</td><td>&quot;Down By The Station&quot;</td></tr><tr><td>901</td><td>1960-04-02</td><td>99</td><td>&quot;Road Runner&quot;</td></tr><tr><td>900</td><td>1960-04-02</td><td>100</td><td>&quot;Lonely Blue Boy&quot;</td></tr></tbody></table></div>"
      ],
      "text/plain": [
       "shape: (331_987, 4)\n",
       "┌────────┬────────────┬──────────┬─────────────────────┐\n",
       "│ id     ┆ date       ┆ position ┆ song                │\n",
       "│ ---    ┆ ---        ┆ ---      ┆ ---                 │\n",
       "│ i64    ┆ date       ┆ u8       ┆ str                 │\n",
       "╞════════╪════════════╪══════════╪═════════════════════╡\n",
       "│ 339286 ┆ 2025-04-26 ┆ 1        ┆ Luther              │\n",
       "│ 339285 ┆ 2025-04-26 ┆ 2        ┆ Die With A Smile    │\n",
       "│ 339284 ┆ 2025-04-26 ┆ 3        ┆ Nokia               │\n",
       "│ 339283 ┆ 2025-04-26 ┆ 4        ┆ Pink Pony Club      │\n",
       "│ 339282 ┆ 2025-04-26 ┆ 5        ┆ Ordinary            │\n",
       "│ 339281 ┆ 2025-04-26 ┆ 6        ┆ A Bar Song (Tipsy)  │\n",
       "│ 339280 ┆ 2025-04-26 ┆ 7        ┆ Lose Control        │\n",
       "│ 339279 ┆ 2025-04-26 ┆ 8        ┆ All The Way         │\n",
       "│ 339278 ┆ 2025-04-26 ┆ 9        ┆ Beautiful Things    │\n",
       "│ 339277 ┆ 2025-04-26 ┆ 10       ┆ I'm The Problem     │\n",
       "│ …      ┆ …          ┆ …        ┆ …                   │\n",
       "│ 909    ┆ 1960-04-02 ┆ 91       ┆ Country Boy         │\n",
       "│ 908    ┆ 1960-04-02 ┆ 92       ┆ Cherry Pie          │\n",
       "│ 907    ┆ 1960-04-02 ┆ 93       ┆ Never Let Me Go     │\n",
       "│ 906    ┆ 1960-04-02 ┆ 94       ┆ Adam And Eve        │\n",
       "│ 905    ┆ 1960-04-02 ┆ 95       ┆ Mr. Lucky           │\n",
       "│ 904    ┆ 1960-04-02 ┆ 96       ┆ What Do You Want?   │\n",
       "│ 903    ┆ 1960-04-02 ┆ 97       ┆ El Paso             │\n",
       "│ 902    ┆ 1960-04-02 ┆ 98       ┆ Down By The Station │\n",
       "│ 901    ┆ 1960-04-02 ┆ 99       ┆ Road Runner         │\n",
       "│ 900    ┆ 1960-04-02 ┆ 100      ┆ Lonely Blue Boy     │\n",
       "└────────┴────────────┴──────────┴─────────────────────┘"
      ]
     },
     "execution_count": 51,
     "metadata": {},
     "output_type": "execute_result"
    }
   ],
   "source": [
    "record_tbl"
   ]
  },
  {
   "cell_type": "code",
   "execution_count": 82,
   "id": "7dffdac5",
   "metadata": {},
   "outputs": [],
   "source": [
    "def artist_table(lf: pl.LazyFrame) -> pl.DataFrame:\n",
    "    return lf.select(\n",
    "        pl.col(\"artist\")\n",
    "        .str.split(\" Featuring \")\n",
    "        .list.first().str.split(\" With \")\n",
    "        .list.eval(pl.element().str.split(\"&\"))\n",
    "        .explode().explode()\n",
    "    ).reverse().with_row_index(\"id\").collect()"
   ]
  },
  {
   "cell_type": "code",
   "execution_count": 83,
   "id": "12f8c76d",
   "metadata": {},
   "outputs": [
    {
     "data": {
      "text/html": [
       "<div><style>\n",
       ".dataframe > thead > tr,\n",
       ".dataframe > tbody > tr {\n",
       "  text-align: right;\n",
       "  white-space: pre-wrap;\n",
       "}\n",
       "</style>\n",
       "<small>shape: (364_999, 2)</small><table border=\"1\" class=\"dataframe\"><thead><tr><th>id</th><th>artist</th></tr><tr><td>u32</td><td>str</td></tr></thead><tbody><tr><td>0</td><td>&quot;The Kirby Stone Four&quot;</td></tr><tr><td>1</td><td>&quot;Nat King Cole&quot;</td></tr><tr><td>2</td><td>&quot;Eydie Gorme&quot;</td></tr><tr><td>3</td><td>&quot;Tennessee Ernie Ford&quot;</td></tr><tr><td>4</td><td>&quot;Jimmy Reed&quot;</td></tr><tr><td>5</td><td>&quot;The Champs&quot;</td></tr><tr><td>6</td><td>&quot;The Champs&quot;</td></tr><tr><td>7</td><td>&quot; Johnny&quot;</td></tr><tr><td>8</td><td>&quot;Robert &quot;</td></tr><tr><td>9</td><td>&quot;Billy Vaughn And His Orchestra&quot;</td></tr><tr><td>&hellip;</td><td>&hellip;</td></tr><tr><td>364989</td><td>&quot;BigXthaPlug&quot;</td></tr><tr><td>364990</td><td>&quot;Teddy Swims&quot;</td></tr><tr><td>364991</td><td>&quot;Shaboozey&quot;</td></tr><tr><td>364992</td><td>&quot;Alex Warren&quot;</td></tr><tr><td>364993</td><td>&quot;Chappell Roan&quot;</td></tr><tr><td>364994</td><td>&quot;Drake&quot;</td></tr><tr><td>364995</td><td>&quot; Bruno Mars&quot;</td></tr><tr><td>364996</td><td>&quot;Lady Gaga &quot;</td></tr><tr><td>364997</td><td>&quot; SZA&quot;</td></tr><tr><td>364998</td><td>&quot;Kendrick Lamar &quot;</td></tr></tbody></table></div>"
      ],
      "text/plain": [
       "shape: (364_999, 2)\n",
       "┌────────┬────────────────────────────────┐\n",
       "│ id     ┆ artist                         │\n",
       "│ ---    ┆ ---                            │\n",
       "│ u32    ┆ str                            │\n",
       "╞════════╪════════════════════════════════╡\n",
       "│ 0      ┆ The Kirby Stone Four           │\n",
       "│ 1      ┆ Nat King Cole                  │\n",
       "│ 2      ┆ Eydie Gorme                    │\n",
       "│ 3      ┆ Tennessee Ernie Ford           │\n",
       "│ 4      ┆ Jimmy Reed                     │\n",
       "│ 5      ┆ The Champs                     │\n",
       "│ 6      ┆ The Champs                     │\n",
       "│ 7      ┆  Johnny                        │\n",
       "│ 8      ┆ Robert                         │\n",
       "│ 9      ┆ Billy Vaughn And His Orchestra │\n",
       "│ …      ┆ …                              │\n",
       "│ 364989 ┆ BigXthaPlug                    │\n",
       "│ 364990 ┆ Teddy Swims                    │\n",
       "│ 364991 ┆ Shaboozey                      │\n",
       "│ 364992 ┆ Alex Warren                    │\n",
       "│ 364993 ┆ Chappell Roan                  │\n",
       "│ 364994 ┆ Drake                          │\n",
       "│ 364995 ┆  Bruno Mars                    │\n",
       "│ 364996 ┆ Lady Gaga                      │\n",
       "│ 364997 ┆  SZA                           │\n",
       "│ 364998 ┆ Kendrick Lamar                 │\n",
       "└────────┴────────────────────────────────┘"
      ]
     },
     "execution_count": 83,
     "metadata": {},
     "output_type": "execute_result"
    }
   ],
   "source": [
    "artist_table(lf)"
   ]
  },
  {
   "cell_type": "code",
   "execution_count": 84,
   "id": "0bdf5b85",
   "metadata": {},
   "outputs": [
    {
     "data": {
      "text/html": [
       "<div><style>\n",
       ".dataframe > thead > tr,\n",
       ".dataframe > tbody > tr {\n",
       "  text-align: right;\n",
       "  white-space: pre-wrap;\n",
       "}\n",
       "</style>\n",
       "<small>shape: (339_287, 5)</small><table border=\"1\" class=\"dataframe\"><thead><tr><th>position</th><th>date</th><th>song</th><th>artist</th><th>wks_on_chart</th></tr><tr><td>i64</td><td>str</td><td>str</td><td>str</td><td>str</td></tr></thead><tbody><tr><td>1</td><td>&quot;2025-04-26&quot;</td><td>&quot;Luther&quot;</td><td>&quot;Kendrick Lamar &amp; SZA&quot;</td><td>&quot;21&quot;</td></tr><tr><td>2</td><td>&quot;2025-04-26&quot;</td><td>&quot;Die With A Smile&quot;</td><td>&quot;Lady Gaga &amp; Bruno Mars&quot;</td><td>&quot;35&quot;</td></tr><tr><td>3</td><td>&quot;2025-04-26&quot;</td><td>&quot;Nokia&quot;</td><td>&quot;Drake&quot;</td><td>&quot;9&quot;</td></tr><tr><td>4</td><td>&quot;2025-04-26&quot;</td><td>&quot;Pink Pony Club&quot;</td><td>&quot;Chappell Roan&quot;</td><td>&quot;44&quot;</td></tr><tr><td>5</td><td>&quot;2025-04-26&quot;</td><td>&quot;Ordinary&quot;</td><td>&quot;Alex Warren&quot;</td><td>&quot;10&quot;</td></tr><tr><td>6</td><td>&quot;2025-04-26&quot;</td><td>&quot;A Bar Song (Tipsy)&quot;</td><td>&quot;Shaboozey&quot;</td><td>&quot;53&quot;</td></tr><tr><td>7</td><td>&quot;2025-04-26&quot;</td><td>&quot;Lose Control&quot;</td><td>&quot;Teddy Swims&quot;</td><td>&quot;87&quot;</td></tr><tr><td>8</td><td>&quot;2025-04-26&quot;</td><td>&quot;All The Way&quot;</td><td>&quot;BigXthaPlug Featuring Bailey Z…</td><td>&quot;2&quot;</td></tr><tr><td>9</td><td>&quot;2025-04-26&quot;</td><td>&quot;Beautiful Things&quot;</td><td>&quot;Benson Boone&quot;</td><td>&quot;64&quot;</td></tr><tr><td>10</td><td>&quot;2025-04-26&quot;</td><td>&quot;I&#x27;m The Problem&quot;</td><td>&quot;Morgan Wallen&quot;</td><td>&quot;11&quot;</td></tr><tr><td>&hellip;</td><td>&hellip;</td><td>&hellip;</td><td>&hellip;</td><td>&hellip;</td></tr><tr><td>91</td><td>&quot;1958-08-09&quot;</td><td>&quot;All I Have To Do Is Dream&quot;</td><td>&quot;The Everly Brothers&quot;</td><td>&quot;2&quot;</td></tr><tr><td>92</td><td>&quot;1958-08-09&quot;</td><td>&quot;La Paloma&quot;</td><td>&quot;Billy Vaughn And His Orchestra&quot;</td><td>&quot;1&quot;</td></tr><tr><td>93</td><td>&quot;1958-08-09&quot;</td><td>&quot;I Believe In You&quot;</td><td>&quot;Robert &amp; Johnny&quot;</td><td>&quot;2&quot;</td></tr><tr><td>94</td><td>&quot;1958-08-09&quot;</td><td>&quot;Midnighter&quot;</td><td>&quot;The Champs&quot;</td><td>&quot;1&quot;</td></tr><tr><td>95</td><td>&quot;1958-08-09&quot;</td><td>&quot;Chariot Rock&quot;</td><td>&quot;The Champs&quot;</td><td>&quot;1&quot;</td></tr><tr><td>96</td><td>&quot;1958-08-09&quot;</td><td>&quot;Down In Virginia&quot;</td><td>&quot;Jimmy Reed&quot;</td><td>&quot;1&quot;</td></tr><tr><td>97</td><td>&quot;1958-08-09&quot;</td><td>&quot;Sunday Barbecue&quot;</td><td>&quot;Tennessee Ernie Ford&quot;</td><td>&quot;1&quot;</td></tr><tr><td>98</td><td>&quot;1958-08-09&quot;</td><td>&quot;Gotta Have Rain&quot;</td><td>&quot;Eydie Gorme&quot;</td><td>&quot;2&quot;</td></tr><tr><td>99</td><td>&quot;1958-08-09&quot;</td><td>&quot;Nothing In The World&quot;</td><td>&quot;Nat King Cole&quot;</td><td>&quot;1&quot;</td></tr><tr><td>100</td><td>&quot;1958-08-09&quot;</td><td>&quot;Baubles, Bangles And Beads&quot;</td><td>&quot;The Kirby Stone Four&quot;</td><td>&quot;2&quot;</td></tr></tbody></table></div>"
      ],
      "text/plain": [
       "shape: (339_287, 5)\n",
       "┌──────────┬────────────┬────────────────────────────┬──────────────────────────────┬──────────────┐\n",
       "│ position ┆ date       ┆ song                       ┆ artist                       ┆ wks_on_chart │\n",
       "│ ---      ┆ ---        ┆ ---                        ┆ ---                          ┆ ---          │\n",
       "│ i64      ┆ str        ┆ str                        ┆ str                          ┆ str          │\n",
       "╞══════════╪════════════╪════════════════════════════╪══════════════════════════════╪══════════════╡\n",
       "│ 1        ┆ 2025-04-26 ┆ Luther                     ┆ Kendrick Lamar & SZA         ┆ 21           │\n",
       "│ 2        ┆ 2025-04-26 ┆ Die With A Smile           ┆ Lady Gaga & Bruno Mars       ┆ 35           │\n",
       "│ 3        ┆ 2025-04-26 ┆ Nokia                      ┆ Drake                        ┆ 9            │\n",
       "│ 4        ┆ 2025-04-26 ┆ Pink Pony Club             ┆ Chappell Roan                ┆ 44           │\n",
       "│ 5        ┆ 2025-04-26 ┆ Ordinary                   ┆ Alex Warren                  ┆ 10           │\n",
       "│ 6        ┆ 2025-04-26 ┆ A Bar Song (Tipsy)         ┆ Shaboozey                    ┆ 53           │\n",
       "│ 7        ┆ 2025-04-26 ┆ Lose Control               ┆ Teddy Swims                  ┆ 87           │\n",
       "│ 8        ┆ 2025-04-26 ┆ All The Way                ┆ BigXthaPlug Featuring Bailey ┆ 2            │\n",
       "│          ┆            ┆                            ┆ Z…                           ┆              │\n",
       "│ 9        ┆ 2025-04-26 ┆ Beautiful Things           ┆ Benson Boone                 ┆ 64           │\n",
       "│ 10       ┆ 2025-04-26 ┆ I'm The Problem            ┆ Morgan Wallen                ┆ 11           │\n",
       "│ …        ┆ …          ┆ …                          ┆ …                            ┆ …            │\n",
       "│ 91       ┆ 1958-08-09 ┆ All I Have To Do Is Dream  ┆ The Everly Brothers          ┆ 2            │\n",
       "│ 92       ┆ 1958-08-09 ┆ La Paloma                  ┆ Billy Vaughn And His         ┆ 1            │\n",
       "│          ┆            ┆                            ┆ Orchestra                    ┆              │\n",
       "│ 93       ┆ 1958-08-09 ┆ I Believe In You           ┆ Robert & Johnny              ┆ 2            │\n",
       "│ 94       ┆ 1958-08-09 ┆ Midnighter                 ┆ The Champs                   ┆ 1            │\n",
       "│ 95       ┆ 1958-08-09 ┆ Chariot Rock               ┆ The Champs                   ┆ 1            │\n",
       "│ 96       ┆ 1958-08-09 ┆ Down In Virginia           ┆ Jimmy Reed                   ┆ 1            │\n",
       "│ 97       ┆ 1958-08-09 ┆ Sunday Barbecue            ┆ Tennessee Ernie Ford         ┆ 1            │\n",
       "│ 98       ┆ 1958-08-09 ┆ Gotta Have Rain            ┆ Eydie Gorme                  ┆ 2            │\n",
       "│ 99       ┆ 1958-08-09 ┆ Nothing In The World       ┆ Nat King Cole                ┆ 1            │\n",
       "│ 100      ┆ 1958-08-09 ┆ Baubles, Bangles And Beads ┆ The Kirby Stone Four         ┆ 2            │\n",
       "└──────────┴────────────┴────────────────────────────┴──────────────────────────────┴──────────────┘"
      ]
     },
     "execution_count": 84,
     "metadata": {},
     "output_type": "execute_result"
    }
   ],
   "source": [
    "lf.collect()"
   ]
  },
  {
   "cell_type": "code",
   "execution_count": null,
   "id": "23520a4d",
   "metadata": {},
   "outputs": [],
   "source": [
    "def records_table(lf) -> pl.DataFrame:\n",
    "    "
   ]
  },
  {
   "cell_type": "code",
   "execution_count": null,
   "id": "d173b3a1",
   "metadata": {},
   "outputs": [],
   "source": []
  },
  {
   "cell_type": "code",
   "execution_count": 79,
   "id": "8e9eaa6c",
   "metadata": {},
   "outputs": [],
   "source": [
    "def get_artist_table(df, record_lf) -> pl.DataFrame:\n",
    "    cols = [\"artists\", \"features\"]\n",
    "    lfs = []\n",
    "    for col in cols:\n",
    "        lfs.append(df.lazy().explode(col).group_by(col).agg(\n",
    "            power=pl.mean(\"power\"),\n",
    "            longevity=pl.mean(\"longevity\"),\n",
    "            artist_percentile=pl.mean(\"percentile\"),\n",
    "            earliest=pl.col(\"earliest\").min(),\n",
    "            latest=pl.col(\"latest\").max(),\n",
    "            top_track=pl.col(\"song\").filter(percentile=pl.max(\"percentile\")).first(),\n",
    "            top_track_id=pl.col(\"track_id\").filter(percentile=pl.max(\"percentile\")).first(),\n",
    "            num_tracks=pl.len().cast(pl.UInt32),\n",
    "            weeks_on_chart=pl.sum(\"weeks_on_chart\"),\n",
    "        ).sort(\"earliest\", descending=True).with_row_index(\"id\")\n",
    "        .join(record_lf.lazy().explode(col).group_by(col).agg(\n",
    "            peak_position=pl.min(\"position\")\n",
    "        ), how=\"inner\", on=col).select([\n",
    "            \"id\",\n",
    "            col,\n",
    "            \"power\",\n",
    "            \"longevity\",\n",
    "            \"artist_percentile\",\n",
    "            \"top_track\",\n",
    "            \"top_track_id\",\n",
    "            \"earliest\",\n",
    "            \"latest\",\n",
    "            \"weeks_on_chart\",\n",
    "            \"num_tracks\",\n",
    "            \"peak_position\"\n",
    "        ]).rename({col: \"artist\"}).collect())\n",
    "    return lfs[0].vstack(lfs[1])"
   ]
  },
  {
   "cell_type": "code",
   "execution_count": 80,
   "id": "48973db3",
   "metadata": {},
   "outputs": [],
   "source": [
    "artist_tbl = get_artist_table(song_tbl, record_tbl)"
   ]
  },
  {
   "cell_type": "code",
   "execution_count": 81,
   "id": "efaf340b",
   "metadata": {},
   "outputs": [
    {
     "data": {
      "text/html": [
       "<div><style>\n",
       ".dataframe > thead > tr,\n",
       ".dataframe > tbody > tr {\n",
       "  text-align: right;\n",
       "  white-space: pre-wrap;\n",
       "}\n",
       "</style>\n",
       "<small>shape: (9_291, 12)</small><table border=\"1\" class=\"dataframe\"><thead><tr><th>id</th><th>artist</th><th>power</th><th>longevity</th><th>artist_percentile</th><th>top_track</th><th>top_track_id</th><th>earliest</th><th>latest</th><th>weeks_on_chart</th><th>num_tracks</th><th>peak_position</th></tr><tr><td>u32</td><td>str</td><td>f64</td><td>f64</td><td>f64</td><td>str</td><td>u32</td><td>date</td><td>date</td><td>u32</td><td>u32</td><td>u8</td></tr></thead><tbody><tr><td>3460</td><td>&quot;Matthew Sweet&quot;</td><td>6.48</td><td>7.67</td><td>70.74</td><td>&quot;Sick Of Myself&quot;</td><td>21344</td><td>1995-05-27</td><td>1995-10-07</td><td>20</td><td>1</td><td>58</td></tr><tr><td>7891</td><td>&quot; Kim Weston&quot;</td><td>5.35</td><td>4.85</td><td>51.01</td><td>&quot;It Takes Two&quot;</td><td>8699</td><td>1964-10-24</td><td>1967-03-25</td><td>17</td><td>2</td><td>14</td></tr><tr><td>1033</td><td>&quot; Khalid&quot;</td><td>7.54</td><td>8.32</td><td>79.29</td><td>&quot;Eastside&quot;</td><td>4362</td><td>2018-06-09</td><td>2022-10-29</td><td>90</td><td>3</td><td>9</td></tr><tr><td>6039</td><td>&quot;Paul Anka/Odia Coates&quot;</td><td>7.72</td><td>6.90</td><td>73.11</td><td>&quot;(I Believe) There&#x27;s Nothing St…</td><td>19645</td><td>1975-07-26</td><td>1975-10-18</td><td>13</td><td>1</td><td>15</td></tr><tr><td>660</td><td>&quot; Juhn&quot;</td><td>2.67</td><td>2.81</td><td>27.38</td><td>&quot;Bandido&quot;</td><td>14683</td><td>2021-02-20</td><td>2021-04-03</td><td>5</td><td>1</td><td>82</td></tr><tr><td>8390</td><td>&quot;Nathaniel Mayer And The Fabulo…</td><td>6.78</td><td>6.27</td><td>65.26</td><td>&quot;Village Of Love&quot;</td><td>17086</td><td>1962-04-28</td><td>1962-07-14</td><td>12</td><td>1</td><td>22</td></tr><tr><td>3011</td><td>&quot;Memphis Bleek (&quot;</td><td>5.16</td><td>5.76</td><td>54.61</td><td>&quot;It&#x27;s Alright&quot;</td><td>14155</td><td>1998-08-08</td><td>1998-10-24</td><td>12</td><td>1</td><td>61</td></tr><tr><td>4609</td><td>&quot;Patti LaBelle &quot;</td><td>9.82</td><td>9.72</td><td>97.71</td><td>&quot;On My Own&quot;</td><td>8861</td><td>1986-03-22</td><td>1986-08-23</td><td>23</td><td>1</td><td>1</td></tr><tr><td>132</td><td>&quot;Gracie Abrams&quot;</td><td>5.18</td><td>5.57</td><td>53.73</td><td>&quot;That&#x27;s So True&quot;</td><td>2087</td><td>2024-06-22</td><td>2025-05-31</td><td>76</td><td>5</td><td>6</td></tr><tr><td>5504</td><td>&quot;Arpeggio&quot;</td><td>2.83</td><td>2.94</td><td>28.84</td><td>&quot;Love And Desire (Part I)&quot;</td><td>29027</td><td>1979-03-10</td><td>1979-04-07</td><td>5</td><td>1</td><td>70</td></tr><tr><td>&hellip;</td><td>&hellip;</td><td>&hellip;</td><td>&hellip;</td><td>&hellip;</td><td>&hellip;</td><td>&hellip;</td><td>&hellip;</td><td>&hellip;</td><td>&hellip;</td><td>&hellip;</td><td>&hellip;</td></tr><tr><td>19</td><td>&quot;Henri Rene And His Orchestra&quot;</td><td>7.09</td><td>6.44</td><td>67.64</td><td>&quot;Santa Baby&quot;</td><td>30707</td><td>2021-12-25</td><td>2025-01-04</td><td>12</td><td>1</td><td>20</td></tr><tr><td>222</td><td>&quot; John Scott Trotter &quot;</td><td>9.12</td><td>9.69</td><td>94.03</td><td>&quot;White Christmas (1947)&quot;</td><td>28598</td><td>1960-12-10</td><td>2025-01-04</td><td>37</td><td>1</td><td>12</td></tr><tr><td>99</td><td>&quot;Steve Wariner&quot;</td><td>6.93</td><td>7.87</td><td>74.03</td><td>&quot;Been There&quot;</td><td>19592</td><td>2000-02-19</td><td>2000-07-01</td><td>20</td><td>1</td><td>44</td></tr><tr><td>223</td><td>&quot;Ken Darby Singers &quot;</td><td>9.12</td><td>9.69</td><td>94.03</td><td>&quot;White Christmas (1947)&quot;</td><td>28598</td><td>1960-12-10</td><td>2025-01-04</td><td>37</td><td>1</td><td>12</td></tr><tr><td>136</td><td>&quot; Rakim&quot;</td><td>8.42</td><td>8.37</td><td>83.95</td><td>&quot;Friends&quot;</td><td>2525</td><td>1989-06-17</td><td>1989-10-14</td><td>18</td><td>1</td><td>9</td></tr><tr><td>56</td><td>&quot;Justin Bieber&quot;</td><td>9.33</td><td>9.79</td><td>95.61</td><td>&quot;Where Are U Now&quot;</td><td>2294</td><td>2015-03-21</td><td>2016-01-09</td><td>42</td><td>1</td><td>8</td></tr><tr><td>47</td><td>&quot;Mitchell Ayres And His Orchest…</td><td>8.94</td><td>9.35</td><td>91.43</td><td>&quot;It&#x27;s Beginning To Look A Lot L…</td><td>17326</td><td>2018-12-29</td><td>2025-01-04</td><td>27</td><td>1</td><td>12</td></tr><tr><td>46</td><td>&quot;The Harlem Community Choir&quot;</td><td>4.70</td><td>3.76</td><td>42.32</td><td>&quot;Happy Xmas (War Is Over)&quot;</td><td>8710</td><td>2018-12-29</td><td>2024-01-06</td><td>6</td><td>1</td><td>38</td></tr><tr><td>159</td><td>&quot;Mr Ness &quot;</td><td>1.37</td><td>1.44</td><td>14.08</td><td>&quot;Beatstreet&quot;</td><td>6023</td><td>1984-08-04</td><td>1984-08-11</td><td>2</td><td>1</td><td>86</td></tr><tr><td>144</td><td>&quot;Vonda Shepard)&quot;</td><td>8.84</td><td>8.92</td><td>88.79</td><td>&quot;Can&#x27;t We Try&quot;</td><td>30447</td><td>1987-06-06</td><td>1987-11-14</td><td>21</td><td>1</td><td>6</td></tr></tbody></table></div>"
      ],
      "text/plain": [
       "shape: (9_291, 12)\n",
       "┌──────┬────────┬───────┬────────┬────────┬────────┬───────┬───────┬───────┬───────┬───────┬───────┐\n",
       "│ id   ┆ artist ┆ power ┆ longev ┆ artist ┆ top_tr ┆ top_t ┆ earli ┆ lates ┆ weeks ┆ num_t ┆ peak_ │\n",
       "│ ---  ┆ ---    ┆ ---   ┆ ity    ┆ _perce ┆ ack    ┆ rack_ ┆ est   ┆ t     ┆ _on_c ┆ racks ┆ posit │\n",
       "│ u32  ┆ str    ┆ f64   ┆ ---    ┆ ntile  ┆ ---    ┆ id    ┆ ---   ┆ ---   ┆ hart  ┆ ---   ┆ ion   │\n",
       "│      ┆        ┆       ┆ f64    ┆ ---    ┆ str    ┆ ---   ┆ date  ┆ date  ┆ ---   ┆ u32   ┆ ---   │\n",
       "│      ┆        ┆       ┆        ┆ f64    ┆        ┆ u32   ┆       ┆       ┆ u32   ┆       ┆ u8    │\n",
       "╞══════╪════════╪═══════╪════════╪════════╪════════╪═══════╪═══════╪═══════╪═══════╪═══════╪═══════╡\n",
       "│ 3460 ┆ Matthe ┆ 6.48  ┆ 7.67   ┆ 70.74  ┆ Sick   ┆ 21344 ┆ 1995- ┆ 1995- ┆ 20    ┆ 1     ┆ 58    │\n",
       "│      ┆ w      ┆       ┆        ┆        ┆ Of     ┆       ┆ 05-27 ┆ 10-07 ┆       ┆       ┆       │\n",
       "│      ┆ Sweet  ┆       ┆        ┆        ┆ Myself ┆       ┆       ┆       ┆       ┆       ┆       │\n",
       "│ 7891 ┆ Kim    ┆ 5.35  ┆ 4.85   ┆ 51.01  ┆ It     ┆ 8699  ┆ 1964- ┆ 1967- ┆ 17    ┆ 2     ┆ 14    │\n",
       "│      ┆ Weston ┆       ┆        ┆        ┆ Takes  ┆       ┆ 10-24 ┆ 03-25 ┆       ┆       ┆       │\n",
       "│      ┆        ┆       ┆        ┆        ┆ Two    ┆       ┆       ┆       ┆       ┆       ┆       │\n",
       "│ 1033 ┆ Khalid ┆ 7.54  ┆ 8.32   ┆ 79.29  ┆ Eastsi ┆ 4362  ┆ 2018- ┆ 2022- ┆ 90    ┆ 3     ┆ 9     │\n",
       "│      ┆        ┆       ┆        ┆        ┆ de     ┆       ┆ 06-09 ┆ 10-29 ┆       ┆       ┆       │\n",
       "│ 6039 ┆ Paul   ┆ 7.72  ┆ 6.90   ┆ 73.11  ┆ (I Bel ┆ 19645 ┆ 1975- ┆ 1975- ┆ 13    ┆ 1     ┆ 15    │\n",
       "│      ┆ Anka/O ┆       ┆        ┆        ┆ ieve)  ┆       ┆ 07-26 ┆ 10-18 ┆       ┆       ┆       │\n",
       "│      ┆ dia    ┆       ┆        ┆        ┆ There' ┆       ┆       ┆       ┆       ┆       ┆       │\n",
       "│      ┆ Coates ┆       ┆        ┆        ┆ s Noth ┆       ┆       ┆       ┆       ┆       ┆       │\n",
       "│      ┆        ┆       ┆        ┆        ┆ ing    ┆       ┆       ┆       ┆       ┆       ┆       │\n",
       "│      ┆        ┆       ┆        ┆        ┆ St…    ┆       ┆       ┆       ┆       ┆       ┆       │\n",
       "│ 660  ┆  Juhn  ┆ 2.67  ┆ 2.81   ┆ 27.38  ┆ Bandid ┆ 14683 ┆ 2021- ┆ 2021- ┆ 5     ┆ 1     ┆ 82    │\n",
       "│      ┆        ┆       ┆        ┆        ┆ o      ┆       ┆ 02-20 ┆ 04-03 ┆       ┆       ┆       │\n",
       "│ 8390 ┆ Nathan ┆ 6.78  ┆ 6.27   ┆ 65.26  ┆ Villag ┆ 17086 ┆ 1962- ┆ 1962- ┆ 12    ┆ 1     ┆ 22    │\n",
       "│      ┆ iel    ┆       ┆        ┆        ┆ e Of   ┆       ┆ 04-28 ┆ 07-14 ┆       ┆       ┆       │\n",
       "│      ┆ Mayer  ┆       ┆        ┆        ┆ Love   ┆       ┆       ┆       ┆       ┆       ┆       │\n",
       "│      ┆ And    ┆       ┆        ┆        ┆        ┆       ┆       ┆       ┆       ┆       ┆       │\n",
       "│      ┆ The    ┆       ┆        ┆        ┆        ┆       ┆       ┆       ┆       ┆       ┆       │\n",
       "│      ┆ Fabulo ┆       ┆        ┆        ┆        ┆       ┆       ┆       ┆       ┆       ┆       │\n",
       "│      ┆ …      ┆       ┆        ┆        ┆        ┆       ┆       ┆       ┆       ┆       ┆       │\n",
       "│ 3011 ┆ Memphi ┆ 5.16  ┆ 5.76   ┆ 54.61  ┆ It's   ┆ 14155 ┆ 1998- ┆ 1998- ┆ 12    ┆ 1     ┆ 61    │\n",
       "│      ┆ s      ┆       ┆        ┆        ┆ Alrigh ┆       ┆ 08-08 ┆ 10-24 ┆       ┆       ┆       │\n",
       "│      ┆ Bleek  ┆       ┆        ┆        ┆ t      ┆       ┆       ┆       ┆       ┆       ┆       │\n",
       "│      ┆ (      ┆       ┆        ┆        ┆        ┆       ┆       ┆       ┆       ┆       ┆       │\n",
       "│ 4609 ┆ Patti  ┆ 9.82  ┆ 9.72   ┆ 97.71  ┆ On My  ┆ 8861  ┆ 1986- ┆ 1986- ┆ 23    ┆ 1     ┆ 1     │\n",
       "│      ┆ LaBell ┆       ┆        ┆        ┆ Own    ┆       ┆ 03-22 ┆ 08-23 ┆       ┆       ┆       │\n",
       "│      ┆ e      ┆       ┆        ┆        ┆        ┆       ┆       ┆       ┆       ┆       ┆       │\n",
       "│ 132  ┆ Gracie ┆ 5.18  ┆ 5.57   ┆ 53.73  ┆ That's ┆ 2087  ┆ 2024- ┆ 2025- ┆ 76    ┆ 5     ┆ 6     │\n",
       "│      ┆ Abrams ┆       ┆        ┆        ┆ So     ┆       ┆ 06-22 ┆ 05-31 ┆       ┆       ┆       │\n",
       "│      ┆        ┆       ┆        ┆        ┆ True   ┆       ┆       ┆       ┆       ┆       ┆       │\n",
       "│ 5504 ┆ Arpegg ┆ 2.83  ┆ 2.94   ┆ 28.84  ┆ Love   ┆ 29027 ┆ 1979- ┆ 1979- ┆ 5     ┆ 1     ┆ 70    │\n",
       "│      ┆ io     ┆       ┆        ┆        ┆ And    ┆       ┆ 03-10 ┆ 04-07 ┆       ┆       ┆       │\n",
       "│      ┆        ┆       ┆        ┆        ┆ Desire ┆       ┆       ┆       ┆       ┆       ┆       │\n",
       "│      ┆        ┆       ┆        ┆        ┆ (Part  ┆       ┆       ┆       ┆       ┆       ┆       │\n",
       "│      ┆        ┆       ┆        ┆        ┆ I)     ┆       ┆       ┆       ┆       ┆       ┆       │\n",
       "│ …    ┆ …      ┆ …     ┆ …      ┆ …      ┆ …      ┆ …     ┆ …     ┆ …     ┆ …     ┆ …     ┆ …     │\n",
       "│ 19   ┆ Henri  ┆ 7.09  ┆ 6.44   ┆ 67.64  ┆ Santa  ┆ 30707 ┆ 2021- ┆ 2025- ┆ 12    ┆ 1     ┆ 20    │\n",
       "│      ┆ Rene   ┆       ┆        ┆        ┆ Baby   ┆       ┆ 12-25 ┆ 01-04 ┆       ┆       ┆       │\n",
       "│      ┆ And    ┆       ┆        ┆        ┆        ┆       ┆       ┆       ┆       ┆       ┆       │\n",
       "│      ┆ His    ┆       ┆        ┆        ┆        ┆       ┆       ┆       ┆       ┆       ┆       │\n",
       "│      ┆ Orches ┆       ┆        ┆        ┆        ┆       ┆       ┆       ┆       ┆       ┆       │\n",
       "│      ┆ tra    ┆       ┆        ┆        ┆        ┆       ┆       ┆       ┆       ┆       ┆       │\n",
       "│ 222  ┆ John   ┆ 9.12  ┆ 9.69   ┆ 94.03  ┆ White  ┆ 28598 ┆ 1960- ┆ 2025- ┆ 37    ┆ 1     ┆ 12    │\n",
       "│      ┆ Scott  ┆       ┆        ┆        ┆ Christ ┆       ┆ 12-10 ┆ 01-04 ┆       ┆       ┆       │\n",
       "│      ┆ Trotte ┆       ┆        ┆        ┆ mas    ┆       ┆       ┆       ┆       ┆       ┆       │\n",
       "│      ┆ r      ┆       ┆        ┆        ┆ (1947) ┆       ┆       ┆       ┆       ┆       ┆       │\n",
       "│ 99   ┆ Steve  ┆ 6.93  ┆ 7.87   ┆ 74.03  ┆ Been   ┆ 19592 ┆ 2000- ┆ 2000- ┆ 20    ┆ 1     ┆ 44    │\n",
       "│      ┆ Warine ┆       ┆        ┆        ┆ There  ┆       ┆ 02-19 ┆ 07-01 ┆       ┆       ┆       │\n",
       "│      ┆ r      ┆       ┆        ┆        ┆        ┆       ┆       ┆       ┆       ┆       ┆       │\n",
       "│ 223  ┆ Ken    ┆ 9.12  ┆ 9.69   ┆ 94.03  ┆ White  ┆ 28598 ┆ 1960- ┆ 2025- ┆ 37    ┆ 1     ┆ 12    │\n",
       "│      ┆ Darby  ┆       ┆        ┆        ┆ Christ ┆       ┆ 12-10 ┆ 01-04 ┆       ┆       ┆       │\n",
       "│      ┆ Singer ┆       ┆        ┆        ┆ mas    ┆       ┆       ┆       ┆       ┆       ┆       │\n",
       "│      ┆ s      ┆       ┆        ┆        ┆ (1947) ┆       ┆       ┆       ┆       ┆       ┆       │\n",
       "│ 136  ┆  Rakim ┆ 8.42  ┆ 8.37   ┆ 83.95  ┆ Friend ┆ 2525  ┆ 1989- ┆ 1989- ┆ 18    ┆ 1     ┆ 9     │\n",
       "│      ┆        ┆       ┆        ┆        ┆ s      ┆       ┆ 06-17 ┆ 10-14 ┆       ┆       ┆       │\n",
       "│ 56   ┆ Justin ┆ 9.33  ┆ 9.79   ┆ 95.61  ┆ Where  ┆ 2294  ┆ 2015- ┆ 2016- ┆ 42    ┆ 1     ┆ 8     │\n",
       "│      ┆ Bieber ┆       ┆        ┆        ┆ Are U  ┆       ┆ 03-21 ┆ 01-09 ┆       ┆       ┆       │\n",
       "│      ┆        ┆       ┆        ┆        ┆ Now    ┆       ┆       ┆       ┆       ┆       ┆       │\n",
       "│ 47   ┆ Mitche ┆ 8.94  ┆ 9.35   ┆ 91.43  ┆ It's   ┆ 17326 ┆ 2018- ┆ 2025- ┆ 27    ┆ 1     ┆ 12    │\n",
       "│      ┆ ll     ┆       ┆        ┆        ┆ Beginn ┆       ┆ 12-29 ┆ 01-04 ┆       ┆       ┆       │\n",
       "│      ┆ Ayres  ┆       ┆        ┆        ┆ ing To ┆       ┆       ┆       ┆       ┆       ┆       │\n",
       "│      ┆ And    ┆       ┆        ┆        ┆ Look A ┆       ┆       ┆       ┆       ┆       ┆       │\n",
       "│      ┆ His    ┆       ┆        ┆        ┆ Lot L… ┆       ┆       ┆       ┆       ┆       ┆       │\n",
       "│      ┆ Orches ┆       ┆        ┆        ┆        ┆       ┆       ┆       ┆       ┆       ┆       │\n",
       "│      ┆ t…     ┆       ┆        ┆        ┆        ┆       ┆       ┆       ┆       ┆       ┆       │\n",
       "│ 46   ┆ The    ┆ 4.70  ┆ 3.76   ┆ 42.32  ┆ Happy  ┆ 8710  ┆ 2018- ┆ 2024- ┆ 6     ┆ 1     ┆ 38    │\n",
       "│      ┆ Harlem ┆       ┆        ┆        ┆ Xmas   ┆       ┆ 12-29 ┆ 01-06 ┆       ┆       ┆       │\n",
       "│      ┆ Commun ┆       ┆        ┆        ┆ (War   ┆       ┆       ┆       ┆       ┆       ┆       │\n",
       "│      ┆ ity    ┆       ┆        ┆        ┆ Is     ┆       ┆       ┆       ┆       ┆       ┆       │\n",
       "│      ┆ Choir  ┆       ┆        ┆        ┆ Over)  ┆       ┆       ┆       ┆       ┆       ┆       │\n",
       "│ 159  ┆ Mr     ┆ 1.37  ┆ 1.44   ┆ 14.08  ┆ Beatst ┆ 6023  ┆ 1984- ┆ 1984- ┆ 2     ┆ 1     ┆ 86    │\n",
       "│      ┆ Ness   ┆       ┆        ┆        ┆ reet   ┆       ┆ 08-04 ┆ 08-11 ┆       ┆       ┆       │\n",
       "│ 144  ┆ Vonda  ┆ 8.84  ┆ 8.92   ┆ 88.79  ┆ Can't  ┆ 30447 ┆ 1987- ┆ 1987- ┆ 21    ┆ 1     ┆ 6     │\n",
       "│      ┆ Shepar ┆       ┆        ┆        ┆ We Try ┆       ┆ 06-06 ┆ 11-14 ┆       ┆       ┆       │\n",
       "│      ┆ d)     ┆       ┆        ┆        ┆        ┆       ┆       ┆       ┆       ┆       ┆       │\n",
       "└──────┴────────┴───────┴────────┴────────┴────────┴───────┴───────┴───────┴───────┴───────┴───────┘"
      ]
     },
     "execution_count": 81,
     "metadata": {},
     "output_type": "execute_result"
    }
   ],
   "source": [
    "artist_tbl"
   ]
  },
  {
   "cell_type": "code",
   "execution_count": 205,
   "id": "9c9ccb88",
   "metadata": {},
   "outputs": [
    {
     "data": {
      "text/html": [
       "<div><style>\n",
       ".dataframe > thead > tr,\n",
       ".dataframe > tbody > tr {\n",
       "  text-align: right;\n",
       "  white-space: pre-wrap;\n",
       "}\n",
       "</style>\n",
       "<small>shape: (1, 13)</small><table border=\"1\" class=\"dataframe\"><thead><tr><th>track_id</th><th>song</th><th>artists</th><th>features</th><th>power_score</th><th>longevity_score</th><th>weeks_on_chart</th><th>proportion_top10</th><th>earliest</th><th>latest</th><th>decade</th><th>overall_percentile</th><th>decade_percentile</th></tr><tr><td>u32</td><td>str</td><td>list[str]</td><td>list[str]</td><td>f64</td><td>f64</td><td>u32</td><td>f64</td><td>date</td><td>date</td><td>cat</td><td>f64</td><td>f64</td></tr></thead><tbody><tr><td>4361</td><td>&quot;Young Wheezy&quot;</td><td>[&quot;NAV &quot;]</td><td>[&quot; Gunna&quot;]</td><td>0.01</td><td>0.23</td><td>1</td><td>0.00</td><td>2020-11-21</td><td>2020-11-21</td><td>&quot;2020s&quot;</td><td>5.30</td><td>13.15</td></tr></tbody></table></div>"
      ],
      "text/plain": [
       "shape: (1, 13)\n",
       "┌─────┬─────┬─────┬────────┬───────┬───────┬───────┬───────┬───────┬───────┬───────┬───────┬───────┐\n",
       "│ tra ┆ son ┆ art ┆ featur ┆ power ┆ longe ┆ weeks ┆ propo ┆ earli ┆ lates ┆ decad ┆ overa ┆ decad │\n",
       "│ ck_ ┆ g   ┆ ist ┆ es     ┆ _scor ┆ vity_ ┆ _on_c ┆ rtion ┆ est   ┆ t     ┆ e     ┆ ll_pe ┆ e_per │\n",
       "│ id  ┆ --- ┆ s   ┆ ---    ┆ e     ┆ score ┆ hart  ┆ _top1 ┆ ---   ┆ ---   ┆ ---   ┆ rcent ┆ centi │\n",
       "│ --- ┆ str ┆ --- ┆ list[s ┆ ---   ┆ ---   ┆ ---   ┆ 0     ┆ date  ┆ date  ┆ cat   ┆ ile   ┆ le    │\n",
       "│ u32 ┆     ┆ lis ┆ tr]    ┆ f64   ┆ f64   ┆ u32   ┆ ---   ┆       ┆       ┆       ┆ ---   ┆ ---   │\n",
       "│     ┆     ┆ t[s ┆        ┆       ┆       ┆       ┆ f64   ┆       ┆       ┆       ┆ f64   ┆ f64   │\n",
       "│     ┆     ┆ tr] ┆        ┆       ┆       ┆       ┆       ┆       ┆       ┆       ┆       ┆       │\n",
       "╞═════╪═════╪═════╪════════╪═══════╪═══════╪═══════╪═══════╪═══════╪═══════╪═══════╪═══════╪═══════╡\n",
       "│ 436 ┆ You ┆ [\"N ┆ [\" Gun ┆ 0.01  ┆ 0.23  ┆ 1     ┆ 0.00  ┆ 2020- ┆ 2020- ┆ 2020s ┆ 5.30  ┆ 13.15 │\n",
       "│ 1   ┆ ng  ┆ AV  ┆ na\"]   ┆       ┆       ┆       ┆       ┆ 11-21 ┆ 11-21 ┆       ┆       ┆       │\n",
       "│     ┆ Whe ┆ \"]  ┆        ┆       ┆       ┆       ┆       ┆       ┆       ┆       ┆       ┆       │\n",
       "│     ┆ ezy ┆     ┆        ┆       ┆       ┆       ┆       ┆       ┆       ┆       ┆       ┆       │\n",
       "└─────┴─────┴─────┴────────┴───────┴───────┴───────┴───────┴───────┴───────┴───────┴───────┴───────┘"
      ]
     },
     "execution_count": 205,
     "metadata": {},
     "output_type": "execute_result"
    }
   ],
   "source": [
    "song_tbl.filter(pl.col(\"track_id\") == 4361)"
   ]
  }
 ],
 "metadata": {
  "kernelspec": {
   "display_name": ".venv",
   "language": "python",
   "name": "python3"
  },
  "language_info": {
   "codemirror_mode": {
    "name": "ipython",
    "version": 3
   },
   "file_extension": ".py",
   "mimetype": "text/x-python",
   "name": "python",
   "nbconvert_exporter": "python",
   "pygments_lexer": "ipython3",
   "version": "3.13.2"
  }
 },
 "nbformat": 4,
 "nbformat_minor": 5
}
