{
 "cells": [
  {
   "cell_type": "code",
   "execution_count": 61,
   "id": "56cb0b43-0924-4e1d-ac4b-65fd8afe6dc9",
   "metadata": {},
   "outputs": [],
   "source": [
    "from bs4 import BeautifulSoup\n",
    "import pandas as pd\n",
    "import numpy as np\n",
    "import httpx\n",
    "import asyncio\n",
    "import datetime as dt\n",
    "import time\n",
    "import pylint\n",
    "import lxml\n",
    "import fastparquet"
   ]
  },
  {
   "cell_type": "code",
   "execution_count": 47,
   "id": "e6b8d5f2-5476-40e3-9efb-00f642fc4548",
   "metadata": {},
   "outputs": [],
   "source": [
    "def date_generator(start_dt,end_dt,num_charts):\n",
    "    curr_dt = end_dt\n",
    "    if num_charts is not None:\n",
    "        for _ in range(num_charts):\n",
    "            yield curr_dt\n",
    "            curr_dt -= dt.timedelta(weeks=1)\n",
    "    else:\n",
    "        while curr_dt > start_dt:\n",
    "            yield curr_dt\n",
    "            curr_dt -= dt.timedelta(weeks=1)"
   ]
  },
  {
   "cell_type": "code",
   "execution_count": 48,
   "id": "158a9a33-c142-496c-a0d5-85bfd2dae711",
   "metadata": {},
   "outputs": [],
   "source": [
    "async def fetch_url(date,client):\n",
    "        r = await client.get(date.strftime('%Y-%m-%d')+\"/\")\n",
    "        return date, r"
   ]
  },
  {
   "cell_type": "code",
   "execution_count": 49,
   "id": "4f9ede9b-7597-4e9a-a690-dd107376bd41",
   "metadata": {},
   "outputs": [],
   "source": [
    "def scrape(soup):\n",
    "    na_list = ['-',None]\n",
    "    ignore = ['RE-\\nENTRY','NEW']\n",
    "    row = []\n",
    "    for string in soup.stripped_strings:\n",
    "        if len(row) >= 6: break\n",
    "        if string in na_list:\n",
    "            row.append(np.nan)\n",
    "        elif string not in ignore:\n",
    "            row.append(string)\n",
    "    row.append(soup.find('path',fill='currentColor') is not None)\n",
    "    return float(row[0]),{\n",
    "            'song':row[1],\n",
    "            'artist':row[2],\n",
    "            'award':row[6],\n",
    "            'last_week':float(row[3]),\n",
    "            'peak_pos':float(row[4]),\n",
    "            'wks_on_chart':float(row[5])}"
   ]
  },
  {
   "cell_type": "code",
   "execution_count": 50,
   "id": "429f9848-1e0c-4f94-8c7f-cd263de81b28",
   "metadata": {},
   "outputs": [],
   "source": [
    "def get_chart(date, soup):\n",
    "    multi_idx = []\n",
    "    rows = []\n",
    "    soup_iter = (soup.main\n",
    "                 .find('div',class_='pmc-paywall')\n",
    "                 .find_all('div',class_='o-chart-results-list-row-container'))\n",
    "    \n",
    "    for container in soup_iter:\n",
    "        pos, row = scrape(container)\n",
    "        multi_idx.append((date, pos))\n",
    "        rows.append(row)\n",
    "        \n",
    "    return multi_idx, rows"
   ]
  },
  {
   "cell_type": "code",
   "execution_count": 51,
   "id": "015a82a9-032d-48dd-bc48-9e5db01d18f2",
   "metadata": {},
   "outputs": [],
   "source": [
    "def validate_args(start_dt,end_dt,num_charts):\n",
    "    if start_dt is None and num_charts is None:\n",
    "        raise Exception(\"Must provide either a start date or the number of charts\")\n",
    "\n",
    "    if end_dt is not None and end_dt > dt.datetime.today():\n",
    "        raise Exception(f\"Date range cannot extend beyond {dt.date.today()}\")\n",
    "    \n",
    "    if start_dt is not None:\n",
    "        while start_dt.weekday()!=5:\n",
    "            start_dt-=dt.timedelta(days=1)\n",
    "            \n",
    "    if end_dt is not None:\n",
    "        while end_dt.weekday()!=5:\n",
    "            start_dt+=dt.timedelta(days=1)\n",
    "    return start_dt,end_dt,num_charts\n",
    "    "
   ]
  },
  {
   "cell_type": "code",
   "execution_count": 57,
   "id": "b06fc668-aaec-45c4-9897-12ce33c316df",
   "metadata": {},
   "outputs": [],
   "source": [
    "async def compose(start_dt,end_dt, num_charts):\n",
    "    args = validate_args(start_dt,end_dt,num_charts)\n",
    "    \n",
    "    async with httpx.AsyncClient(base_url=\"https://www.billboard.com/charts/hot-100/\",\n",
    "                                 timeout=10.0) as client:\n",
    "        async with asyncio.TaskGroup() as tg:\n",
    "            tasks = [tg.create_task(\n",
    "                fetch_url(date,client)) for date in date_generator(*args)]\n",
    "\n",
    "    idx = []\n",
    "    data = []\n",
    "    async for completed in asyncio.as_completed(tasks):\n",
    "        date, r = completed.result()\n",
    "        chart_idx, chart_data = get_chart(\n",
    "            date, BeautifulSoup(r.text,\"lxml\"))\n",
    "        \n",
    "        idx+=chart_idx\n",
    "        data+=chart_data\n",
    "\n",
    "    # return idx, data\n",
    "    multi_idx = pd.MultiIndex.from_tuples(idx,names=[\"date\",\"position\"])\n",
    "    return pd.DataFrame(data,index=multi_idx).sort_values(by=[\"date\",\"position\"],ascending=[False,True])\n",
    "            "
   ]
  },
  {
   "cell_type": "code",
   "execution_count": 58,
   "id": "aa285d00-cde9-481f-ab66-5cacb0e9fe9c",
   "metadata": {},
   "outputs": [],
   "source": [
    "args = [dt.datetime.strptime(\"10-29-1995\",\"%m-%d-%Y\"),dt.datetime.strptime(\"01-01-2000\",\"%m-%d-%Y\"),None]"
   ]
  },
  {
   "cell_type": "code",
   "execution_count": 59,
   "id": "54c9446c-c58d-4fa3-a513-053a5a8d4a46",
   "metadata": {},
   "outputs": [],
   "source": [
    "df5 = await compose(*args)"
   ]
  },
  {
   "cell_type": "code",
   "execution_count": 65,
   "id": "dba93b4e-f823-4c7f-b65a-f4667baa150d",
   "metadata": {},
   "outputs": [],
   "source": [
    "with open(\"charts1995-2000.parquet\",\"wb\") as file:\n",
    "    df5.to_parquet(file,engine=\"fastparquet\")\n"
   ]
  }
 ],
 "metadata": {
  "kernelspec": {
   "display_name": "anaconda-panel-2023.05-py310",
   "language": "python",
   "name": "conda-env-anaconda-panel-2023.05-py310-py"
  },
  "language_info": {
   "codemirror_mode": {
    "name": "ipython",
    "version": 3
   },
   "file_extension": ".py",
   "mimetype": "text/x-python",
   "name": "python",
   "nbconvert_exporter": "python",
   "pygments_lexer": "ipython3",
   "version": "3.11.5"
  }
 },
 "nbformat": 4,
 "nbformat_minor": 5
}
