{
 "cells": [
  {
   "cell_type": "code",
   "execution_count": 2,
   "id": "e3d6e235",
   "metadata": {},
   "outputs": [],
   "source": [
    "import httpx\n",
    "import asyncio\n",
    "import datetime as dt\n",
    "import time\n",
    "import pylint\n",
    "from lxml import etree\n",
    "import fastparquet"
   ]
  },
  {
   "cell_type": "code",
   "execution_count": 3,
   "id": "17222905",
   "metadata": {},
   "outputs": [],
   "source": [
    "\n",
    "parser = etree.HTMLParser()"
   ]
  },
  {
   "cell_type": "code",
   "execution_count": 10,
   "id": "e3323bcb",
   "metadata": {},
   "outputs": [],
   "source": [
    "async def parse_fn(client):\n",
    "        async with client.stream('GET', 'https://www.billboard.com/charts/hot-100/1962-07-21/') as r:\n",
    "                async for chunk in r.aiter_text():\n",
    "                        parser.feed(chunk)\n",
    "                root = parser.close()\n",
    "                print(root[2])\n",
    "        "
   ]
  },
  {
   "cell_type": "code",
   "execution_count": 11,
   "id": "12051c53",
   "metadata": {},
   "outputs": [],
   "source": [
    "async def main():\n",
    "    async with httpx.AsyncClient() as client:\n",
    "        await parse_fn(client)"
   ]
  },
  {
   "cell_type": "code",
   "execution_count": 12,
   "id": "9fc75618",
   "metadata": {},
   "outputs": [
    {
     "name": "stdout",
     "output_type": "stream",
     "text": [
      "<Element body at 0x168604100>\n"
     ]
    }
   ],
   "source": [
    "await main()"
   ]
  },
  {
   "cell_type": "code",
   "execution_count": null,
   "id": "eac4e2f8",
   "metadata": {},
   "outputs": [],
   "source": []
  }
 ],
 "metadata": {
  "kernelspec": {
   "display_name": "projects-env",
   "language": "python",
   "name": "python3"
  },
  "language_info": {
   "codemirror_mode": {
    "name": "ipython",
    "version": 3
   },
   "file_extension": ".py",
   "mimetype": "text/x-python",
   "name": "python",
   "nbconvert_exporter": "python",
   "pygments_lexer": "ipython3",
   "version": "3.13.2"
  }
 },
 "nbformat": 4,
 "nbformat_minor": 5
}
