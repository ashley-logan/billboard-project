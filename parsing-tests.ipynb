{
 "cells": [
  {
   "cell_type": "code",
   "execution_count": 2,
   "id": "e3d6e235",
   "metadata": {},
   "outputs": [],
   "source": [
    "import httpx\n",
    "import asyncio\n",
    "import datetime as dt\n",
    "import time\n",
    "import pylint\n",
    "from lxml import etree\n",
    "import fastparquet"
   ]
  },
  {
   "cell_type": "code",
   "execution_count": 22,
   "id": "17222905",
   "metadata": {},
   "outputs": [],
   "source": [
    "\n",
    "parser = etree.HTMLParser()\n"
   ]
  },
  {
   "cell_type": "code",
   "execution_count": 23,
   "id": "aed39ad9",
   "metadata": {},
   "outputs": [],
   "source": [
    "def print_events(parser):\n",
    "    for action, element in parser.read_events():\n",
    "        print(f\"action: {action}, element: {element.tag}\")"
   ]
  },
  {
   "cell_type": "code",
   "execution_count": null,
   "id": "e3323bcb",
   "metadata": {},
   "outputs": [],
   "source": [
    "async def parse_fn(client):\n",
    "        async with client.stream('GET', 'https://www.billboard.com/charts/hot-100/1962-07-21/') as r:\n",
    "                async for chunk in r.aiter_text():\n",
    "                        parser.feed(chunk)\n",
    "                        \n",
    "                root = parser.close()\n",
    "        "
   ]
  },
  {
   "cell_type": "code",
   "execution_count": 25,
   "id": "12051c53",
   "metadata": {},
   "outputs": [],
   "source": [
    "async def main():\n",
    "    async with httpx.AsyncClient() as client:\n",
    "        await parse_fn(client)"
   ]
  },
  {
   "cell_type": "code",
   "execution_count": 26,
   "id": "9fc75618",
   "metadata": {},
   "outputs": [
    {
     "ename": "AttributeError",
     "evalue": "'lxml.etree.HTMLParser' object has no attribute 'read_events'",
     "output_type": "error",
     "traceback": [
      "\u001b[31m---------------------------------------------------------------------------\u001b[39m",
      "\u001b[31mAttributeError\u001b[39m                            Traceback (most recent call last)",
      "\u001b[36mCell\u001b[39m\u001b[36m \u001b[39m\u001b[32mIn[26]\u001b[39m\u001b[32m, line 1\u001b[39m\n\u001b[32m----> \u001b[39m\u001b[32m1\u001b[39m \u001b[38;5;28;01mawait\u001b[39;00m main()\n",
      "\u001b[36mCell\u001b[39m\u001b[36m \u001b[39m\u001b[32mIn[25]\u001b[39m\u001b[32m, line 3\u001b[39m, in \u001b[36mmain\u001b[39m\u001b[34m()\u001b[39m\n\u001b[32m      1\u001b[39m \u001b[38;5;28;01masync\u001b[39;00m \u001b[38;5;28;01mdef\u001b[39;00m\u001b[38;5;250m \u001b[39m\u001b[34mmain\u001b[39m():\n\u001b[32m      2\u001b[39m     \u001b[38;5;28;01masync\u001b[39;00m \u001b[38;5;28;01mwith\u001b[39;00m httpx.AsyncClient() \u001b[38;5;28;01mas\u001b[39;00m client:\n\u001b[32m----> \u001b[39m\u001b[32m3\u001b[39m         \u001b[38;5;28;01mawait\u001b[39;00m parse_fn(client)\n",
      "\u001b[36mCell\u001b[39m\u001b[36m \u001b[39m\u001b[32mIn[24]\u001b[39m\u001b[32m, line 5\u001b[39m, in \u001b[36mparse_fn\u001b[39m\u001b[34m(client)\u001b[39m\n\u001b[32m      3\u001b[39m \u001b[38;5;28;01masync\u001b[39;00m \u001b[38;5;28;01mfor\u001b[39;00m chunk \u001b[38;5;129;01min\u001b[39;00m r.aiter_text():\n\u001b[32m      4\u001b[39m         parser.feed(chunk)\n\u001b[32m----> \u001b[39m\u001b[32m5\u001b[39m         \u001b[43mprint_events\u001b[49m\u001b[43m(\u001b[49m\u001b[43mparser\u001b[49m\u001b[43m)\u001b[49m\n\u001b[32m      6\u001b[39m root = parser.close()\n",
      "\u001b[36mCell\u001b[39m\u001b[36m \u001b[39m\u001b[32mIn[23]\u001b[39m\u001b[32m, line 2\u001b[39m, in \u001b[36mprint_events\u001b[39m\u001b[34m(parser)\u001b[39m\n\u001b[32m      1\u001b[39m \u001b[38;5;28;01mdef\u001b[39;00m\u001b[38;5;250m \u001b[39m\u001b[34mprint_events\u001b[39m(parser):\n\u001b[32m----> \u001b[39m\u001b[32m2\u001b[39m     \u001b[38;5;28;01mfor\u001b[39;00m action, element \u001b[38;5;129;01min\u001b[39;00m \u001b[43mparser\u001b[49m\u001b[43m.\u001b[49m\u001b[43mread_events\u001b[49m():\n\u001b[32m      3\u001b[39m         \u001b[38;5;28mprint\u001b[39m(\u001b[33mf\u001b[39m\u001b[33m\"\u001b[39m\u001b[33maction: \u001b[39m\u001b[38;5;132;01m{\u001b[39;00maction\u001b[38;5;132;01m}\u001b[39;00m\u001b[33m, element: \u001b[39m\u001b[38;5;132;01m{\u001b[39;00melement.tag\u001b[38;5;132;01m}\u001b[39;00m\u001b[33m\"\u001b[39m)\n",
      "\u001b[31mAttributeError\u001b[39m: 'lxml.etree.HTMLParser' object has no attribute 'read_events'"
     ]
    }
   ],
   "source": [
    "await main()"
   ]
  },
  {
   "cell_type": "code",
   "execution_count": null,
   "id": "eac4e2f8",
   "metadata": {},
   "outputs": [],
   "source": []
  }
 ],
 "metadata": {
  "kernelspec": {
   "display_name": "projects-env",
   "language": "python",
   "name": "python3"
  },
  "language_info": {
   "codemirror_mode": {
    "name": "ipython",
    "version": 3
   },
   "file_extension": ".py",
   "mimetype": "text/x-python",
   "name": "python",
   "nbconvert_exporter": "python",
   "pygments_lexer": "ipython3",
   "version": "3.13.2"
  }
 },
 "nbformat": 4,
 "nbformat_minor": 5
}
